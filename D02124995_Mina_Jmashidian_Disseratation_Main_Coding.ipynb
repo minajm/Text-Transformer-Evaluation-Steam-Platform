{
  "cells": [
    {
      "cell_type": "markdown",
      "metadata": {
        "id": "view-in-github",
        "colab_type": "text"
      },
      "source": [
        "<a href=\"https://colab.research.google.com/github/minajm/Msc_Diss_Cod/blob/main/D02124995_Mina_Jmashidian_Disseratation_Main_Coding.ipynb\" target=\"_parent\"><img src=\"https://colab.research.google.com/assets/colab-badge.svg\" alt=\"Open In Colab\"/></a>"
      ]
    },
    {
      "cell_type": "markdown",
      "source": [
        "# Student Name: Mina Jamshidian \n",
        "# Student Number: D20124995"
      ],
      "metadata": {
        "id": "38B4-JV8RP68"
      },
      "id": "38B4-JV8RP68"
    },
    {
      "cell_type": "markdown",
      "source": [
        "# Installing Prerequisites"
      ],
      "metadata": {
        "id": "RsD1_ab6WPxb"
      },
      "id": "RsD1_ab6WPxb"
    },
    {
      "cell_type": "code",
      "source": [
        "# !pip3 install mxnet-cu100"
      ],
      "metadata": {
        "id": "8P6kLWPjVgo0"
      },
      "id": "8P6kLWPjVgo0",
      "execution_count": null,
      "outputs": []
    },
    {
      "cell_type": "code",
      "source": [
        "# !pip3 install bert-embedding"
      ],
      "metadata": {
        "id": "JL984jPjVi4G"
      },
      "id": "JL984jPjVi4G",
      "execution_count": null,
      "outputs": []
    },
    {
      "cell_type": "code",
      "source": [
        "# !pip3 install sentence-transformers"
      ],
      "metadata": {
        "id": "eUVRnnzyVjLc"
      },
      "id": "eUVRnnzyVjLc",
      "execution_count": null,
      "outputs": []
    },
    {
      "cell_type": "markdown",
      "source": [
        "# Improting Packages"
      ],
      "metadata": {
        "id": "UOy5S7JCXGjf"
      },
      "id": "UOy5S7JCXGjf"
    },
    {
      "cell_type": "code",
      "source": [
        "# Import necessary libraries for data analysis and visualization\n",
        "import numpy as np\n",
        "import pandas as pd\n",
        "from numpy import save, load\n",
        "import seaborn as sns\n",
        "import itertools\n",
        "import random\n",
        "import os\n",
        "import re\n",
        "import sys\n",
        "from matplotlib import pyplot as plt\n",
        "\n",
        "# Ignore warning messages\n",
        "import warnings\n",
        "warnings.filterwarnings('ignore')"
      ],
      "metadata": {
        "id": "21kipPH9Yd92"
      },
      "id": "21kipPH9Yd92",
      "execution_count": 1,
      "outputs": []
    },
    {
      "cell_type": "code",
      "execution_count": 3,
      "metadata": {
        "id": "66cb87c5"
      },
      "outputs": [],
      "source": [
        "# Import necessary libraries for machine learning and evaluation\n",
        "from sklearn.model_selection import train_test_split, GridSearchCV, RepeatedStratifiedKFold, cross_val_score\n",
        "from sklearn.feature_extraction.text import TfidfVectorizer\n",
        "from sklearn.svm import SVC\n",
        "from sklearn.metrics import f1_score, precision_score, recall_score, accuracy_score, classification_report, confusion_matrix, roc_curve, auc, ConfusionMatrixDisplay\n",
        "\n",
        "# Import additional libraries for statistical analysis and transformer models\n",
        "from scipy.stats import shapiro\n",
        "from scipy import stats \n",
        "\n",
        "# Import necessary libraries for bert and sbert\n",
        "import mxnet as mx\n",
        "from bert_embedding import BertEmbedding\n",
        "from sentence_transformers import SentenceTransformer"
      ],
      "id": "66cb87c5"
    },
    {
      "cell_type": "code",
      "source": [
        "# Import Natural Language Toolkit (nltk) library and download necessary data\n",
        "import nltk\n",
        "nltk.download('punkt')\n",
        "nltk.download('stopwords')\n",
        "nltk.download('averaged_perceptron_tagger')\n",
        "nltk.download('wordnet')\n",
        "nltk.download('omw-1.4')\n",
        "\n",
        "# Import nltk functions for tokenization and POS tagging\n",
        "from nltk.tokenize import sent_tokenize, word_tokenize \n",
        "from nltk.tag import pos_tag\n",
        "\n",
        "# Import nltk functions for text preprocessing\n",
        "from nltk.corpus import stopwords\n",
        "from nltk.stem import PorterStemmer\n",
        "from nltk.stem import WordNetLemmatizer \n",
        "from nltk.corpus import wordnet"
      ],
      "metadata": {
        "colab": {
          "base_uri": "https://localhost:8080/"
        },
        "id": "e_nYVqKhZWgU",
        "outputId": "3c3e33c9-0cd2-4308-a0fe-81a5121230ce"
      },
      "id": "e_nYVqKhZWgU",
      "execution_count": null,
      "outputs": [
        {
          "output_type": "stream",
          "name": "stderr",
          "text": [
            "[nltk_data] Downloading package punkt to /root/nltk_data...\n",
            "[nltk_data]   Unzipping tokenizers/punkt.zip.\n",
            "[nltk_data] Downloading package stopwords to /root/nltk_data...\n",
            "[nltk_data]   Unzipping corpora/stopwords.zip.\n",
            "[nltk_data] Downloading package averaged_perceptron_tagger to\n",
            "[nltk_data]     /root/nltk_data...\n",
            "[nltk_data]   Unzipping taggers/averaged_perceptron_tagger.zip.\n",
            "[nltk_data] Downloading package wordnet to /root/nltk_data...\n",
            "[nltk_data] Downloading package omw-1.4 to /root/nltk_data...\n"
          ]
        }
      ]
    },
    {
      "cell_type": "markdown",
      "source": [
        "# Importing Dataset"
      ],
      "metadata": {
        "id": "gv3T0FC7Z7Vl"
      },
      "id": "gv3T0FC7Z7Vl"
    },
    {
      "cell_type": "code",
      "execution_count": 2,
      "metadata": {
        "id": "3a4d74b1"
      },
      "outputs": [],
      "source": [
        "d = pd.read_csv('top4games.csv')"
      ],
      "id": "3a4d74b1"
    },
    {
      "cell_type": "code",
      "source": [
        "d.head(2)"
      ],
      "metadata": {
        "colab": {
          "base_uri": "https://localhost:8080/",
          "height": 292
        },
        "id": "JeEKXlTiKkHT",
        "outputId": "de77339b-7161-4ae1-c2d6-604105311ef5"
      },
      "id": "JeEKXlTiKkHT",
      "execution_count": 5,
      "outputs": [
        {
          "output_type": "execute_result",
          "data": {
            "text/plain": [
              "   Unnamed: 0  Unnamed: 0.1  app_id app_name  review_id language  \\\n",
              "0     7287921       7287922  252490     Rust   84790990  english   \n",
              "1     7289651       7289652  252490     Rust   84708092  english   \n",
              "\n",
              "                        review  timestamp_created  timestamp_updated  \\\n",
              "0  7DaysToDie is waaay better.         1610807318         1610807318   \n",
              "1   It's just the best of them         1610684730         1610684730   \n",
              "\n",
              "   recommended  ...  steam_purchase  received_for_free  \\\n",
              "0        False  ...            True              False   \n",
              "1         True  ...            True              False   \n",
              "\n",
              "   written_during_early_access     author.steamid  author.num_games_owned  \\\n",
              "0                        False  76561198100882147                     422   \n",
              "1                        False  76561198027311238                     210   \n",
              "\n",
              "   author.num_reviews  author.playtime_forever  \\\n",
              "0                 120                  24607.0   \n",
              "1                  15                 113620.0   \n",
              "\n",
              "   author.playtime_last_two_weeks  author.playtime_at_review  \\\n",
              "0                           360.0                    24404.0   \n",
              "1                             4.0                   113620.0   \n",
              "\n",
              "   author.last_played  \n",
              "0        1.610820e+09  \n",
              "1        1.610685e+09  \n",
              "\n",
              "[2 rows x 24 columns]"
            ],
            "text/html": [
              "\n",
              "  <div id=\"df-912c591d-02d2-47a8-a7e0-dfa8683e9546\">\n",
              "    <div class=\"colab-df-container\">\n",
              "      <div>\n",
              "<style scoped>\n",
              "    .dataframe tbody tr th:only-of-type {\n",
              "        vertical-align: middle;\n",
              "    }\n",
              "\n",
              "    .dataframe tbody tr th {\n",
              "        vertical-align: top;\n",
              "    }\n",
              "\n",
              "    .dataframe thead th {\n",
              "        text-align: right;\n",
              "    }\n",
              "</style>\n",
              "<table border=\"1\" class=\"dataframe\">\n",
              "  <thead>\n",
              "    <tr style=\"text-align: right;\">\n",
              "      <th></th>\n",
              "      <th>Unnamed: 0</th>\n",
              "      <th>Unnamed: 0.1</th>\n",
              "      <th>app_id</th>\n",
              "      <th>app_name</th>\n",
              "      <th>review_id</th>\n",
              "      <th>language</th>\n",
              "      <th>review</th>\n",
              "      <th>timestamp_created</th>\n",
              "      <th>timestamp_updated</th>\n",
              "      <th>recommended</th>\n",
              "      <th>...</th>\n",
              "      <th>steam_purchase</th>\n",
              "      <th>received_for_free</th>\n",
              "      <th>written_during_early_access</th>\n",
              "      <th>author.steamid</th>\n",
              "      <th>author.num_games_owned</th>\n",
              "      <th>author.num_reviews</th>\n",
              "      <th>author.playtime_forever</th>\n",
              "      <th>author.playtime_last_two_weeks</th>\n",
              "      <th>author.playtime_at_review</th>\n",
              "      <th>author.last_played</th>\n",
              "    </tr>\n",
              "  </thead>\n",
              "  <tbody>\n",
              "    <tr>\n",
              "      <th>0</th>\n",
              "      <td>7287921</td>\n",
              "      <td>7287922</td>\n",
              "      <td>252490</td>\n",
              "      <td>Rust</td>\n",
              "      <td>84790990</td>\n",
              "      <td>english</td>\n",
              "      <td>7DaysToDie is waaay better.</td>\n",
              "      <td>1610807318</td>\n",
              "      <td>1610807318</td>\n",
              "      <td>False</td>\n",
              "      <td>...</td>\n",
              "      <td>True</td>\n",
              "      <td>False</td>\n",
              "      <td>False</td>\n",
              "      <td>76561198100882147</td>\n",
              "      <td>422</td>\n",
              "      <td>120</td>\n",
              "      <td>24607.0</td>\n",
              "      <td>360.0</td>\n",
              "      <td>24404.0</td>\n",
              "      <td>1.610820e+09</td>\n",
              "    </tr>\n",
              "    <tr>\n",
              "      <th>1</th>\n",
              "      <td>7289651</td>\n",
              "      <td>7289652</td>\n",
              "      <td>252490</td>\n",
              "      <td>Rust</td>\n",
              "      <td>84708092</td>\n",
              "      <td>english</td>\n",
              "      <td>It's just the best of them</td>\n",
              "      <td>1610684730</td>\n",
              "      <td>1610684730</td>\n",
              "      <td>True</td>\n",
              "      <td>...</td>\n",
              "      <td>True</td>\n",
              "      <td>False</td>\n",
              "      <td>False</td>\n",
              "      <td>76561198027311238</td>\n",
              "      <td>210</td>\n",
              "      <td>15</td>\n",
              "      <td>113620.0</td>\n",
              "      <td>4.0</td>\n",
              "      <td>113620.0</td>\n",
              "      <td>1.610685e+09</td>\n",
              "    </tr>\n",
              "  </tbody>\n",
              "</table>\n",
              "<p>2 rows × 24 columns</p>\n",
              "</div>\n",
              "      <button class=\"colab-df-convert\" onclick=\"convertToInteractive('df-912c591d-02d2-47a8-a7e0-dfa8683e9546')\"\n",
              "              title=\"Convert this dataframe to an interactive table.\"\n",
              "              style=\"display:none;\">\n",
              "        \n",
              "  <svg xmlns=\"http://www.w3.org/2000/svg\" height=\"24px\"viewBox=\"0 0 24 24\"\n",
              "       width=\"24px\">\n",
              "    <path d=\"M0 0h24v24H0V0z\" fill=\"none\"/>\n",
              "    <path d=\"M18.56 5.44l.94 2.06.94-2.06 2.06-.94-2.06-.94-.94-2.06-.94 2.06-2.06.94zm-11 1L8.5 8.5l.94-2.06 2.06-.94-2.06-.94L8.5 2.5l-.94 2.06-2.06.94zm10 10l.94 2.06.94-2.06 2.06-.94-2.06-.94-.94-2.06-.94 2.06-2.06.94z\"/><path d=\"M17.41 7.96l-1.37-1.37c-.4-.4-.92-.59-1.43-.59-.52 0-1.04.2-1.43.59L10.3 9.45l-7.72 7.72c-.78.78-.78 2.05 0 2.83L4 21.41c.39.39.9.59 1.41.59.51 0 1.02-.2 1.41-.59l7.78-7.78 2.81-2.81c.8-.78.8-2.07 0-2.86zM5.41 20L4 18.59l7.72-7.72 1.47 1.35L5.41 20z\"/>\n",
              "  </svg>\n",
              "      </button>\n",
              "      \n",
              "  <style>\n",
              "    .colab-df-container {\n",
              "      display:flex;\n",
              "      flex-wrap:wrap;\n",
              "      gap: 12px;\n",
              "    }\n",
              "\n",
              "    .colab-df-convert {\n",
              "      background-color: #E8F0FE;\n",
              "      border: none;\n",
              "      border-radius: 50%;\n",
              "      cursor: pointer;\n",
              "      display: none;\n",
              "      fill: #1967D2;\n",
              "      height: 32px;\n",
              "      padding: 0 0 0 0;\n",
              "      width: 32px;\n",
              "    }\n",
              "\n",
              "    .colab-df-convert:hover {\n",
              "      background-color: #E2EBFA;\n",
              "      box-shadow: 0px 1px 2px rgba(60, 64, 67, 0.3), 0px 1px 3px 1px rgba(60, 64, 67, 0.15);\n",
              "      fill: #174EA6;\n",
              "    }\n",
              "\n",
              "    [theme=dark] .colab-df-convert {\n",
              "      background-color: #3B4455;\n",
              "      fill: #D2E3FC;\n",
              "    }\n",
              "\n",
              "    [theme=dark] .colab-df-convert:hover {\n",
              "      background-color: #434B5C;\n",
              "      box-shadow: 0px 1px 3px 1px rgba(0, 0, 0, 0.15);\n",
              "      filter: drop-shadow(0px 1px 2px rgba(0, 0, 0, 0.3));\n",
              "      fill: #FFFFFF;\n",
              "    }\n",
              "  </style>\n",
              "\n",
              "      <script>\n",
              "        const buttonEl =\n",
              "          document.querySelector('#df-912c591d-02d2-47a8-a7e0-dfa8683e9546 button.colab-df-convert');\n",
              "        buttonEl.style.display =\n",
              "          google.colab.kernel.accessAllowed ? 'block' : 'none';\n",
              "\n",
              "        async function convertToInteractive(key) {\n",
              "          const element = document.querySelector('#df-912c591d-02d2-47a8-a7e0-dfa8683e9546');\n",
              "          const dataTable =\n",
              "            await google.colab.kernel.invokeFunction('convertToInteractive',\n",
              "                                                     [key], {});\n",
              "          if (!dataTable) return;\n",
              "\n",
              "          const docLinkHtml = 'Like what you see? Visit the ' +\n",
              "            '<a target=\"_blank\" href=https://colab.research.google.com/notebooks/data_table.ipynb>data table notebook</a>'\n",
              "            + ' to learn more about interactive tables.';\n",
              "          element.innerHTML = '';\n",
              "          dataTable['output_type'] = 'display_data';\n",
              "          await google.colab.output.renderOutput(dataTable, element);\n",
              "          const docLink = document.createElement('div');\n",
              "          docLink.innerHTML = docLinkHtml;\n",
              "          element.appendChild(docLink);\n",
              "        }\n",
              "      </script>\n",
              "    </div>\n",
              "  </div>\n",
              "  "
            ]
          },
          "metadata": {},
          "execution_count": 5
        }
      ]
    },
    {
      "cell_type": "code",
      "source": [
        "sns.set_theme(style=\"whitegrid\")\n",
        "sns.set(rc={'figure.figsize':(11.7,8.27)})\n",
        "\n",
        "# Create a countplot\n",
        "sns.countplot(data=d, x=\"app_name\")"
      ],
      "metadata": {
        "colab": {
          "base_uri": "https://localhost:8080/",
          "height": 534
        },
        "id": "DJCvF-3_PigV",
        "outputId": "3246a6c3-ef24-422a-8944-84d594aaeebe"
      },
      "id": "DJCvF-3_PigV",
      "execution_count": 22,
      "outputs": [
        {
          "output_type": "execute_result",
          "data": {
            "text/plain": [
              "<matplotlib.axes._subplots.AxesSubplot at 0x7fbe6c8adc10>"
            ]
          },
          "metadata": {},
          "execution_count": 22
        },
        {
          "output_type": "display_data",
          "data": {
            "text/plain": [
              "<Figure size 842.4x595.44 with 1 Axes>"
            ],
            "image/png": "[encoded data removed]"
          },
          "metadata": {}
        }
      ]
    },
    {
      "cell_type": "markdown",
      "source": [
        "# Data Preparation"
      ],
      "metadata": {
        "id": "lqFtH8z4fyGN"
      },
      "id": "lqFtH8z4fyGN"
    },
    {
      "cell_type": "markdown",
      "source": [
        "## Handling Missing Data"
      ],
      "metadata": {
        "id": "2iMOsIrYeRlz"
      },
      "id": "2iMOsIrYeRlz"
    },
    {
      "cell_type": "code",
      "execution_count": 10,
      "metadata": {
        "id": "te2kR6OwSf_v"
      },
      "outputs": [],
      "source": [
        "# Drop any rows with missing values\n",
        "d=d.dropna()"
      ],
      "id": "te2kR6OwSf_v"
    },
    {
      "cell_type": "code",
      "execution_count": 11,
      "metadata": {
        "colab": {
          "base_uri": "https://localhost:8080/"
        },
        "id": "0d44544f",
        "outputId": "28b5ef84-05ff-44d7-c25b-17a358bfcb18"
      },
      "outputs": [
        {
          "output_type": "execute_result",
          "data": {
            "text/plain": [
              "(25406, 24)"
            ]
          },
          "metadata": {},
          "execution_count": 11
        }
      ],
      "source": [
        "d.shape"
      ],
      "id": "0d44544f"
    },
    {
      "cell_type": "code",
      "execution_count": 12,
      "metadata": {
        "id": "9534b697"
      },
      "outputs": [],
      "source": [
        "data = d.copy()"
      ],
      "id": "9534b697"
    },
    {
      "cell_type": "code",
      "execution_count": 13,
      "metadata": {
        "id": "9d7f1d82"
      },
      "outputs": [],
      "source": [
        "# Select the 'review' and 'recommended' columns from the data DataFrame and store them in a new DataFrame called 'df_goal'\n",
        "df_goal = data[['review', 'recommended']]"
      ],
      "id": "9d7f1d82"
    },
    {
      "cell_type": "markdown",
      "source": [
        "##Data Type Conversion"
      ],
      "metadata": {
        "id": "Q6WKQw2gd4mi"
      },
      "id": "Q6WKQw2gd4mi"
    },
    {
      "cell_type": "code",
      "execution_count": null,
      "metadata": {
        "id": "cb85165a"
      },
      "outputs": [],
      "source": [
        "# Replace the boolean values in the 'recommended' column of the 'df_goal' DataFrame with 0 and 1\n",
        "df_goal['recommended'].replace({False: 0, True: 1}, inplace=True)"
      ],
      "id": "cb85165a"
    },
    {
      "cell_type": "code",
      "execution_count": null,
      "metadata": {
        "colab": {
          "base_uri": "https://localhost:8080/"
        },
        "id": "b4ff36ee",
        "outputId": "2fd517b1-879f-4fa4-be08-d8aee68fba5d"
      },
      "outputs": [
        {
          "output_type": "execute_result",
          "data": {
            "text/plain": [
              "review         object\n",
              "recommended     int64\n",
              "dtype: object"
            ]
          },
          "metadata": {},
          "execution_count": 40
        }
      ],
      "source": [
        "# Convert the 'review' column of the 'df_goal' DataFrame to a string data type\n",
        "df_goal['review'] = df_goal['review'].astype('str')\n",
        "df_goal.dtypes"
      ],
      "id": "b4ff36ee"
    },
    {
      "cell_type": "markdown",
      "source": [
        "\n",
        "\n",
        "## Data Splitting to Train & Test"
      ],
      "metadata": {
        "id": "q_wE_EXyngbB"
      },
      "id": "q_wE_EXyngbB"
    },
    {
      "cell_type": "markdown",
      "source": [
        "After the extraction of the target data, it would be divided by train_test_split from Sklearn:"
      ],
      "metadata": {
        "id": "jiBXfdyQmaGx"
      },
      "id": "jiBXfdyQmaGx"
    },
    {
      "cell_type": "code",
      "execution_count": null,
      "metadata": {
        "id": "2136fa7a"
      },
      "outputs": [],
      "source": [
        "# Spliting data to train & test by train_test_split\n",
        "train_data, test_data = train_test_split(df_goal, test_size=0.2, random_state=42, shuffle=True)"
      ],
      "id": "2136fa7a"
    },
    {
      "cell_type": "code",
      "execution_count": null,
      "metadata": {
        "colab": {
          "base_uri": "https://localhost:8080/"
        },
        "id": "fa246fa1",
        "outputId": "9a9a781d-c7cd-4ec8-8249-a591be111ebf"
      },
      "outputs": [
        {
          "output_type": "stream",
          "name": "stdout",
          "text": [
            "Train Data Shape Befor cleaning: (20324, 2)\n",
            "Test Data Shape Befor cleaning: (5082, 2)\n"
          ]
        }
      ],
      "source": [
        "print('Train Data Shape Befor cleaning:',train_data.shape)\n",
        "print('Test Data Shape Befor cleaning:',test_data.shape)"
      ],
      "id": "fa246fa1"
    },
    {
      "cell_type": "markdown",
      "source": [
        "## Text Preprocessing"
      ],
      "metadata": {
        "id": "UAvLo_tEUKZP"
      },
      "id": "UAvLo_tEUKZP"
    },
    {
      "cell_type": "markdown",
      "source": [
        "\n",
        "###Lowercasing, Removing of Punctuation & Fixing structural errors\n"
      ],
      "metadata": {
        "id": "7Y1sppbgbaW3"
      },
      "id": "7Y1sppbgbaW3"
    },
    {
      "cell_type": "code",
      "execution_count": null,
      "metadata": {
        "id": "4e7af0de"
      },
      "outputs": [],
      "source": [
        "def ReviewCleaning(review):\n",
        "    \"\"\"\n",
        "    Preprocess a review to prepare it for analysis with TF-IDF, BERT, or SBERT.\n",
        "    \"\"\"\n",
        "    # Lowercase the review\n",
        "    review = review.strip().lower()\n",
        "    # Expand contractions    \n",
        "    review = re.sub(r\"can't\", \"can not\", review)\n",
        "    review = re.sub(r\"'ve\", \" have\", review)\n",
        "    review = re.sub(r\"'re\", \" are\", review)\n",
        "    review = re.sub(r\"n't\", \" not\", review)\n",
        "    review = re.sub(r\"won't\", \"will not\", review)\n",
        "    review = re.sub(r\"'ll\", \" will\", review)\n",
        "    \n",
        "    # For TF-IDF , remove numbers and hyphens\n",
        "    if review_transfomer is not 'BERT_WS':\n",
        "        review = re.sub(r\"[0-9]+\", ' ', review)\n",
        "        review = re.sub(r\"-\", ' ', review)\n",
        "    \n",
        "    # For BERT and SBERT, replace punctuation with spaces, \n",
        "    # For the purpose of detecting the end of a sentence, these two marks were saved (\"!\"\", \"?\"\")\n",
        "    if review_transfomer is 'BERT_WS':\n",
        "        punctuations='\"#$%&*+<=>@[\\\\]^_`{|}~\\t\\n'\n",
        "        review = re.sub(r'\\!+', '!', review)\n",
        "        review = re.sub(r'\\?+', '?', review)\n",
        "    else:\n",
        "        # For TF-IDF, remove punctuation\n",
        "        punctuations='!\"\\'#$%&()*+,-./:;<=>?@[\\\\]^_`{|}~\\t\\n'\n",
        "    \n",
        "    # Replace punctuation with spaces\n",
        "    dict_trans = dict((w, \" \") for w in punctuations)\n",
        "    map_trans = str.maketrans(dict_trans)\n",
        "    review = review.translate(map_trans)\n",
        "\n",
        "    # For TF-IDF, Remove single-letter words\n",
        "    if review_transfomer is not 'BERT_WS':\n",
        "        review = ' '.join([z for z in review.split() if len(z)>1])    \n",
        "   \n",
        "    # For BERT & SBERT, remove parentheses\n",
        "    if review_transfomer is 'BERT_WS':\n",
        "        review = re.sub(r'\\( *\\)', ' ', review)\n",
        "\n",
        "    # Multi-spaces that exist in review for TF-IDF, BERT & SBERT removed and replaced with a single space\n",
        "    review = re.sub(' +', ' ', review)    \n",
        "    review = ''.join(review)\n",
        "\n",
        "    return review"
      ],
      "id": "4e7af0de"
    },
    {
      "cell_type": "markdown",
      "source": [
        "#### Adding \"clean_review\" Column to Trian & Test Dataset"
      ],
      "metadata": {
        "id": "x-OLLAB3oAkP"
      },
      "id": "x-OLLAB3oAkP"
    },
    {
      "cell_type": "code",
      "execution_count": null,
      "metadata": {
        "id": "3353586c"
      },
      "outputs": [],
      "source": [
        "review_transfomer = ''\n",
        "# Preprocess the reviews in the training data\n",
        "train_data['prep_review'] = train_data['review'].apply(ReviewCleaning)\n",
        "# Preprocess the reviews in the test data\n",
        "test_data['prep_review'] = test_data['review'].apply(ReviewCleaning)"
      ],
      "id": "3353586c"
    },
    {
      "cell_type": "markdown",
      "source": [
        "### Stemming and Lemmatization\n",
        "Adding 'clean_review_normalized' column to train & test dataset"
      ],
      "metadata": {
        "id": "7leu2D3KoRJC"
      },
      "id": "7leu2D3KoRJC"
    },
    {
      "cell_type": "code",
      "source": [
        "def POSTagNormLemStem(review):\n",
        "    \"\"\"\n",
        "    Perform part-of-speech tagging, lemmatization, and stemming on a review.\n",
        "    \"\"\"\n",
        "    # Tokenize the review\n",
        "    wordList = word_tokenize(review)\n",
        "    stemm = PorterStemmer() \n",
        "    lemm = WordNetLemmatizer()\n",
        "    rvw = []\n",
        "\n",
        "    # Perform lemmatization and stemming based on part-of-speech tagging\n",
        "    for word, tag in pos_tag(wordList):\n",
        "        if tag.startswith('J'):\n",
        "            w = lemm.lemmatize(word, pos='a')\n",
        "        elif tag.startswith('V'):\n",
        "            w = lemm.lemmatize(word, pos='v')\n",
        "        elif tag.startswith('N'):\n",
        "            w = lemm.lemmatize(word, pos='n')\n",
        "        elif tag.startswith('R'):\n",
        "            w = lemm.lemmatize(word, pos='r')\n",
        "        else:\n",
        "            w = word\n",
        "        w = stemm.stem(w)\n",
        "        rvw.append(w)\n",
        "    \n",
        "    # Join the processed words into a single string\n",
        "    Norm_review = ' '.join(rvw)\n",
        "    return Norm_review\n"
      ],
      "metadata": {
        "id": "HSZlH3dflmO3"
      },
      "id": "HSZlH3dflmO3",
      "execution_count": null,
      "outputs": []
    },
    {
      "cell_type": "markdown",
      "source": [
        "#### Adding \"clean_review_normalized\" Column to Trian & Test Dataset for TF-IDF"
      ],
      "metadata": {
        "id": "FbhsW2RbjTGJ"
      },
      "id": "FbhsW2RbjTGJ"
    },
    {
      "cell_type": "code",
      "execution_count": null,
      "metadata": {
        "id": "b4c1ac8c"
      },
      "outputs": [],
      "source": [
        "# Preprocess the reviews in the training data for use with TF-IDF\n",
        "train_data['prep_review_tfidf'] = train_data['prep_review'].apply(POSTagNormLemStem)\n",
        "# Preprocess the reviews in the test data for use with TF-IDF\n",
        "test_data['prep_review_tfidf'] = test_data['prep_review'].apply(POSTagNormLemStem)"
      ],
      "id": "b4c1ac8c"
    },
    {
      "cell_type": "markdown",
      "metadata": {
        "id": "bfbecfca"
      },
      "source": [
        "### Removing Low Frequency words\n",
        "Find words that have been repeated less than 5 times in the entire dataset."
      ],
      "id": "bfbecfca"
    },
    {
      "cell_type": "code",
      "execution_count": null,
      "metadata": {
        "id": "538bb5b7"
      },
      "outputs": [],
      "source": [
        "# Identify low-frequency words in the training data\n",
        "train_low_frq = pd.Series(' '.join(train_data['prep_review_tfidf']).split()).value_counts()\n",
        "# Identify words in the training data that occur less than 5 times\n",
        "train_less5_frq = train_low_frq[(train_low_frq <5)]\n",
        "\n",
        "# Identify low-frequency words in the test data\n",
        "test_low_frq = pd.Series(' '.join(test_data['prep_review_tfidf']).split()).value_counts()\n",
        "# Identify words in the test data that occur less than 5 times\n",
        "test_less5_frq = test_low_frq[(test_low_frq <5)]"
      ],
      "id": "538bb5b7"
    },
    {
      "cell_type": "markdown",
      "metadata": {
        "id": "2f2a5c66"
      },
      "source": [
        "This effectively decreases the dimensions of TF-IDF vectors."
      ],
      "id": "2f2a5c66"
    },
    {
      "cell_type": "code",
      "execution_count": null,
      "metadata": {
        "id": "cf00c6ba"
      },
      "outputs": [],
      "source": [
        "# Remove low-frequency words from the preprocessed reviews in the training data\n",
        "train_data['prep_review_tfidf'] = train_data['prep_review_tfidf'].apply(\n",
        "    lambda x: ' '.join(x for x in x.split() if x not in train_less5_frq))\n",
        "# Remove low-frequency words from the preprocessed reviews in the test data\n",
        "test_data['prep_review_tfidf'] = test_data['prep_review_tfidf'].apply(\n",
        "    lambda x: ' '.join(x for x in x.split() if x not in test_less5_frq))"
      ],
      "id": "cf00c6ba"
    },
    {
      "cell_type": "markdown",
      "source": [
        "#### Adding \"clean_review_bert\" to Train and Test Dataset for BERT & SBERT"
      ],
      "metadata": {
        "id": "au0gfgDBrAge"
      },
      "id": "au0gfgDBrAge"
    },
    {
      "cell_type": "code",
      "execution_count": null,
      "metadata": {
        "id": "8a6bb94e"
      },
      "outputs": [],
      "source": [
        "# For BERT and SBERT\n",
        "review_transfomer = 'BERT_WS'\n",
        "train_data['prep_review_bert_sbert'] = train_data['review'].apply(ReviewCleaning)\n",
        "test_data['prep_review_bert_sbert'] = test_data['review'].apply(ReviewCleaning)"
      ],
      "id": "8a6bb94e"
    },
    {
      "cell_type": "markdown",
      "source": [
        "### Test of Cleaning Review\n"
      ],
      "metadata": {
        "id": "Wfli_02drZA5"
      },
      "id": "Wfli_02drZA5"
    },
    {
      "cell_type": "code",
      "source": [
        "print(\"\\nA review example of dataset before prperation and  cleaning:\", end=\"\\n\\n\")\n",
        "print(train_data.iloc[4]['review'], end='\\n\\n\\n')\n",
        "\n",
        "print(\"Initial review prepration for TF-IDF, BERT & SBERT (prep_review):\", end=\"\\n\\n\")\n",
        "print(train_data.iloc[4]['prep_review'], end=\"\\n\\n\\n\")\n",
        "\n",
        "print(\"Review prepration for TF-IDF (prep_review_tfidf):\", end=\"\\n\\n\")\n",
        "print(train_data.iloc[4]['prep_review_tfidf'], end=\"\\n\\n\\n\")\n",
        "\n",
        "print(\"Review prepration for BERT & SBERT (prep_review_bert_sbert):\", end=\"\\n\\n\")\n",
        "print(train_data.iloc[4]['prep_review_bert_sbert'], end=\"\\n\\n\\n\")"
      ],
      "metadata": {
        "colab": {
          "base_uri": "https://localhost:8080/"
        },
        "id": "fCWqX9HmWgxd",
        "outputId": "ad90facf-65fa-4250-f2d9-5cb79fd9c461"
      },
      "id": "fCWqX9HmWgxd",
      "execution_count": 21,
      "outputs": [
        {
          "output_type": "stream",
          "name": "stdout",
          "text": [
            "\n",
            "A review example of dataset before prperation and  cleaning:\n",
            "\n",
            "This game is super toxic and it takes a lot of time to find a group who isnt toxic. unless youre playing on a pve server or with a group, dont.\n",
            "\n",
            "\n",
            "Initial review prepration for TF-IDF, BERT & SBERT (prep_review):\n",
            "\n",
            "this game is super toxic and it takes lot of time to find group who isnt toxic unless youre playing on pve server or with group dont\n",
            "\n",
            "\n",
            "Review prepration for TF-IDF (prep_review_tfidf):\n",
            "\n",
            "thi game be super toxic and it take lot of time to find group who isnt toxic unless your play on pve server or with group dont\n",
            "\n",
            "\n",
            "Review prepration for BERT & SBERT (prep_review_bert_sbert):\n",
            "\n",
            "this game is super toxic and it takes a lot of time to find a group who isnt toxic. unless youre playing on a pve server or with a group, dont.\n",
            "\n",
            "\n"
          ]
        }
      ]
    },
    {
      "cell_type": "markdown",
      "source": [
        "### Final Cleaning"
      ],
      "metadata": {
        "id": "yPLR04sOsLgG"
      },
      "id": "yPLR04sOsLgG"
    },
    {
      "cell_type": "code",
      "execution_count": null,
      "metadata": {
        "id": "43d75891"
      },
      "outputs": [],
      "source": [
        "# Replace empty strings with NaN values in the training data\n",
        "nan_value = float(\"NaN\")\n",
        "train_data.replace(\"\", nan_value, inplace=True)\n",
        "# Drop rows with NaN values in the training data\n",
        "train_data = train_data.dropna()"
      ],
      "id": "43d75891"
    },
    {
      "cell_type": "code",
      "source": [
        "# Replace empty strings with NaN values in the test data\n",
        "nan_value = float(\"NaN\")\n",
        "test_data.replace(\"\", nan_value, inplace=True)\n",
        "# Drop rows with NaN values in the test data\n",
        "test_data = test_data.dropna()"
      ],
      "metadata": {
        "id": "wyfFCOfVsXH2"
      },
      "id": "wyfFCOfVsXH2",
      "execution_count": null,
      "outputs": []
    },
    {
      "cell_type": "code",
      "execution_count": null,
      "metadata": {
        "colab": {
          "base_uri": "https://localhost:8080/"
        },
        "id": "Um6c01FHP7Q-",
        "outputId": "adc0c589-7dcd-4155-fc98-f0102ffc2e84"
      },
      "outputs": [
        {
          "output_type": "stream",
          "name": "stdout",
          "text": [
            "Train Data Shape: (19841, 5)\n",
            "Test Data Shape: (4929, 5)\n"
          ]
        }
      ],
      "source": [
        "print('Train Data Shape:',train_data.shape)\n",
        "print('Test Data Shape:',test_data.shape)"
      ],
      "id": "Um6c01FHP7Q-"
    },
    {
      "cell_type": "code",
      "execution_count": null,
      "metadata": {
        "id": "mUM8H7fHs0pd"
      },
      "outputs": [],
      "source": [
        "# Create a new column in the training data that counts the number of unique words in each review\n",
        "train_data['len'] = train_data['prep_review_tfidf'].map(lambda x: len(set(x)))"
      ],
      "id": "mUM8H7fHs0pd"
    },
    {
      "cell_type": "code",
      "execution_count": null,
      "metadata": {
        "id": "Y7kFg7H0s0pe"
      },
      "outputs": [],
      "source": [
        "# Drop rows from the training data that have less than 3 unique words\n",
        "train_data = train_data.drop(train_data[train_data['len'] < 3].index)"
      ],
      "id": "Y7kFg7H0s0pe"
    },
    {
      "cell_type": "code",
      "execution_count": null,
      "metadata": {
        "id": "xQddZj32s0pf"
      },
      "outputs": [],
      "source": [
        "# Create a new column in the test data that counts the number of unique words in each review\n",
        "test_data['len'] = test_data['prep_review_tfidf'].map(lambda x: len(set(x)))"
      ],
      "id": "xQddZj32s0pf"
    },
    {
      "cell_type": "code",
      "execution_count": null,
      "metadata": {
        "id": "y8NhKQhVs0pf"
      },
      "outputs": [],
      "source": [
        "# Drop rows from the test data that have less than 3 unique words\n",
        "test_data = test_data.drop(test_data[test_data['len'] < 3].index)"
      ],
      "id": "y8NhKQhVs0pf"
    },
    {
      "cell_type": "code",
      "source": [
        "print('Final Train Data Shape:',train_data.shape)\n",
        "print('Final Test Data Shape:',test_data.shape)"
      ],
      "metadata": {
        "colab": {
          "base_uri": "https://localhost:8080/"
        },
        "id": "0rxzBkZZtFjj",
        "outputId": "fe2a9efb-f2a8-4192-a6ba-9413a3df18ba"
      },
      "id": "0rxzBkZZtFjj",
      "execution_count": null,
      "outputs": [
        {
          "output_type": "stream",
          "name": "stdout",
          "text": [
            "Final Train Data Shape: (19517, 6)\n",
            "Final Test Data Shape: (4849, 6) 4849\n"
          ]
        }
      ]
    },
    {
      "cell_type": "markdown",
      "source": [
        "## Save Final Train & Test Data For Modeling Part"
      ],
      "metadata": {
        "id": "4GCifOYCt8ps"
      },
      "id": "4GCifOYCt8ps"
    },
    {
      "cell_type": "code",
      "source": [
        "train_data.to_csv('train.csv')\n",
        "test_data.to_csv('test.csv')"
      ],
      "metadata": {
        "id": "xI5fE27ctt5b"
      },
      "id": "xI5fE27ctt5b",
      "execution_count": 14,
      "outputs": []
    },
    {
      "cell_type": "markdown",
      "source": [
        "# Improting Train & Test Data"
      ],
      "metadata": {
        "id": "3y3lbGfNBNLa"
      },
      "id": "3y3lbGfNBNLa"
    },
    {
      "cell_type": "code",
      "source": [
        "train_data = pd.read_csv('train.csv')\n",
        "test_data = pd.read_csv('test.csv')"
      ],
      "metadata": {
        "id": "v8TlLzVWBnCM"
      },
      "id": "v8TlLzVWBnCM",
      "execution_count": 4,
      "outputs": []
    },
    {
      "cell_type": "code",
      "source": [
        "# train_data.head(2)"
      ],
      "metadata": {
        "id": "pdtNl3sAWGnv"
      },
      "id": "pdtNl3sAWGnv",
      "execution_count": 1,
      "outputs": []
    },
    {
      "cell_type": "code",
      "source": [
        "# test_data.head(2)"
      ],
      "metadata": {
        "id": "y5iYKTMaVq9V"
      },
      "id": "y5iYKTMaVq9V",
      "execution_count": 2,
      "outputs": []
    },
    {
      "cell_type": "markdown",
      "metadata": {
        "id": "ad788f93"
      },
      "source": [
        "# TFIDF, BERT & SBERT Text Transformer + SVM Classifier"
      ],
      "id": "ad788f93"
    },
    {
      "cell_type": "markdown",
      "source": [
        "## Text Transformer"
      ],
      "metadata": {
        "id": "-yoyqMV8E3DL"
      },
      "id": "-yoyqMV8E3DL"
    },
    {
      "cell_type": "markdown",
      "source": [
        "### TFIDF"
      ],
      "metadata": {
        "id": "UA1RjDkZFBNa"
      },
      "id": "UA1RjDkZFBNa"
    },
    {
      "cell_type": "code",
      "execution_count": 7,
      "metadata": {
        "id": "2e34e007"
      },
      "outputs": [],
      "source": [
        "# Set the review transformer to use Tf-Idf vectorization\n",
        "review_transfomer = 'TFIDF'\n",
        "\n",
        "# Initialize a Tf-Idf vectorizer with n-grams ranging from 1 to 2 and a maximum of 16000 features\n",
        "vectorizer = TfidfVectorizer(ngram_range=(1, 2), max_features=16000)\n",
        "\n",
        "# Use the vectorizer to transform the training and test data\n",
        "tfidf_features_train = vectorizer.fit_transform(train_data[\"prep_review_tfidf\"])    \n",
        "tfidf_features_test = vectorizer.transform(test_data[\"prep_review_tfidf\"])"
      ],
      "id": "2e34e007"
    },
    {
      "cell_type": "code",
      "source": [
        "print(\"tfidf_features_train\",tfidf_features_train.shape)\n",
        "print(\"tfidf_features_train\",tfidf_features_test.shape)"
      ],
      "metadata": {
        "colab": {
          "base_uri": "https://localhost:8080/"
        },
        "id": "0w8u_iO4B-Mb",
        "outputId": "3b19680d-87df-4793-8b2f-b987fe46136f"
      },
      "id": "0w8u_iO4B-Mb",
      "execution_count": 8,
      "outputs": [
        {
          "output_type": "stream",
          "name": "stdout",
          "text": [
            "tfidf_features_train (19517, 16000)\n",
            "tfidf_features_train (4849, 16000)\n"
          ]
        }
      ]
    },
    {
      "cell_type": "markdown",
      "source": [
        "### BERT & SBERT"
      ],
      "metadata": {
        "id": "B2fwpgdGFnoJ"
      },
      "id": "B2fwpgdGFnoJ"
    },
    {
      "cell_type": "code",
      "execution_count": null,
      "metadata": {
        "colab": {
          "base_uri": "https://localhost:8080/"
        },
        "id": "pImUytui09A2",
        "outputId": "7caac9ed-ee91-4488-9372-85c39c8dac27"
      },
      "outputs": [
        {
          "output_type": "stream",
          "name": "stdout",
          "text": [
            "Vocab file is not found. Downloading.\n",
            "Downloading /root/.mxnet/models/book_corpus_wiki_en_uncased-a6607397.zip from https://apache-mxnet.s3-accelerate.dualstack.amazonaws.com/gluon/dataset/vocab/book_corpus_wiki_en_uncased-a6607397.zip...\n",
            "Downloading /root/.mxnet/models/bert_12_768_12_book_corpus_wiki_en_uncased-75cc780f.zip from https://apache-mxnet.s3-accelerate.dualstack.amazonaws.com/gluon/models/bert_12_768_12_book_corpus_wiki_en_uncased-75cc780f.zip...\n"
          ]
        }
      ],
      "source": [
        "# Set the context to the first CPU\n",
        "ctx = mx.cpu(0)\n",
        "# Create a BertEmbedding object with the specified context\n",
        "bert = BertEmbedding(ctx=ctx)"
      ],
      "id": "pImUytui09A2"
    },
    {
      "cell_type": "code",
      "execution_count": null,
      "metadata": {
        "id": "86c522a1"
      },
      "outputs": [],
      "source": [
        "review_transfomer = 'BERT'"
      ],
      "id": "86c522a1"
    },
    {
      "cell_type": "code",
      "execution_count": null,
      "metadata": {
        "id": "KYfQkJBH7YEq"
      },
      "outputs": [],
      "source": [
        "# for using BERT & SBERT : Define a function that returns the mean of a list of numbers\n",
        "\n",
        "def MeanBertSBERT(i): \n",
        "    return sum(itertools.chain(i))/len(i)"
      ],
      "id": "KYfQkJBH7YEq"
    },
    {
      "cell_type": "code",
      "execution_count": null,
      "metadata": {
        "colab": {
          "base_uri": "https://localhost:8080/",
          "height": 433,
          "referenced_widgets": [
            "b8b579a94c314e45b39d26fcf8a1d038",
            "6c16a7aebc9e475587e522d79ebb42ff",
            "4f2a562dbae54545be7d79f3933b6458",
            "2461b4ab0c05487b883c160915b53b2f",
            "9596212d08ea443a99e0462f4a5a7c89",
            "fdeee2353db246d09b3b7a0ec1703d96",
            "b1d5c644c7f948569f0c0bb0ad4c4737",
            "c564f9ca62014251bf16c5bf5610dfb4",
            "4ca3c06ce2974ec5b8ca0a32f8bab64d",
            "9dd1d65d76814d81850f57b34a493d1a",
            "615d889a2feb4da1b714d8e4e08705a2",
            "4faced6dbcc34fb491dfc37885d58cca",
            "960a309bc9ad42f8b60647a5b1f857d5",
            "c62ed35e9f7a4f92952f5dba5067194d",
            "0601776db21d4be4909e51a14f7fdcd7",
            "1e37322634624fa7b341d9d347a44104",
            "364680f9ca854277abe1ea91b0e6643e",
            "006aa30e147c4b3b959b4ac778185382",
            "657cd37432d64786860e041dcb2fb2cd",
            "3e1eb46f428b4c84a37670fb749e3ebc",
            "db8c0e44a6fa4909b762aa723c845fbd",
            "5470ae3076e54fbd9889f1509d48998e",
            "948b5ee3d3904f5c8113caf8b4686dcb",
            "61304e2a16274b498dbd857ebf12f056",
            "afd97798dd314931bec16ac1a877d402",
            "38214a1300914bc98d05eaf0206b01d3",
            "aeb1072028514d3f8fc9596954399e71",
            "d8b543f954f94554873039c6c336b1dd",
            "975c12e2ab08405089727da924fa4bd4",
            "2aa7b9c22c2348d1bcc9c81f9f39d526",
            "baad325fee16454abda451f15848b1b4",
            "df0539ceb2d9490bb811207db4f5901f",
            "d48f099fb1ca47fc966bc0f62bcc90c7",
            "64b8680edcad4fe4af87a155a31758dc",
            "af631cf511964913b07cd7290f7d478a",
            "2a732efaff0048b988dd0f1f520f4e40",
            "76eee2cfd06b4c5b911b48bbe44b6542",
            "047d2e41bd42418d9d0f2b3e8b64621d",
            "ac8d26440cc246a99284c94761042e3d",
            "7091f817ea4d4cc6ac29cde178150afe",
            "35793d0aaaf343c58e2c6c7ab3b95452",
            "f8bc026dd1324638afa2f524ab736e29",
            "24ba3118eeb548fa9ec30e0aeba63f58",
            "3350259446dc46f08f65b13420b08e3a",
            "2f6e3d880eaf40cb969f6ab07f11d00d",
            "443994d5d8dc4d5daf54d3afd40bdbe2",
            "0be0a140dff344f6b52d5e755bc3f04e",
            "32a20e78f999458d8a8b75e81e06456f",
            "a5c8930649044f8a83cde66db2b38802",
            "a8eff9a1868146ff89a3dcdd8cd05a57",
            "c5850287993840cf9501c08e03355567",
            "d50ec59c47824d92be9114f7342277a4",
            "3d74e3f7f02c4bfc8f0dce8ffc45f92b",
            "cb700295355f4db8aecbbe18f7fac1e3",
            "e81dcf00882741d8990f19cb6cbd2f55",
            "d0e458a0b29648dea4796693635d29a2",
            "f1ac43e180384a2f845f0d6aac03e1b4",
            "285fc0ff54854a13b3a9c70106ea110f",
            "2031d7564ee34ef88995d3f738762188",
            "1b7bb15a36df4133b84af520770052fb",
            "a30daad1f9ea41278b89edf4f2b79aef",
            "5cbc94827f7844d799d7d9175e1087c0",
            "6e417fc2f3cd4c4d8f12c4c4b6df3abd",
            "d99a2599ae344701a320f3b28626a163",
            "1203a3dca6c743a2b0717b79313b6024",
            "e57d373a400f49249234ed1608f8e59c",
            "73e3d1c5a3344c1ab126df9175a9c352",
            "e9ca86b5746044a3953f7c5d5fc0a915",
            "702c1d60b8a649ef85febec22bb921f9",
            "2270df23df6c4631a7a87fc917bcbf32",
            "971b6be8219d4c79906fc8e6573c849f",
            "1bf70cfdbe404cbb96f633382a272ff4",
            "321e8194a84c404ab58195fb18611481",
            "8ddc63e073b34e3b87807ce7d5ac2777",
            "1d360c29f5f3400aada2c7676dce1751",
            "2b825a919d4f4cf6b3f704f8b8a09ac9",
            "d8a114c52d8d4739bd2d3b8db172f090",
            "ee582937d7ad4279ab5597cc7aa07e2f",
            "ac4af23dcbb14f109f2395757c9fe6d9",
            "beb2e8950bf1423380965ed539488649",
            "c8573b0d859c427c8c6b5d59a9b13a77",
            "b6cb3f610b8d40d88e30fb97d0881b2f",
            "604e6f420bb1446e9c6dd7c377fab58b",
            "ac366a5829bf4d0a8712c042401182b7",
            "6fe5a98c99f143559a6c6b09d72c34aa",
            "835033ef1ee748378fe2f80671e2d749",
            "c60b05fc6c03436393b4861503338f8f",
            "2d98973d17054b38a43698686e388a61",
            "a06626b964e64722a91857a77d1883ca",
            "bca605e2c8ac479b8132855d7c804e3e",
            "4ae13437cff0404b81675540266e776c",
            "f8519a16b48144cf8a54404d81562cc0",
            "f6c75e53dd5140bcb28111481fa0cb23",
            "669a6f7c6cb7467787801298cb665a5c",
            "00cc8e85e8f348a5a5d7df42b1e4fd6c",
            "cdeca46880f1419fac8d95ef27f7d9ee",
            "fd0afa675b18481880d0cb0ccb269f37",
            "0d76be93f81547938400d7c6bfdc7c36",
            "9047c813fbda43db9fb2306fc4ae9d0b",
            "6012abfad15a4912a099ca95934be711",
            "09c3d5de63ff40f88c0b7e800dda3b7e",
            "6041c3457774414fb90a8721917738d7",
            "472e3c75b96544fd914b3d2ea0a72323",
            "1b8b50ccb10849e4b3fa7acfb190ccf3",
            "c73d34c58d7f43efa41f8bcb44c3d19d",
            "25b8940bfa2f40abb2974b8618498cb5",
            "74f835bb6ee143d58d46a0ffc76342c3",
            "138597191cdf43f2a6d038216b3ba498",
            "079f3673ee294828a9d4c4264da8cf8b",
            "60a91ab510794de6a00737a07e98783f",
            "0c07b4b21aa346728ea3a9025bccd148",
            "e2ee78101d6b49898e427d5a2d430b92",
            "0affdb06054e425ba55eb011e403a4b9",
            "9d0f812361bf4c42ad28b2b5e241927b",
            "00b3a495653c4f6ba0875cbbe4827278",
            "1611f0851cd44ab6a8a2775a8af9a51f",
            "03578907a86041dda3247fd1f5b9520f",
            "c328ffda9772406c9e1752b5555f2388",
            "cb3d857eca0f46938889559dc8381e8c",
            "017acb97f04446078835598c3edea0ab",
            "24e34dfe2fdb4a0aa947f4bc41f0eb89",
            "8fd043f8529b41af8a5df296f5da9951",
            "d66a2f99270847aba7f0d06d764473f0",
            "c4bd0747e4ea4debb168571fec45f14f",
            "c641698e398f4381862ab0a96f2c261d",
            "e19354e92d8044fabac84c258ffff0ca",
            "d053ab901c5a44c59ba5b26e035316f9",
            "ff05d27065c74842bb1621dce91093fd",
            "6dc8edcf7f4c4b79ba6ec4917d47e899",
            "faadcf5ee28643858d73ace5f749b630",
            "4df55505ac9e48e2a724fde6430f4748",
            "3e44df1c6e8a4b339f6a6f309d9a84ba",
            "68fb07adf39848d9b5015861ead37a09",
            "65e2bc1aebd7421c803aec91bf51e91e",
            "01b9534085ff44dcad16e947a095d56c",
            "1e2d1a37feed4585a84bbe209fb23dec",
            "9f4cc8e7896f463282bb1c9db353710b",
            "bf1b1f89448f4420ac70c5e29eef93db",
            "622442a89d9c4a3cbb2e1ded64b8b515",
            "7c7edb966857484e8b5107b8ed94fb03",
            "af654c32041d40a3bc4247a63e4bbf0f",
            "adb3b67f7f0447e5aa8b3cfb159e3d7a",
            "4fcc0e4cda924934ad467e2ff8b5e514"
          ]
        },
        "id": "Jp77FgUy5oPg",
        "outputId": "0348f06c-0817-49b4-88c5-1a641b166cee"
      },
      "outputs": [
        {
          "output_type": "display_data",
          "data": {
            "text/plain": [
              "Downloading:   0%|          | 0.00/391 [00:00<?, ?B/s]"
            ],
            "application/vnd.jupyter.widget-view+json": {
              "version_major": 2,
              "version_minor": 0,
              "model_id": "b8b579a94c314e45b39d26fcf8a1d038"
            }
          },
          "metadata": {}
        },
        {
          "output_type": "display_data",
          "data": {
            "text/plain": [
              "Downloading:   0%|          | 0.00/190 [00:00<?, ?B/s]"
            ],
            "application/vnd.jupyter.widget-view+json": {
              "version_major": 2,
              "version_minor": 0,
              "model_id": "4faced6dbcc34fb491dfc37885d58cca"
            }
          },
          "metadata": {}
        },
        {
          "output_type": "display_data",
          "data": {
            "text/plain": [
              "Downloading:   0%|          | 0.00/3.95k [00:00<?, ?B/s]"
            ],
            "application/vnd.jupyter.widget-view+json": {
              "version_major": 2,
              "version_minor": 0,
              "model_id": "948b5ee3d3904f5c8113caf8b4686dcb"
            }
          },
          "metadata": {}
        },
        {
          "output_type": "display_data",
          "data": {
            "text/plain": [
              "Downloading:   0%|          | 0.00/2.00 [00:00<?, ?B/s]"
            ],
            "application/vnd.jupyter.widget-view+json": {
              "version_major": 2,
              "version_minor": 0,
              "model_id": "64b8680edcad4fe4af87a155a31758dc"
            }
          },
          "metadata": {}
        },
        {
          "output_type": "display_data",
          "data": {
            "text/plain": [
              "Downloading:   0%|          | 0.00/625 [00:00<?, ?B/s]"
            ],
            "application/vnd.jupyter.widget-view+json": {
              "version_major": 2,
              "version_minor": 0,
              "model_id": "2f6e3d880eaf40cb969f6ab07f11d00d"
            }
          },
          "metadata": {}
        },
        {
          "output_type": "display_data",
          "data": {
            "text/plain": [
              "Downloading:   0%|          | 0.00/122 [00:00<?, ?B/s]"
            ],
            "application/vnd.jupyter.widget-view+json": {
              "version_major": 2,
              "version_minor": 0,
              "model_id": "d0e458a0b29648dea4796693635d29a2"
            }
          },
          "metadata": {}
        },
        {
          "output_type": "display_data",
          "data": {
            "text/plain": [
              "Downloading:   0%|          | 0.00/438M [00:00<?, ?B/s]"
            ],
            "application/vnd.jupyter.widget-view+json": {
              "version_major": 2,
              "version_minor": 0,
              "model_id": "73e3d1c5a3344c1ab126df9175a9c352"
            }
          },
          "metadata": {}
        },
        {
          "output_type": "display_data",
          "data": {
            "text/plain": [
              "Downloading:   0%|          | 0.00/53.0 [00:00<?, ?B/s]"
            ],
            "application/vnd.jupyter.widget-view+json": {
              "version_major": 2,
              "version_minor": 0,
              "model_id": "ee582937d7ad4279ab5597cc7aa07e2f"
            }
          },
          "metadata": {}
        },
        {
          "output_type": "display_data",
          "data": {
            "text/plain": [
              "Downloading:   0%|          | 0.00/112 [00:00<?, ?B/s]"
            ],
            "application/vnd.jupyter.widget-view+json": {
              "version_major": 2,
              "version_minor": 0,
              "model_id": "a06626b964e64722a91857a77d1883ca"
            }
          },
          "metadata": {}
        },
        {
          "output_type": "display_data",
          "data": {
            "text/plain": [
              "Downloading:   0%|          | 0.00/466k [00:00<?, ?B/s]"
            ],
            "application/vnd.jupyter.widget-view+json": {
              "version_major": 2,
              "version_minor": 0,
              "model_id": "6012abfad15a4912a099ca95934be711"
            }
          },
          "metadata": {}
        },
        {
          "output_type": "display_data",
          "data": {
            "text/plain": [
              "Downloading:   0%|          | 0.00/399 [00:00<?, ?B/s]"
            ],
            "application/vnd.jupyter.widget-view+json": {
              "version_major": 2,
              "version_minor": 0,
              "model_id": "0c07b4b21aa346728ea3a9025bccd148"
            }
          },
          "metadata": {}
        },
        {
          "output_type": "display_data",
          "data": {
            "text/plain": [
              "Downloading:   0%|          | 0.00/232k [00:00<?, ?B/s]"
            ],
            "application/vnd.jupyter.widget-view+json": {
              "version_major": 2,
              "version_minor": 0,
              "model_id": "8fd043f8529b41af8a5df296f5da9951"
            }
          },
          "metadata": {}
        },
        {
          "output_type": "display_data",
          "data": {
            "text/plain": [
              "Downloading:   0%|          | 0.00/229 [00:00<?, ?B/s]"
            ],
            "application/vnd.jupyter.widget-view+json": {
              "version_major": 2,
              "version_minor": 0,
              "model_id": "68fb07adf39848d9b5015861ead37a09"
            }
          },
          "metadata": {}
        }
      ],
      "source": [
        "# Create a SentenceTransformer object using the 'bert-base-nli-mean-tokens' model\n",
        "bert_transformers = SentenceTransformer('bert-base-nli-mean-tokens')"
      ],
      "id": "Jp77FgUy5oPg"
    },
    {
      "cell_type": "code",
      "execution_count": null,
      "metadata": {
        "id": "IORBaKsmcNk-"
      },
      "outputs": [],
      "source": [
        "def bert_sbert_embbed(text):\n",
        "    # Split the text into sentences    \n",
        "    sentences = re.split('!|\\?|\\.',text)\n",
        "    # Remove empty strings from the list of sentences    \n",
        "    sentences = list(filter(None, sentences)) \n",
        "\n",
        "    # Check if using word-level or sentence-level BERT embeddings\n",
        "    if bert_version == 'WORD':\n",
        "        # Get BERT embeddings for each word in each sentence\n",
        "        result = bert(sentences, 'avg')\n",
        "        # Extract the BERT vocabularies for each word in each sentence\n",
        "        bert_vocabs_of_sentence = []\n",
        "        for sentence in range(len(result)):\n",
        "            for word in range(len(result[sentence][1])):\n",
        "                bert_vocabs_of_sentence.append(result[sentence][1][word])\n",
        "        # Calculate the mean BERT vocabulary for each sentence\n",
        "        feature = [MeanBertSBERT(x) for x in zip(*bert_vocabs_of_sentence)]\n",
        "\n",
        "    elif bert_version == 'SENTENCE':\n",
        "        # Get BERT embeddings for each sentence\n",
        "        result = bert_transformers.encode(sentences)\n",
        "        # Calculate the mean BERT vocabulary for each sentence\n",
        "        feature = [MeanBertSBERT(x) for x in zip(*result)]\n",
        "\n",
        "    # Return the mean BERT vocabulary for each sentence as an array\n",
        "    return np.asarray(feature).reshape((768,1))"
      ],
      "id": "IORBaKsmcNk-"
    },
    {
      "cell_type": "markdown",
      "source": [
        "#### BERT (Word Transformer)"
      ],
      "metadata": {
        "id": "BzAzpC_xHtA9"
      },
      "id": "BzAzpC_xHtA9"
    },
    {
      "cell_type": "code",
      "execution_count": null,
      "metadata": {
        "id": "zfmwKV5RJ7n8"
      },
      "outputs": [],
      "source": [
        "# Set the type of BERT embeddings to use\n",
        "bert_version = 'WORD'\n",
        "\n",
        "# Create an empty list to store the BERT embeddings for the training data\n",
        "bert_features_train=[]\n",
        "# Iterate through the preprocessed reviews in the training data\n",
        "for i in train_data['prep_review_bert_sbert']:\n",
        "    # Calculate the BERT embeddings for each review\n",
        "    bert_features_train.append(bert_sbert_embbed(i))"
      ],
      "id": "zfmwKV5RJ7n8"
    },
    {
      "cell_type": "code",
      "execution_count": null,
      "metadata": {
        "id": "PQlgS2Mb25U9"
      },
      "outputs": [],
      "source": [
        "bert_features_train1 = bert_features_train"
      ],
      "id": "PQlgS2Mb25U9"
    },
    {
      "cell_type": "code",
      "execution_count": null,
      "metadata": {
        "id": "eYCXXoQvKh03"
      },
      "outputs": [],
      "source": [
        "# Extract the BERT embeddings from the list of BERT embeddings\n",
        "feature = [x for x in bert_features_train1]\n",
        "# Convert the list of BERT embeddings to a numpy array and reshape it to have one row per review\n",
        "bert_features_train1 = np.asarray(feature).reshape(len(train_data),768)"
      ],
      "id": "eYCXXoQvKh03"
    },
    {
      "cell_type": "code",
      "execution_count": null,
      "metadata": {
        "id": "3OulXVIKaJmt"
      },
      "outputs": [],
      "source": [
        "# save to npy file\n",
        "save('bert_features_train1.npy', bert_features_train1)"
      ],
      "id": "3OulXVIKaJmt"
    },
    {
      "cell_type": "code",
      "execution_count": null,
      "metadata": {
        "id": "auXyFxMCgnGr"
      },
      "outputs": [],
      "source": [
        "# Set the type of BERT embeddings to use\n",
        "bert_version = 'WORD'\n",
        "\n",
        "# Create an empty list to store the BERT embeddings for the test data\n",
        "bert_features_test=[]\n",
        "# Iterate through the preprocessed reviews in the test data\n",
        "for i in test_data['prep_review_bert_sbert']:\n",
        "    # Calculate the BERT embeddings for each review\n",
        "    bert_features_test.append(bert_sbert_embbed(i))"
      ],
      "id": "auXyFxMCgnGr"
    },
    {
      "cell_type": "code",
      "execution_count": null,
      "metadata": {
        "id": "eUt46aVhg0En"
      },
      "outputs": [],
      "source": [
        "bert_features_test1= bert_features_test"
      ],
      "id": "eUt46aVhg0En"
    },
    {
      "cell_type": "code",
      "execution_count": null,
      "metadata": {
        "id": "RSFkJ9y5g5jV"
      },
      "outputs": [],
      "source": [
        "# Extract the BERT embeddings from the list of BERT embeddings\n",
        "feature = [x for x in bert_features_test1]\n",
        "# Convert the list of BERT embeddings to a numpy array and reshape it to have one row per review\n",
        "bert_features_test1 = np.asarray(feature).reshape(len(test_data),768)"
      ],
      "id": "RSFkJ9y5g5jV"
    },
    {
      "cell_type": "code",
      "execution_count": null,
      "metadata": {
        "id": "CUpqOUhRac5j"
      },
      "outputs": [],
      "source": [
        "# save to npy file\n",
        "save('bert_features_test1.npy', bert_features_test1)"
      ],
      "id": "CUpqOUhRac5j"
    },
    {
      "cell_type": "code",
      "execution_count": 9,
      "metadata": {
        "colab": {
          "base_uri": "https://localhost:8080/"
        },
        "id": "HbNse_Vsaoel",
        "outputId": "1ea99ca5-53b5-4386-f8e7-cb18ef1581e8"
      },
      "outputs": [
        {
          "output_type": "stream",
          "name": "stdout",
          "text": [
            "(19517, 768)\n",
            "(4849, 768)\n"
          ]
        }
      ],
      "source": [
        "# load array\n",
        "bert_features_train_new = load('bert_features_train1.npy')\n",
        "bert_features_test_new = load('bert_features_test1.npy')\n",
        "\n",
        "# print the array\n",
        "print(bert_features_train_new.shape)\n",
        "print(bert_features_test_new.shape)"
      ],
      "id": "HbNse_Vsaoel"
    },
    {
      "cell_type": "markdown",
      "source": [
        "####  SBERT (Sentence Transformer)"
      ],
      "metadata": {
        "id": "_UyZG_RHRMdI"
      },
      "id": "_UyZG_RHRMdI"
    },
    {
      "cell_type": "code",
      "execution_count": 48,
      "metadata": {
        "id": "0eD8h05IRb8Q"
      },
      "outputs": [],
      "source": [
        "# Set the type of BERT embeddings to use\n",
        "bert_version = 'SENTENCE'\n",
        "\n",
        "# Create an empty list to store the SBERT embeddings for the training data\n",
        "sbert_features_train=[]\n",
        "# Iterate through the preprocessed reviews in the training data\n",
        "for i in train_data['prep_review_bert_sbert']:\n",
        "    # Calculate the SBERT embeddings for each review\n",
        "    sbert_features_train.append(bert_sbert_embbed(i))"
      ],
      "id": "0eD8h05IRb8Q"
    },
    {
      "cell_type": "code",
      "execution_count": null,
      "metadata": {
        "id": "aXeHrudORb8Q"
      },
      "outputs": [],
      "source": [
        "sbert_features_train1 = sbert_features_train"
      ],
      "id": "aXeHrudORb8Q"
    },
    {
      "cell_type": "code",
      "execution_count": null,
      "metadata": {
        "id": "40zgNB7XRb8Q"
      },
      "outputs": [],
      "source": [
        "# Extract the SBERT embeddings from the list of SBERT embeddings\n",
        "feature = [x for x in sbert_features_train1]\n",
        "# Convert the list of SBERT embeddings to a numpy array and reshape it to have one row per review\n",
        "sbert_features_train1 = np.asarray(feature).reshape(len(train_data),768)"
      ],
      "id": "40zgNB7XRb8Q"
    },
    {
      "cell_type": "code",
      "execution_count": null,
      "metadata": {
        "id": "_hWVrKaCRb8Q"
      },
      "outputs": [],
      "source": [
        "# save to npy file\n",
        "save('sbert_features_train1.npy', sbert_features_train1)"
      ],
      "id": "_hWVrKaCRb8Q"
    },
    {
      "cell_type": "code",
      "execution_count": 49,
      "metadata": {
        "id": "XnDR5TD9Rb8Q"
      },
      "outputs": [],
      "source": [
        "# Set the type of BERT embeddings to use\n",
        "bert_version = 'SENTENCE'\n",
        "\n",
        "# Create an empty list to store the SBERT embeddings for the test data\n",
        "sbert_features_test=[]\n",
        "# Iterate through the preprocessed reviews in the test data\n",
        "for i in test_data['prep_review_bert_sbert']:\n",
        "    # Calculate the SBERT embeddings for each review\n",
        "    sbert_features_test.append(bert_sbert_embbed(i))\n"
      ],
      "id": "XnDR5TD9Rb8Q"
    },
    {
      "cell_type": "code",
      "execution_count": null,
      "metadata": {
        "id": "d6YH1x8ZRb8Q"
      },
      "outputs": [],
      "source": [
        "sbert_features_test1= sbert_features_test"
      ],
      "id": "d6YH1x8ZRb8Q"
    },
    {
      "cell_type": "code",
      "execution_count": null,
      "metadata": {
        "id": "1Q0wuwdvRb8R"
      },
      "outputs": [],
      "source": [
        "# Extract the SBERT embeddings from the list of SBERT embeddings\n",
        "feature = [x for x in sbert_features_test1]\n",
        "# Convert the list of SBERT embeddings to a numpy array and reshape it to have one row per review\n",
        "sbert_features_test1 = np.asarray(feature).reshape(len(test_data),768)"
      ],
      "id": "1Q0wuwdvRb8R"
    },
    {
      "cell_type": "code",
      "execution_count": null,
      "metadata": {
        "id": "_rKAZqzrRb8R"
      },
      "outputs": [],
      "source": [
        "# save to npy file\n",
        "save('sbert_features_test1.npy', sbert_features_test1)"
      ],
      "id": "_rKAZqzrRb8R"
    },
    {
      "cell_type": "code",
      "execution_count": 10,
      "metadata": {
        "colab": {
          "base_uri": "https://localhost:8080/"
        },
        "outputId": "650bb53a-3ae0-4980-f4a2-2f73e8aa5360",
        "id": "S8wHic5YRb8R"
      },
      "outputs": [
        {
          "output_type": "stream",
          "name": "stdout",
          "text": [
            "(19517, 768)\n",
            "(4849, 768)\n"
          ]
        }
      ],
      "source": [
        "# load array\n",
        "sbert_features_train_new = load('sbert_features_train1.npy')\n",
        "sbert_features_test_new = load('sbert_features_test1.npy')\n",
        "\n",
        "# print the array\n",
        "print(sbert_features_train_new.shape)\n",
        "print(sbert_features_test_new.shape)"
      ],
      "id": "S8wHic5YRb8R"
    },
    {
      "cell_type": "markdown",
      "source": [
        "## SVM Modeling "
      ],
      "metadata": {
        "id": "NLZHhRu3Py-_"
      },
      "id": "NLZHhRu3Py-_"
    },
    {
      "cell_type": "code",
      "execution_count": 112,
      "metadata": {
        "id": "D11q7y8kgKGi"
      },
      "outputs": [],
      "source": [
        "# A function to plot and print result\n",
        "def modelEval(y_pred, y_prob):\n",
        "# Evaluate the performance of a binary classification model\n",
        "\n",
        "    # Compute evaluation metrics\n",
        "    acc = accuracy_score(test_data[\"recommended\"], y_pred)\n",
        "    fi = f1_score(test_data[\"recommended\"], y_pred)\n",
        "    percision = precision_score(test_data[\"recommended\"], y_pred)\n",
        "    recall = recall_score(test_data[\"recommended\"], y_pred)\n",
        "    \n",
        "    # Print evaluation metrics\n",
        "    print ('',end='\\n\\n')\n",
        "    print(\"Accuracy Percent: {:.2f} %\".format(acc *100),end='\\n')\n",
        "    print(\"Accuracy: {:.4f}\".format(acc *100),end='\\n')\n",
        "    print(\"f1 score: {:.4f}\".format(fi),end='\\n')\n",
        "    print(\"precision score: {:.4f}\".format(percision),end='\\n')\n",
        "    print(\"recall score: {:.4f}\".format(recall),end='\\n\\n\\n')\n",
        "    \n",
        "    # Print classification report\n",
        "    print ('Classification Report:',end='\\n\\n')\n",
        "    print(classification_report(test_data[\"recommended\"],y_pred),end='\\n\\n')\n",
        "\n",
        "    # Plot and print confusion matrix\n",
        "    print ('Confusion Matrix',end='\\n\\n')\n",
        "    cmatrix = confusion_matrix(test_data[\"recommended\"],y_pred)\n",
        "    group_names = ['True Neg','False Pos','False Neg','True Pos']\n",
        "\n",
        "    group_counts = [\"{0:0.0f}\".format(value) for value in\n",
        "                cmatrix.flatten()]\n",
        "\n",
        "    group_percentages = [\"{0:.2%}\".format(value) for value in\n",
        "                        cmatrix.flatten()/np.sum(cmatrix)]\n",
        "\n",
        "    labels = [f\"{v1}\\n{v2}\\n{v3}\" for v1, v2, v3 in\n",
        "              zip(group_names,group_counts,group_percentages)]\n",
        "\n",
        "    labels = np.asarray(labels).reshape(2,2)\n",
        "\n",
        "    ax = sns.heatmap(cmatrix, annot=labels, fmt='', cmap='Blues')\n",
        "\n",
        "    ax.set_title('Confusion Matrix\\n\\n');\n",
        "    ax.set_xlabel('\\nPredicted Values')\n",
        "    ax.set_ylabel('Actual Values ');\n",
        "\n",
        "    ## Ticket labels - List must be in alphabetical order\n",
        "    ax.xaxis.set_ticklabels(['False','True'])\n",
        "    ax.yaxis.set_ticklabels(['False','True'])\n",
        "\n",
        "    ## Display the visualization of the Confusion Matrix.\n",
        "    plt.show()   \n"
      ],
      "id": "D11q7y8kgKGi"
    },
    {
      "cell_type": "markdown",
      "source": [
        "### TFIDF + SVM"
      ],
      "metadata": {
        "id": "ln29OWXtQD-f"
      },
      "id": "ln29OWXtQD-f"
    },
    {
      "cell_type": "code",
      "source": [
        "# Initialize an SVM model with a linear kernel and C=1 for TF-IDF\n",
        "model_svm_tfidf = SVC(kernel ='linear', C = 1)"
      ],
      "metadata": {
        "id": "-_9vKM-dRndL"
      },
      "id": "-_9vKM-dRndL",
      "execution_count": 16,
      "outputs": []
    },
    {
      "cell_type": "code",
      "source": [
        "# Train the SVM model using TF-IDF features\n",
        "model_svm_tfidf.fit(tfidf_features_train, train_data[\"recommended\"])"
      ],
      "metadata": {
        "id": "SpdmFbq5VP2y"
      },
      "id": "SpdmFbq5VP2y",
      "execution_count": 17,
      "outputs": []
    },
    {
      "cell_type": "code",
      "source": [
        "# Make predictions on the test data using the trained SVM model\n",
        "y_pred_tfidf_stop_svm = model_svm_tfidf.predict(tfidf_features_test)\n",
        "# Compute the decision function for the predictions\n",
        "y_prob_tfidf_stop_svm = model_svm_tfidf.decision_function(tfidf_features_test)"
      ],
      "metadata": {
        "id": "ey2YMxKVUqXe"
      },
      "id": "ey2YMxKVUqXe",
      "execution_count": null,
      "outputs": []
    },
    {
      "cell_type": "code",
      "source": [
        "# Result\n",
        "modelEval(y_pred_tfidf_stop_svm, y_prob_tfidf_stop_svm)"
      ],
      "metadata": {
        "colab": {
          "base_uri": "https://localhost:8080/",
          "height": 736
        },
        "id": "gkVch5inZ4Ri",
        "outputId": "bc9c5aa9-8c20-4ee5-efff-35d86a2129f3"
      },
      "id": "gkVch5inZ4Ri",
      "execution_count": 113,
      "outputs": [
        {
          "output_type": "stream",
          "name": "stdout",
          "text": [
            "\n",
            "\n",
            "Accuracy Percent: 87.50 %\n",
            "Accuracy: 87.5026\n",
            "f1 score: 0.9216\n",
            "precision score: 0.8986\n",
            "recall score: 0.9459\n",
            "\n",
            "\n",
            "Classification Report:\n",
            "\n",
            "              precision    recall  f1-score   support\n",
            "\n",
            "           0       0.77      0.63      0.69      1081\n",
            "           1       0.90      0.95      0.92      3768\n",
            "\n",
            "    accuracy                           0.88      4849\n",
            "   macro avg       0.83      0.79      0.81      4849\n",
            "weighted avg       0.87      0.88      0.87      4849\n",
            "\n",
            "\n",
            "Confusion Matrix\n",
            "\n"
          ]
        },
        {
          "output_type": "display_data",
          "data": {
            "text/plain": [
              "<Figure size 432x288 with 2 Axes>"
            ],
            "image/png": "[encoded data removed]"
          },
          "metadata": {
            "needs_background": "light"
          }
        }
      ]
    },
    {
      "cell_type": "code",
      "source": [
        "# Initialize a list to store the cross-validation results for the SVM model based on TF-IDF\n",
        "results_svm_tfidf = []\n",
        "\n",
        "# Create a repeated stratified K-fold cross-validator\n",
        "kfold = RepeatedStratifiedKFold(n_splits=10, n_repeats = 3, random_state=1)\n",
        "\n",
        "# Evaluate the SVM model using cross-validation, with accuracy as the evaluation metric\n",
        "results_svm_tfidf = cross_val_score(model_svm_tfidf, tfidf_features_train, train_data[\"recommended\"], \n",
        "                                    cv=kfold, scoring='accuracy') "
      ],
      "metadata": {
        "id": "BsztM7s8RnkH"
      },
      "id": "BsztM7s8RnkH",
      "execution_count": null,
      "outputs": []
    },
    {
      "cell_type": "code",
      "source": [
        "# Saving Result\n",
        "np.save('results_svm_tfidf.npy', results_svm_tfidf)"
      ],
      "metadata": {
        "id": "Hf57itFPfvwQ"
      },
      "id": "Hf57itFPfvwQ",
      "execution_count": null,
      "outputs": []
    },
    {
      "cell_type": "code",
      "source": [
        "# Loading Result\n",
        "results_svm_tfidf1 = np.load('results_svm_tfidf.npy')"
      ],
      "metadata": {
        "id": "ktU9tD2Jf8KH"
      },
      "id": "ktU9tD2Jf8KH",
      "execution_count": 41,
      "outputs": []
    },
    {
      "cell_type": "code",
      "source": [
        "# Computing the mean and standard deviation of the scores\n",
        "mean1 = results_svm_tfidf1.mean()\n",
        "std1 =  results_svm_tfidf1.std()\n",
        "p_mean1 = print(\"Mean Acurracy: {:.2f} %\".format(mean1 *100),end='\\n')\n",
        "p_std1 = print(\"STD Acurracy: {:.4f}\".format(std1 ),end='\\n')"
      ],
      "metadata": {
        "colab": {
          "base_uri": "https://localhost:8080/"
        },
        "id": "54UzUvAekOHe",
        "outputId": "5acfc2a3-f7f4-4862-8363-1575d21ac4a5"
      },
      "id": "54UzUvAekOHe",
      "execution_count": 87,
      "outputs": [
        {
          "output_type": "stream",
          "name": "stdout",
          "text": [
            "Mean Acurracy: 88.21 %\n",
            "STD Acurracy: 0.0060\n"
          ]
        }
      ]
    },
    {
      "cell_type": "code",
      "source": [
        "# create a figure\n",
        "fig1, ax1 = plt.subplots(figsize=(8, 6))\n",
        "\n",
        "# compute the mean and standard deviation of the scores\n",
        "mean_scores_tfidf = np.mean(results_svm_tfidf1)\n",
        "std_scores_tfidf = np.std(results_svm_tfidf1)\n",
        "\n",
        "# create a line plot of the scores\n",
        "ax1.plot(range(1, len(results_svm_tfidf1)+1), results_svm_tfidf1, color='#378D3B', linewidth=2, alpha=0.8)\n",
        "\n",
        "# add the mean as a horizontal line\n",
        "ax1.axhline(mean_scores_tfidf, color='#378D3B', linestyle='--', linewidth=2, alpha=0.8)\n",
        "\n",
        "# add the standard deviation as a transparent band around the mean line\n",
        "ax1.fill_between(range(1, len(results_svm_tfidf1)+1), mean_scores_tfidf - std_scores_tfidf, mean_scores_tfidf + std_scores_tfidf, color='#378D3B', alpha=0.2)\n",
        "\n",
        "# add grid lines\n",
        "ax1.grid(axis='y', linestyle='--')\n",
        "\n",
        "# add plot title and axis labels\n",
        "ax1.set_title(\"Cross-Validation Scores (TF-IDF + SVM)\")\n",
        "ax1.set_xlabel(\"Fold\")\n",
        "ax1.set_ylabel(\"Accuracy Score\")\n",
        "\n",
        "# show the plot\n",
        "plt.show()"
      ],
      "metadata": {
        "colab": {
          "base_uri": "https://localhost:8080/",
          "height": 404
        },
        "id": "tQrnwD7qn3fU",
        "outputId": "75d7ed6f-5d68-4f73-f46c-e24e9ef25fbc"
      },
      "id": "tQrnwD7qn3fU",
      "execution_count": 40,
      "outputs": [
        {
          "output_type": "display_data",
          "data": {
            "text/plain": [
              "<Figure size 576x432 with 1 Axes>"
            ],
            "image/png": "[encoded data removed]"
          },
          "metadata": {
            "needs_background": "light"
          }
        }
      ]
    },
    {
      "cell_type": "markdown",
      "source": [
        "### BERT + SVM"
      ],
      "metadata": {
        "id": "9VQLOht9QKM1"
      },
      "id": "9VQLOht9QKM1"
    },
    {
      "cell_type": "code",
      "source": [
        "# Create an SVM model with a linear kernel and C = 1\n",
        "model_svm_bert = SVC(kernel ='linear', C = 1)"
      ],
      "metadata": {
        "id": "j4QT6ZOIkkSf"
      },
      "id": "j4QT6ZOIkkSf",
      "execution_count": 24,
      "outputs": []
    },
    {
      "cell_type": "code",
      "execution_count": 25,
      "metadata": {
        "id": "u81tbq4PgDx3"
      },
      "outputs": [],
      "source": [
        "# Train the SVM model using BERT features\n",
        "model_svm_bert.fit(bert_features_train_new, train_data[\"recommended\"])\n",
        "\n",
        "# Evaluation\n",
        "# Make predictions on the test data\n",
        "y_pred_bert_svm = model_svm_bert.predict(bert_features_test_new)\n",
        "# Compute the decision function for the predictions\n",
        "y_prob_bert_svm = model_svm_bert.decision_function(bert_features_test_new)"
      ],
      "id": "u81tbq4PgDx3"
    },
    {
      "cell_type": "code",
      "execution_count": 114,
      "metadata": {
        "colab": {
          "base_uri": "https://localhost:8080/",
          "height": 736
        },
        "id": "DX5DhTPTkFJs",
        "outputId": "466545a5-edb3-44ef-8434-ed0de74d4ceb"
      },
      "outputs": [
        {
          "output_type": "stream",
          "name": "stdout",
          "text": [
            "\n",
            "\n",
            "Accuracy Percent: 84.06 %\n",
            "Accuracy: 84.0586\n",
            "f1 score: 0.8998\n",
            "precision score: 0.8794\n",
            "recall score: 0.9212\n",
            "\n",
            "\n",
            "Classification Report:\n",
            "\n",
            "              precision    recall  f1-score   support\n",
            "\n",
            "           0       0.67      0.56      0.61      1081\n",
            "           1       0.88      0.92      0.90      3768\n",
            "\n",
            "    accuracy                           0.84      4849\n",
            "   macro avg       0.78      0.74      0.75      4849\n",
            "weighted avg       0.83      0.84      0.84      4849\n",
            "\n",
            "\n",
            "Confusion Matrix\n",
            "\n"
          ]
        },
        {
          "output_type": "display_data",
          "data": {
            "text/plain": [
              "<Figure size 432x288 with 2 Axes>"
            ],
            "image/png": "[encoded data removed]"
          },
          "metadata": {
            "needs_background": "light"
          }
        }
      ],
      "source": [
        "modelEval(y_pred_bert_svm, y_prob_bert_svm)"
      ],
      "id": "DX5DhTPTkFJs"
    },
    {
      "cell_type": "code",
      "source": [
        "# Initialize an empty list to store the cross-validation scores\n",
        "results_svm_bert = []\n",
        "\n",
        "# Set up the repeated stratified k-fold cross-validator\n",
        "kfold_bert = RepeatedStratifiedKFold(n_splits=10, n_repeats = 3, random_state=1)\n",
        "\n",
        "# Perform cross-validation on the model using the bert_features_train_new and train_data[\"recommended\"] data\n",
        "# and store the results in the results_svm_bert list\n",
        "# Use the repeated stratified k-fold cross-validator and the 'accuracy' scoring metric\n",
        "results_svm_bert = cross_val_score(model_svm_bert, bert_features_train_new, train_data[\"recommended\"], \n",
        "                                   cv=kfold_bert, scoring='accuracy') "
      ],
      "metadata": {
        "id": "D_FRwv5Buf8N"
      },
      "execution_count": null,
      "outputs": [],
      "id": "D_FRwv5Buf8N"
    },
    {
      "cell_type": "code",
      "source": [
        "np.save('results_svm_bert.npy', results_svm_bert)"
      ],
      "metadata": {
        "id": "fshiCvMfuf8O"
      },
      "execution_count": null,
      "outputs": [],
      "id": "fshiCvMfuf8O"
    },
    {
      "cell_type": "code",
      "source": [
        "results_svm_bert1 = np.load('results_svm_bert.npy')"
      ],
      "metadata": {
        "id": "9cX91xMnuf8O"
      },
      "execution_count": 40,
      "outputs": [],
      "id": "9cX91xMnuf8O"
    },
    {
      "cell_type": "code",
      "source": [
        "# Calculate the mean and standard deviation of the results_svm_bert1 list\n",
        "mean2 = results_svm_bert1.mean()\n",
        "std2 =  results_svm_bert1.std()\n",
        "\n",
        "# Print the mean and standard deviation values\n",
        "p_mean2 = print(\"Mean Acurracy: {:.2f} %\".format(mean2 *100),end='\\n')\n",
        "p_std2 = print(\"STD Acurracy: {:.4f}\".format(std2 ),end='\\n')"
      ],
      "metadata": {
        "colab": {
          "base_uri": "https://localhost:8080/"
        },
        "outputId": "7485ee74-9204-4142-b6a6-1b25774f3fa9",
        "id": "CYNaLTn7uf8O"
      },
      "execution_count": 88,
      "outputs": [
        {
          "output_type": "stream",
          "name": "stdout",
          "text": [
            "Mean Acurracy: 85.71 %\n",
            "STD Acurracy: 0.0064\n"
          ]
        }
      ],
      "id": "CYNaLTn7uf8O"
    },
    {
      "cell_type": "code",
      "source": [
        "# create a figure\n",
        "fig2, ax2 = plt.subplots(figsize=(8, 6))\n",
        "\n",
        "# compute the mean and standard deviation of the scores\n",
        "mean_scores_bert = np.mean(results_svm_bert1)\n",
        "std_scores_bert = np.std(results_svm_bert1)\n",
        "\n",
        "# create a line plot of the scores\n",
        "ax2.plot(range(1, len(results_svm_bert1)+1), results_svm_bert1, color='#378D3B', linewidth=2, alpha=0.8)\n",
        "\n",
        "# add the mean as a horizontal line\n",
        "ax2.axhline(mean_scores_bert, color='#378D3B', linestyle='--', linewidth=2, alpha=0.8)\n",
        "\n",
        "# add the standard deviation as a transparent band around the mean line\n",
        "ax2.fill_between(range(1, len(results_svm_bert1)+1), mean_scores_bert - std_scores_bert, mean_scores_bert + std_scores_bert, color='#378D3B', alpha=0.2)\n",
        "\n",
        "# add grid lines\n",
        "ax2.grid(axis='y', linestyle='--')\n",
        "\n",
        "# add plot title and axis labels\n",
        "ax2.set_title(\"Cross-Validation Scores (BERT + SVM)\")\n",
        "ax2.set_xlabel(\"Fold\")\n",
        "ax2.set_ylabel(\"Accuracy Score\")\n",
        "\n",
        "# show the plot\n",
        "plt.show()"
      ],
      "metadata": {
        "colab": {
          "base_uri": "https://localhost:8080/",
          "height": 404
        },
        "id": "zjoTaF_nm5B6",
        "outputId": "ece5c674-756d-46f3-fb55-4dfecd3ba8a3"
      },
      "id": "zjoTaF_nm5B6",
      "execution_count": 37,
      "outputs": [
        {
          "output_type": "display_data",
          "data": {
            "text/plain": [
              "<Figure size 576x432 with 1 Axes>"
            ],
            "image/png": "[encoded data removed]"
          },
          "metadata": {
            "needs_background": "light"
          }
        }
      ]
    },
    {
      "cell_type": "markdown",
      "source": [
        "### SBERT + TFIDF"
      ],
      "metadata": {
        "id": "UExkl9zAQSgp"
      },
      "id": "UExkl9zAQSgp"
    },
    {
      "cell_type": "code",
      "source": [
        "# Training \n",
        "model_svm_sbert = SVC(kernel ='linear', C = 1)"
      ],
      "metadata": {
        "id": "lD-cv96SkpeD"
      },
      "id": "lD-cv96SkpeD",
      "execution_count": 54,
      "outputs": []
    },
    {
      "cell_type": "code",
      "execution_count": 55,
      "metadata": {
        "id": "uAUSGEP5cRAQ"
      },
      "outputs": [],
      "source": [
        "# Train the model using the sbert_features_train_new and train_data[\"recommended\"] data \n",
        "model_svm_sbert.fit(sbert_features_train_new, train_data[\"recommended\"])\n",
        "\n",
        "# Use the trained model to make predictions on the sbert_features_test_new data\n",
        "y_pred_sbert_svm = model_svm_sbert.predict(sbert_features_test_new)\n",
        "\n",
        "# Use the trained model to predict the decision function for the sbert_features_test_new data\n",
        "y_prob_sbert_svm = model_svm_sbert.decision_function(sbert_features_test_new)"
      ],
      "id": "uAUSGEP5cRAQ"
    },
    {
      "cell_type": "code",
      "execution_count": 115,
      "metadata": {
        "id": "7ZtSC5fc09SD",
        "colab": {
          "base_uri": "https://localhost:8080/",
          "height": 736
        },
        "outputId": "603133fc-3d19-4616-9bfb-43d72528b44b"
      },
      "outputs": [
        {
          "output_type": "stream",
          "name": "stdout",
          "text": [
            "\n",
            "\n",
            "Accuracy Percent: 86.18 %\n",
            "Accuracy: 86.1827\n",
            "f1 score: 0.9123\n",
            "precision score: 0.8998\n",
            "recall score: 0.9252\n",
            "\n",
            "\n",
            "Classification Report:\n",
            "\n",
            "              precision    recall  f1-score   support\n",
            "\n",
            "           0       0.71      0.64      0.67      1081\n",
            "           1       0.90      0.93      0.91      3768\n",
            "\n",
            "    accuracy                           0.86      4849\n",
            "   macro avg       0.81      0.78      0.79      4849\n",
            "weighted avg       0.86      0.86      0.86      4849\n",
            "\n",
            "\n",
            "Confusion Matrix\n",
            "\n"
          ]
        },
        {
          "output_type": "display_data",
          "data": {
            "text/plain": [
              "<Figure size 432x288 with 2 Axes>"
            ],
            "image/png": "[encoded data removed]"
          },
          "metadata": {
            "needs_background": "light"
          }
        }
      ],
      "source": [
        "modelEval(y_pred_sbert_svm, y_prob_sbert_svm)"
      ],
      "id": "7ZtSC5fc09SD"
    },
    {
      "cell_type": "code",
      "source": [
        "# Initialize an empty list to store the cross-validation scores\n",
        "results_svm_sbert = []\n",
        "\n",
        "# Set up the repeated stratified k-fold cross-validator\n",
        "kfold_sbert = RepeatedStratifiedKFold(n_splits=10, n_repeats = 3, random_state=1)\n",
        "\n",
        "# Perform cross-validation on the model using the sbert_features_train_new and train_data[\"recommended\"] data\n",
        "# and store the results in the results_svm_sbert list\n",
        "# Use the repeated stratified k-fold cross-validator and the 'accuracy' scoring metric\n",
        "results_svm_sbert = cross_val_score(model_svm_sbert, sbert_features_train_new, train_data[\"recommended\"], \n",
        "                                    cv=kfold_sbert, scoring='accuracy') "
      ],
      "metadata": {
        "id": "KXnSJ9chLGSQ"
      },
      "execution_count": null,
      "outputs": [],
      "id": "KXnSJ9chLGSQ"
    },
    {
      "cell_type": "code",
      "source": [
        "np.save('results_svm_sbert.npy', results_svm_sbert)"
      ],
      "metadata": {
        "id": "Vpe8Td_2LGSQ"
      },
      "execution_count": null,
      "outputs": [],
      "id": "Vpe8Td_2LGSQ"
    },
    {
      "cell_type": "code",
      "source": [
        "results_svm_sbert1 = np.load('results_svm_sbert.npy')"
      ],
      "metadata": {
        "id": "7z7KJXpYLGSR"
      },
      "execution_count": 39,
      "outputs": [],
      "id": "7z7KJXpYLGSR"
    },
    {
      "cell_type": "code",
      "source": [
        "# Calculate the mean and standard deviation of the results_svm_sbert1 list\n",
        "mean3 = results_svm_sbert1.mean()\n",
        "std3 =  results_svm_sbert1.std()\n",
        "\n",
        "# Print the mean and standard deviation values\n",
        "p_mean3 = print(\"Mean Acurracy: {:.2f} %\".format(mean3 *100),end='\\n')\n",
        "p_std3= print(\"STD Acurracy: {:.4f}\".format(std3 ),end='\\n')"
      ],
      "metadata": {
        "colab": {
          "base_uri": "https://localhost:8080/"
        },
        "outputId": "e53d96d4-547a-4459-d771-38f07e0e96ff",
        "id": "l0hhl5wsLGSR"
      },
      "execution_count": 86,
      "outputs": [
        {
          "output_type": "stream",
          "name": "stdout",
          "text": [
            "Mean Acurracy: 86.93 %\n",
            "STD Acurracy: 0.0060\n"
          ]
        }
      ],
      "id": "l0hhl5wsLGSR"
    },
    {
      "cell_type": "code",
      "source": [
        "# create a figure\n",
        "fig3, ax3 = plt.subplots(figsize=(8, 6))\n",
        "\n",
        "# compute the mean and standard deviation of the scores\n",
        "mean_scores_sbert = np.mean(results_svm_sbert1)\n",
        "std_scores_sbert = np.std(results_svm_sbert1)\n",
        "\n",
        "# create a line plot of the scores\n",
        "ax3.plot(range(1, len(results_svm_sbert1)+1), results_svm_sbert1, color='#378D3B', linewidth=2, alpha=0.8)\n",
        "\n",
        "# add the mean as a horizontal line\n",
        "ax3.axhline(mean_scores_sbert, color='#378D3B', linestyle='--', linewidth=2, alpha=0.8)\n",
        "\n",
        "# add the standard deviation as a transparent band around the mean line\n",
        "ax3.fill_between(range(1, len(results_svm_sbert1)+1), mean_scores_sbert - std_scores_sbert, mean_scores_sbert + std_scores_sbert, color='#378D3B', alpha=0.2)\n",
        "\n",
        "# add grid lines\n",
        "ax3.grid(axis='y', linestyle='--')\n",
        "\n",
        "# add plot title and axis labels\n",
        "ax3.set_title(\"Cross-Validation Scores (SBERT + SVM)\")\n",
        "ax3.set_xlabel(\"Fold\")\n",
        "ax3.set_ylabel(\"Accuracy Score\")\n",
        "\n",
        "# show the plot\n",
        "plt.show()\n"
      ],
      "metadata": {
        "colab": {
          "base_uri": "https://localhost:8080/",
          "height": 404
        },
        "id": "5Trypgq2h5MA",
        "outputId": "0359b36d-4932-4c00-c896-a368c74c73b6"
      },
      "id": "5Trypgq2h5MA",
      "execution_count": 36,
      "outputs": [
        {
          "output_type": "display_data",
          "data": {
            "text/plain": [
              "<Figure size 576x432 with 1 Axes>"
            ],
            "image/png": "[encoded data removed]"
          },
          "metadata": {
            "needs_background": "light"
          }
        }
      ]
    },
    {
      "cell_type": "code",
      "source": [
        "# Set the figure size\n",
        "plt.figure(figsize=(12, 8))\n",
        "\n",
        "# Turn off the grid lines\n",
        "plt.grid(False)\n",
        "\n",
        "# Set the categories or settings to be plotted on the x-axis\n",
        "categories = ['TF-IDF + SVM', 'BERT + SVM', 'SBERT + SVM']\n",
        "\n",
        "# Set the values for each metric to be plotted on the y-axis\n",
        "accuracy = [0.87, 0.84, 0.86]\n",
        "f1_score = [0.92, 0.89, 0.91]\n",
        "percison = [0.89, 0.87, 0.89]\n",
        "recall = [0.94, 0.92 , 0.92]\n",
        "\n",
        "# Set the width of each bar\n",
        "bar_width = 0.1\n",
        "\n",
        "# Set the position of the x-ticks\n",
        "x_pos = [i for i in range(len(categories))]\n",
        "\n",
        "# Plot the first metric as a bar plot\n",
        "plt.bar(x_pos, accuracy, width=bar_width, label='Accuracy')\n",
        "\n",
        "# Add the second metric as an additional bar plot, offset by the bar width\n",
        "plt.bar([x + bar_width for x in x_pos], f1_score, width=bar_width, label='F1_score')\n",
        "\n",
        "# Add the second metric as an additional bar plot, offset by the bar width\n",
        "plt.bar([x + 2*bar_width for x in x_pos], percison, width=bar_width, label='Percison')\n",
        "\n",
        "# Add the second metric as an additional bar plot, offset by the bar width\n",
        "plt.bar([x + 3*bar_width for x in x_pos], recall, width=bar_width, label='Recall')\n",
        "\n",
        "# Add the x-tick labels and set the x-axis limits\n",
        "plt.xticks(x_pos, categories)\n",
        "plt.xlim(-0.5, len(categories)-0.1)\n",
        "\n",
        "# Set the margins on the left and right sides of the plot\n",
        "plt.subplots_adjust(left=0.1, right=0.9)\n",
        "\n",
        "# Add a legend and display the plot\n",
        "plt.legend()\n",
        "plt.show()\n"
      ],
      "metadata": {
        "colab": {
          "base_uri": "https://localhost:8080/",
          "height": 485
        },
        "id": "iRHkoSeuyyDg",
        "outputId": "dae006fb-5cb2-42a1-836e-7a7c480b2e61"
      },
      "id": "iRHkoSeuyyDg",
      "execution_count": 47,
      "outputs": [
        {
          "output_type": "display_data",
          "data": {
            "text/plain": [
              "<Figure size 864x576 with 1 Axes>"
            ],
            "image/png": "[encoded data removed]"
          },
          "metadata": {}
        }
      ]
    },
    {
      "cell_type": "code",
      "source": [
        "# Set the size of the plot figure\n",
        "plt.figure(figsize = (10, 8))\n",
        "\n",
        "# Turn off the grid lines\n",
        "plt.grid(False)\n",
        "\n",
        "# Set the title of the plot\n",
        "plt.title(\"Mean accuracies of TF-IDF+SVM, BERT+SVM, SBERT+SVM\", fontsize = 16, fontweight = 'bold')\n",
        "\n",
        "# Create the box plot using the results_svm_tfidf1, results_svm_bert1, and results_svm_sbert1 lists as the data\n",
        "# and the labels 'TFIDF_SVM', 'BERT_SVM', and 'SBERT_SVM' as the labels for each box\n",
        "# Also show the mean values with markers\n",
        "plt.boxplot([results_svm_tfidf1,results_svm_bert1, results_svm_sbert1], labels=['TFIDF_SVM', 'BERT_SVM', 'SBERT_SVM'], showmeans=True)\n",
        "\n",
        "# Display the plot\n",
        "plt.show()"
      ],
      "metadata": {
        "colab": {
          "base_uri": "https://localhost:8080/",
          "height": 504
        },
        "id": "zINOx_RzuBDK",
        "outputId": "17cefdb5-a605-4fd3-a5c4-9e1cc7d4d3b1"
      },
      "id": "zINOx_RzuBDK",
      "execution_count": 46,
      "outputs": [
        {
          "output_type": "display_data",
          "data": {
            "text/plain": [
              "<Figure size 720x576 with 1 Axes>"
            ],
            "image/png": "[encoded data removed]"
          },
          "metadata": {}
        }
      ]
    },
    {
      "cell_type": "markdown",
      "source": [
        "### Normality Test "
      ],
      "metadata": {
        "id": "bW-3M25wWYbs"
      },
      "id": "bW-3M25wWYbs"
    },
    {
      "cell_type": "markdown",
      "source": [
        "\n",
        "**Shapiro-Wilk test on the normally distributed of 10 fold Cross validation of each model scores**\n",
        "\n",
        "* H0: Sample is from the normal distributions.(Po>0.05)\n",
        "* H1: Sample is not from the normal distributions.\n",
        "\n"
      ],
      "metadata": {
        "id": "7H5IHLv_h6jz"
      },
      "id": "7H5IHLv_h6jz"
    },
    {
      "cell_type": "code",
      "source": [
        "# Shapiro-Wilk test for TF-IDF + SVM\n",
        "shapiro(results_svm_tfidf1)"
      ],
      "metadata": {
        "colab": {
          "base_uri": "https://localhost:8080/"
        },
        "id": "kpcdvjjGkqzT",
        "outputId": "f6b8eff7-5668-4256-cd08-0d72f8c52e95"
      },
      "id": "kpcdvjjGkqzT",
      "execution_count": null,
      "outputs": [
        {
          "output_type": "execute_result",
          "data": {
            "text/plain": [
              "ShapiroResult(statistic=0.9711730480194092, pvalue=0.5717493295669556)"
            ]
          },
          "metadata": {},
          "execution_count": 19
        }
      ]
    },
    {
      "cell_type": "markdown",
      "source": [
        "H0 is accepted as Pvalue is bigger than of 0.05. the scores are normal "
      ],
      "metadata": {
        "id": "1suQeJ2lrWE0"
      },
      "id": "1suQeJ2lrWE0"
    },
    {
      "cell_type": "code",
      "source": [
        "# Shapiro-Wilk test for BERT + SVM\n",
        "shapiro(results_svm_bert1)"
      ],
      "metadata": {
        "colab": {
          "base_uri": "https://localhost:8080/"
        },
        "outputId": "93b9bf62-1a87-4258-cffb-ea2b0a4d970e",
        "id": "RWOGBIfyuf8O"
      },
      "execution_count": null,
      "outputs": [
        {
          "output_type": "execute_result",
          "data": {
            "text/plain": [
              "ShapiroResult(statistic=0.9446528553962708, pvalue=0.12140970677137375)"
            ]
          },
          "metadata": {},
          "execution_count": 32
        }
      ],
      "id": "RWOGBIfyuf8O"
    },
    {
      "cell_type": "markdown",
      "source": [
        "H0 is accepted as Pvalue is bigger than of 0.05. the scores are normal "
      ],
      "metadata": {
        "id": "vq3Dtg7Uuf8O"
      },
      "id": "vq3Dtg7Uuf8O"
    },
    {
      "cell_type": "code",
      "source": [
        "# Shapiro-Wilk test for SBERT +SVM\n",
        "shapiro(results_svm_sbert1)"
      ],
      "metadata": {
        "colab": {
          "base_uri": "https://localhost:8080/"
        },
        "outputId": "517e1921-4e9e-451a-806d-8b914c59ae5d",
        "id": "C7Vh5TVVLGSR"
      },
      "execution_count": null,
      "outputs": [
        {
          "output_type": "execute_result",
          "data": {
            "text/plain": [
              "ShapiroResult(statistic=0.9749371409416199, pvalue=0.680877149105072)"
            ]
          },
          "metadata": {},
          "execution_count": 41
        }
      ],
      "id": "C7Vh5TVVLGSR"
    },
    {
      "cell_type": "markdown",
      "source": [
        "H0 is accepted as Pvalue is bigger than of 0.05. the scores are normal "
      ],
      "metadata": {
        "id": "UFaNKUVQLGSR"
      },
      "id": "UFaNKUVQLGSR"
    },
    {
      "cell_type": "markdown",
      "source": [
        "### Student t-test for Hypothesis Acceptance and Rejection"
      ],
      "metadata": {
        "id": "ksdbm6TYXA_p"
      },
      "id": "ksdbm6TYXA_p"
    },
    {
      "cell_type": "markdown",
      "source": [
        "TFIDF, BERT"
      ],
      "metadata": {
        "id": "Iztt1bUD4bFl"
      },
      "id": "Iztt1bUD4bFl"
    },
    {
      "cell_type": "code",
      "source": [
        "# Calculate the mean values of the results_svm_tfidf1 and results_svm_bert1 lists\n",
        "tfidf_svm_acc_scor_bar, bert_svm_acc_scor_bar = np.mean(results_svm_tfidf1), np.mean(results_svm_bert1)\n",
        "\n",
        "# Print the mean values\n",
        "print(\"TFIDF_SVM acuracy scores mean:\",np.round(tfidf_svm_acc_scor_bar,4))\n",
        "print(\"BERT_SVM acuracy scores mean:\",np.round(bert_svm_acc_scor_bar,4))\n",
        "\n",
        "# Calculate the number of values in the results_svm_tfidf1 and results_svm_bert1 lists\n",
        "n1, n2 = len(results_svm_tfidf1), len(results_svm_bert1)\n",
        "\n",
        "# Calculate the variance of the results_svm_tfidf1 and results_svm_bert1 lists\n",
        "var_tfidf_svm_acc_scor_bar, var_bert_svm_acc_scor_bar= np.var(results_svm_tfidf1, ddof=1), np.var(results_svm_bert1, ddof=1)\n",
        "\n",
        "# Print the variance values\n",
        "print(\"variance of TFIDF_SVM acuracy scores:\",np.round(var_tfidf_svm_acc_scor_bar,4))\n",
        "print(\"variance of BERT_SVM acuracy scores:\",np.round(var_bert_svm_acc_scor_bar,4))\n",
        "\n",
        "# Calculate the pooled sample variance and standard error\n",
        "var_tfidf_bert = ( ((n1-1)*var_tfidf_svm_acc_scor_bar) + ((n2-1)*var_bert_svm_acc_scor_bar) ) / (n1+n2-2)\n",
        "std_error_tfidf_bert = np.sqrt(var_tfidf_bert * (1.0 / n1 + 1.0 / n2))\n",
        "\n",
        "# Print the pooled sample variance and standard error\n",
        "print(\"pooled sample variance:\",var_tfidf_bert)\n",
        "print(\"standard error:\",std_error_tfidf_bert)"
      ],
      "metadata": {
        "colab": {
          "base_uri": "https://localhost:8080/"
        },
        "outputId": "a09e4fe7-bfdc-43ec-807e-0f6d834acfff",
        "id": "e5hgUF4d4bls"
      },
      "execution_count": null,
      "outputs": [
        {
          "output_type": "stream",
          "name": "stdout",
          "text": [
            "TFIDF_SVM acuracy scores mean: 0.8821\n",
            "BERT_SVM acuracy scores mean: 0.8571\n",
            "variance of TFIDF_SVM acuracy scores: 0.0\n",
            "variance of BERT_SVM acuracy scores: 0.0\n",
            "pooled sample variance: 3.990334972277346e-05\n",
            "standard error: 0.0016310191031534743\n"
          ]
        }
      ],
      "id": "e5hgUF4d4bls"
    },
    {
      "cell_type": "code",
      "source": [
        "# Calculating of t-static\n",
        "t = abs(tfidf_svm_acc_scor_bar - bert_svm_acc_scor_bar) / std_error_tfidf_bert\n",
        "print('t static:',t)\n",
        "\n",
        "# Calculating two-tailed & one-tailed critical value at alpha = 0.05\n",
        "t_c = stats.t.ppf(q=0.975, df=12)\n",
        "t_c = stats.t.ppf(q=0.95, df=12)\n",
        "print(\"Critical value for t two tailed:\",t_c)\n",
        "print(\"Critical value for t one tailed:\",t_c)\n",
        "\n",
        "# Calculating two-tailed & one-tailed p-value\n",
        "p_two = 2*(1-stats.t.cdf(x=t, df=12))\n",
        " \n",
        "# Calculating two-tailed & one-tailed p-value\n",
        "p_one = 1-stats.t.cdf(x=t, df=12)\n",
        "print(\"p-value for two tailed:\",p_two)\n",
        "print(\"p-value for one tailed:\",p_one)"
      ],
      "metadata": {
        "colab": {
          "base_uri": "https://localhost:8080/"
        },
        "outputId": "b54d7463-026e-4504-e1aa-2520202a3f8b",
        "id": "B5yjmplx4blt"
      },
      "execution_count": null,
      "outputs": [
        {
          "output_type": "stream",
          "name": "stdout",
          "text": [
            "t static: 15.361583982012796\n",
            "Critical value for t two tailed: 2.1788128296634177\n",
            "Critical value for t one tailed: 1.782287555649159\n",
            "p-value for two tailed: 2.958851386125616e-09\n",
            "p-value for one tailed: 1.479425693062808e-09\n"
          ]
        }
      ],
      "id": "B5yjmplx4blt"
    },
    {
      "cell_type": "code",
      "source": [
        "pval_tfidf_bert = 2.958851386125616e-09\n",
        "stat_tfidf_bert = 15.361583982012796\n",
        "\n",
        "print(\"p-value for two tailed TF_IDF and BERT: {:.4f}\".format(pval_tfidf_bert),end='\\n')\n",
        "print(\"T Static for two tailed TF_IDF and BERT: {:.4f}\".format(stat_tfidf_bert),end='\\n')"
      ],
      "metadata": {
        "colab": {
          "base_uri": "https://localhost:8080/"
        },
        "id": "0g9fPDrZN8qc",
        "outputId": "d8980867-6a84-46ca-db7c-8146b27052b3"
      },
      "id": "0g9fPDrZN8qc",
      "execution_count": 3,
      "outputs": [
        {
          "output_type": "stream",
          "name": "stdout",
          "text": [
            "p-value for two tailed TF_IDF and BERT: 0.0000\n",
            "T Static for two tailed TF_IDF and BERT: 15.3616\n"
          ]
        }
      ]
    },
    {
      "cell_type": "code",
      "source": [
        "# Compare the p-value to the significance level (0.05)\n",
        "if pval_tfidf_bert < 0.05:\n",
        "  # If the p-value is less than the significance level, reject the null hypothesis\n",
        "  print('H0 is rejected')\n",
        "else:\n",
        "  # If the p-value is greater than or equal to the significance level, accept the null hypothesis\n",
        "  print('H0 is accepted')"
      ],
      "metadata": {
        "colab": {
          "base_uri": "https://localhost:8080/"
        },
        "id": "miXMzhCW6Ysk",
        "outputId": "c1d48504-7b39-454a-e21a-a302159ee4f8"
      },
      "id": "miXMzhCW6Ysk",
      "execution_count": 7,
      "outputs": [
        {
          "output_type": "stream",
          "name": "stdout",
          "text": [
            "H0 is accepted \n"
          ]
        }
      ]
    },
    {
      "cell_type": "markdown",
      "source": [
        "TFIDF , SBERT"
      ],
      "metadata": {
        "id": "Zjx5Ec0d4Q92"
      },
      "id": "Zjx5Ec0d4Q92"
    },
    {
      "cell_type": "code",
      "source": [
        "# Calculate the mean values of the results_svm_tfidf1 and results_svm_sbert1 lists\n",
        "tfidf_svm_acc_scor_bar, sbert_svm_acc_scor_bar = np.mean(results_svm_tfidf1), np.mean(results_svm_sbert1)\n",
        "\n",
        "# Print the mean values\n",
        "print(\"TFIDF_SVM acuracy scores mean:\",np.round(tfidf_svm_acc_scor_bar,4))\n",
        "print(\"SBERT_SVM acuracy scores mean:\",np.round(sbert_svm_acc_scor_bar,4))\n",
        "\n",
        "# Calculate the number of values in the results_svm_tfidf1 and results_svm_sbert1 lists\n",
        "n1, n2 = len(results_svm_tfidf1), len(results_svm_sbert1)\n",
        "\n",
        "# Calculate the variance of the results_svm_tfidf1 and results_svm_sbert1 lists\n",
        "var_tfidf_svm_acc_scor_bar, var_sbert_svm_acc_scor_bar= np.var(results_svm_tfidf1, ddof=1), np.var(results_svm_sbert1, ddof=1)\n",
        "print(\"variance of TFIDF_SVM acuracy scores:\",np.round(var_tfidf_svm_acc_scor_bar,4))\n",
        "print(\"variance of SBERT_SVM acuracy scores:\",np.round(var_sbert_svm_acc_scor_bar,4))\n",
        "\n",
        "# Calculating pooled sample variance & standard error\n",
        "var_tfidf_sbert = ( ((n1-1)*var_tfidf_svm_acc_scor_bar) + ((n2-1)*var_sbert_svm_acc_scor_bar) ) / (n1+n2-2)\n",
        "std_error_tfidf_sbert = np.sqrt(var_tfidf_sbert * (1.0 / n1 + 1.0 / n2))\n",
        "print(\"pooled sample variance:\",var_tfidf_sbert)\n",
        "print(\"standard error:\",std_error_tfidf_sbert)"
      ],
      "metadata": {
        "colab": {
          "base_uri": "https://localhost:8080/"
        },
        "outputId": "49c24e98-2501-4834-edca-aab4b3484a10",
        "id": "yB-vKo1n7j44"
      },
      "execution_count": null,
      "outputs": [
        {
          "output_type": "stream",
          "name": "stdout",
          "text": [
            "TFIDF_SVM acuracy scores mean: 0.8821\n",
            "SBERT_SVM acuracy scores mean: 0.8693\n",
            "variance of TFIDF_SVM acuracy scores: 0.0\n",
            "variance of SBERT_SVM acuracy scores: 0.0\n",
            "pooled sample variance: 3.733580696894729e-05\n",
            "standard error: 0.0015776735397191079\n"
          ]
        }
      ],
      "id": "yB-vKo1n7j44"
    },
    {
      "cell_type": "code",
      "source": [
        "# Calculating of t-static\n",
        "t = abs(tfidf_svm_acc_scor_bar - sbert_svm_acc_scor_bar) / std_error_tfidf_sbert\n",
        "print('t static:',t)\n",
        "\n",
        "# Calculating two-tailed & one-tailed critical value at alpha = 0.05\n",
        "t_c = stats.t.ppf(q=0.975, df=12)\n",
        "t_c = stats.t.ppf(q=0.95, df=12)\n",
        "print(\"Critical value for t two tailed:\",t_c)\n",
        "print(\"Critical value for t one tailed:\",t_c)\n",
        " \n",
        "# Calculating two-tailed & one-tailed p-value\n",
        "p_two = 2*(1-stats.t.cdf(x=t, df=12)) \n",
        "p_one = 1-stats.t.cdf(x=t, df=12)\n",
        "print(\"p-value for two tailed:\",p_two)\n",
        "print(\"p-value for one tailed:\",p_one)"
      ],
      "metadata": {
        "colab": {
          "base_uri": "https://localhost:8080/"
        },
        "outputId": "d8ae763e-8e43-4c7b-eeb5-21f515935715",
        "id": "jf0UEfKS7j45"
      },
      "execution_count": null,
      "outputs": [
        {
          "output_type": "stream",
          "name": "stdout",
          "text": [
            "t static: 8.12991570387337\n",
            "Critical value for t two tailed: 2.1788128296634177\n",
            "Critical value for t one tailed: 1.782287555649159\n",
            "p-value for two tailed: 3.1870260888133828e-06\n",
            "p-value for one tailed: 1.5935130444066914e-06\n"
          ]
        }
      ],
      "id": "jf0UEfKS7j45"
    },
    {
      "cell_type": "code",
      "source": [
        "pval_tfidf_sbert = 3.1870260888133828e-06\n",
        "stat_tfidf_sbert = 8.12991570387337\n",
        "\n",
        "print(\"p-value for two tailed TF_IDF and SBERT: {:.4f}\".format(pval_tfidf_sbert),end='\\n')\n",
        "print(\"T Static for two tailed TF_IDF and SBERT: {:.4f}\".format(stat_tfidf_sbert),end='\\n')"
      ],
      "metadata": {
        "colab": {
          "base_uri": "https://localhost:8080/"
        },
        "id": "ad5Xjg7ePZIi",
        "outputId": "138690ac-9dc6-49b6-b76f-57353e2e8e1e"
      },
      "id": "ad5Xjg7ePZIi",
      "execution_count": 1,
      "outputs": [
        {
          "output_type": "stream",
          "name": "stdout",
          "text": [
            "p-value for two tailed TF_IDF and SBERT: 0.0000\n",
            "T Static for two tailed TF_IDF and SBERT: 8.1299\n"
          ]
        }
      ]
    },
    {
      "cell_type": "code",
      "source": [
        "# Compare the p-value to the significance level (0.05)\n",
        "if pval_tfidf_bert < 0.05:\n",
        "  # If the p-value is less than the significance level, reject the null hypothesis\n",
        "  print('H0 is rejected')\n",
        "else:\n",
        "  # If the p-value is greater than or equal to the significance level, accept the null hypothesis\n",
        "  print('H0 is accepted')"
      ],
      "metadata": {
        "colab": {
          "base_uri": "https://localhost:8080/"
        },
        "outputId": "66b8acbd-4ef2-4ba0-bd0b-ed196acc51f2",
        "id": "4INezeTj7j46"
      },
      "execution_count": 6,
      "outputs": [
        {
          "output_type": "stream",
          "name": "stdout",
          "text": [
            "H0 is accepted \n"
          ]
        }
      ],
      "id": "4INezeTj7j46"
    },
    {
      "cell_type": "markdown",
      "source": [
        " <table style=\"width:100%\">\n",
        "  <tr>\n",
        "    <th>Rank</th>\n",
        "    <th>Text Transformer + Classifier</th>\n",
        "    <th>Mean Accuracy (10-fold Cross Val) %</th>\n",
        "  </tr>\n",
        "  <tr>\n",
        "    <td>1</td>\n",
        "    <td>TFIDF + SVM</td>\n",
        "    <td bgcolor=\"\">88.21 %</td>\n",
        "  </tr>\n",
        "  <tr>\n",
        "    <td>2</td>\n",
        "    <td>SBERT (Sentence Embedding) + SVM</td>\n",
        "    <td bgcolor=\"\">86.93 %</td>\n",
        "  </tr>\n",
        "  <tr>\n",
        "    <td>3</td>\n",
        "    <td>BERT (Word Embedding) + SVM</td>\n",
        "    <td>85.71 %</td>\n",
        "  </tr>\n",
        "</table> "
      ],
      "metadata": {
        "id": "KezHM6necBG1"
      },
      "id": "KezHM6necBG1"
    }
  ],
  "metadata": {
    "colab": {
      "provenance": [],
      "include_colab_link": true
    },
    "gpuClass": "standard",
    "kernelspec": {
      "display_name": "Python 3 (ipykernel)",
      "language": "python",
      "name": "python3"
    },
    "language_info": {
      "codemirror_mode": {
        "name": "ipython",
        "version": 3
      },
      "file_extension": ".py",
      "mimetype": "text/x-python",
      "name": "python",
      "nbconvert_exporter": "python",
      "pygments_lexer": "ipython3",
      "version": "3.8.12"
    },
    "latex_envs": {
      "LaTeX_envs_menu_present": true,
      "autoclose": false,
      "autocomplete": true,
      "bibliofile": "biblio.bib",
      "cite_by": "apalike",
      "current_citInitial": 1,
      "eqLabelWithNumbers": true,
      "eqNumInitial": 1,
      "hotkeys": {
        "equation": "Ctrl-E",
        "itemize": "Ctrl-I"
      },
      "labels_anchors": false,
      "latex_user_defs": false,
      "report_style_numbering": false,
      "user_envs_cfg": false
    },
    "toc": {
      "base_numbering": 1,
      "nav_menu": {},
      "number_sections": true,
      "sideBar": true,
      "skip_h1_title": false,
      "title_cell": "Table of Contents",
      "title_sidebar": "Contents",
      "toc_cell": false,
      "toc_position": {},
      "toc_section_display": true,
      "toc_window_display": false
    },
    "widgets": {
      "application/vnd.jupyter.widget-state+json": {
        "b8b579a94c314e45b39d26fcf8a1d038": {
          "model_module": "@jupyter-widgets/controls",
          "model_name": "HBoxModel",
          "model_module_version": "1.5.0",
          "state": {
            "_dom_classes": [],
            "_model_module": "@jupyter-widgets/controls",
            "_model_module_version": "1.5.0",
            "_model_name": "HBoxModel",
            "_view_count": null,
            "_view_module": "@jupyter-widgets/controls",
            "_view_module_version": "1.5.0",
            "_view_name": "HBoxView",
            "box_style": "",
            "children": [
              "IPY_MODEL_6c16a7aebc9e475587e522d79ebb42ff",
              "IPY_MODEL_4f2a562dbae54545be7d79f3933b6458",
              "IPY_MODEL_2461b4ab0c05487b883c160915b53b2f"
            ],
            "layout": "IPY_MODEL_9596212d08ea443a99e0462f4a5a7c89"
          }
        },
        "6c16a7aebc9e475587e522d79ebb42ff": {
          "model_module": "@jupyter-widgets/controls",
          "model_name": "HTMLModel",
          "model_module_version": "1.5.0",
          "state": {
            "_dom_classes": [],
            "_model_module": "@jupyter-widgets/controls",
            "_model_module_version": "1.5.0",
            "_model_name": "HTMLModel",
            "_view_count": null,
            "_view_module": "@jupyter-widgets/controls",
            "_view_module_version": "1.5.0",
            "_view_name": "HTMLView",
            "description": "",
            "description_tooltip": null,
            "layout": "IPY_MODEL_fdeee2353db246d09b3b7a0ec1703d96",
            "placeholder": "​",
            "style": "IPY_MODEL_b1d5c644c7f948569f0c0bb0ad4c4737",
            "value": "Downloading: 100%"
          }
        },
        "4f2a562dbae54545be7d79f3933b6458": {
          "model_module": "@jupyter-widgets/controls",
          "model_name": "FloatProgressModel",
          "model_module_version": "1.5.0",
          "state": {
            "_dom_classes": [],
            "_model_module": "@jupyter-widgets/controls",
            "_model_module_version": "1.5.0",
            "_model_name": "FloatProgressModel",
            "_view_count": null,
            "_view_module": "@jupyter-widgets/controls",
            "_view_module_version": "1.5.0",
            "_view_name": "ProgressView",
            "bar_style": "success",
            "description": "",
            "description_tooltip": null,
            "layout": "IPY_MODEL_c564f9ca62014251bf16c5bf5610dfb4",
            "max": 391,
            "min": 0,
            "orientation": "horizontal",
            "style": "IPY_MODEL_4ca3c06ce2974ec5b8ca0a32f8bab64d",
            "value": 391
          }
        },
        "2461b4ab0c05487b883c160915b53b2f": {
          "model_module": "@jupyter-widgets/controls",
          "model_name": "HTMLModel",
          "model_module_version": "1.5.0",
          "state": {
            "_dom_classes": [],
            "_model_module": "@jupyter-widgets/controls",
            "_model_module_version": "1.5.0",
            "_model_name": "HTMLModel",
            "_view_count": null,
            "_view_module": "@jupyter-widgets/controls",
            "_view_module_version": "1.5.0",
            "_view_name": "HTMLView",
            "description": "",
            "description_tooltip": null,
            "layout": "IPY_MODEL_9dd1d65d76814d81850f57b34a493d1a",
            "placeholder": "​",
            "style": "IPY_MODEL_615d889a2feb4da1b714d8e4e08705a2",
            "value": " 391/391 [00:00&lt;00:00, 4.89kB/s]"
          }
        },
        "9596212d08ea443a99e0462f4a5a7c89": {
          "model_module": "@jupyter-widgets/base",
          "model_name": "LayoutModel",
          "model_module_version": "1.2.0",
          "state": {
            "_model_module": "@jupyter-widgets/base",
            "_model_module_version": "1.2.0",
            "_model_name": "LayoutModel",
            "_view_count": null,
            "_view_module": "@jupyter-widgets/base",
            "_view_module_version": "1.2.0",
            "_view_name": "LayoutView",
            "align_content": null,
            "align_items": null,
            "align_self": null,
            "border": null,
            "bottom": null,
            "display": null,
            "flex": null,
            "flex_flow": null,
            "grid_area": null,
            "grid_auto_columns": null,
            "grid_auto_flow": null,
            "grid_auto_rows": null,
            "grid_column": null,
            "grid_gap": null,
            "grid_row": null,
            "grid_template_areas": null,
            "grid_template_columns": null,
            "grid_template_rows": null,
            "height": null,
            "justify_content": null,
            "justify_items": null,
            "left": null,
            "margin": null,
            "max_height": null,
            "max_width": null,
            "min_height": null,
            "min_width": null,
            "object_fit": null,
            "object_position": null,
            "order": null,
            "overflow": null,
            "overflow_x": null,
            "overflow_y": null,
            "padding": null,
            "right": null,
            "top": null,
            "visibility": null,
            "width": null
          }
        },
        "fdeee2353db246d09b3b7a0ec1703d96": {
          "model_module": "@jupyter-widgets/base",
          "model_name": "LayoutModel",
          "model_module_version": "1.2.0",
          "state": {
            "_model_module": "@jupyter-widgets/base",
            "_model_module_version": "1.2.0",
            "_model_name": "LayoutModel",
            "_view_count": null,
            "_view_module": "@jupyter-widgets/base",
            "_view_module_version": "1.2.0",
            "_view_name": "LayoutView",
            "align_content": null,
            "align_items": null,
            "align_self": null,
            "border": null,
            "bottom": null,
            "display": null,
            "flex": null,
            "flex_flow": null,
            "grid_area": null,
            "grid_auto_columns": null,
            "grid_auto_flow": null,
            "grid_auto_rows": null,
            "grid_column": null,
            "grid_gap": null,
            "grid_row": null,
            "grid_template_areas": null,
            "grid_template_columns": null,
            "grid_template_rows": null,
            "height": null,
            "justify_content": null,
            "justify_items": null,
            "left": null,
            "margin": null,
            "max_height": null,
            "max_width": null,
            "min_height": null,
            "min_width": null,
            "object_fit": null,
            "object_position": null,
            "order": null,
            "overflow": null,
            "overflow_x": null,
            "overflow_y": null,
            "padding": null,
            "right": null,
            "top": null,
            "visibility": null,
            "width": null
          }
        },
        "b1d5c644c7f948569f0c0bb0ad4c4737": {
          "model_module": "@jupyter-widgets/controls",
          "model_name": "DescriptionStyleModel",
          "model_module_version": "1.5.0",
          "state": {
            "_model_module": "@jupyter-widgets/controls",
            "_model_module_version": "1.5.0",
            "_model_name": "DescriptionStyleModel",
            "_view_count": null,
            "_view_module": "@jupyter-widgets/base",
            "_view_module_version": "1.2.0",
            "_view_name": "StyleView",
            "description_width": ""
          }
        },
        "c564f9ca62014251bf16c5bf5610dfb4": {
          "model_module": "@jupyter-widgets/base",
          "model_name": "LayoutModel",
          "model_module_version": "1.2.0",
          "state": {
            "_model_module": "@jupyter-widgets/base",
            "_model_module_version": "1.2.0",
            "_model_name": "LayoutModel",
            "_view_count": null,
            "_view_module": "@jupyter-widgets/base",
            "_view_module_version": "1.2.0",
            "_view_name": "LayoutView",
            "align_content": null,
            "align_items": null,
            "align_self": null,
            "border": null,
            "bottom": null,
            "display": null,
            "flex": null,
            "flex_flow": null,
            "grid_area": null,
            "grid_auto_columns": null,
            "grid_auto_flow": null,
            "grid_auto_rows": null,
            "grid_column": null,
            "grid_gap": null,
            "grid_row": null,
            "grid_template_areas": null,
            "grid_template_columns": null,
            "grid_template_rows": null,
            "height": null,
            "justify_content": null,
            "justify_items": null,
            "left": null,
            "margin": null,
            "max_height": null,
            "max_width": null,
            "min_height": null,
            "min_width": null,
            "object_fit": null,
            "object_position": null,
            "order": null,
            "overflow": null,
            "overflow_x": null,
            "overflow_y": null,
            "padding": null,
            "right": null,
            "top": null,
            "visibility": null,
            "width": null
          }
        },
        "4ca3c06ce2974ec5b8ca0a32f8bab64d": {
          "model_module": "@jupyter-widgets/controls",
          "model_name": "ProgressStyleModel",
          "model_module_version": "1.5.0",
          "state": {
            "_model_module": "@jupyter-widgets/controls",
            "_model_module_version": "1.5.0",
            "_model_name": "ProgressStyleModel",
            "_view_count": null,
            "_view_module": "@jupyter-widgets/base",
            "_view_module_version": "1.2.0",
            "_view_name": "StyleView",
            "bar_color": null,
            "description_width": ""
          }
        },
        "9dd1d65d76814d81850f57b34a493d1a": {
          "model_module": "@jupyter-widgets/base",
          "model_name": "LayoutModel",
          "model_module_version": "1.2.0",
          "state": {
            "_model_module": "@jupyter-widgets/base",
            "_model_module_version": "1.2.0",
            "_model_name": "LayoutModel",
            "_view_count": null,
            "_view_module": "@jupyter-widgets/base",
            "_view_module_version": "1.2.0",
            "_view_name": "LayoutView",
            "align_content": null,
            "align_items": null,
            "align_self": null,
            "border": null,
            "bottom": null,
            "display": null,
            "flex": null,
            "flex_flow": null,
            "grid_area": null,
            "grid_auto_columns": null,
            "grid_auto_flow": null,
            "grid_auto_rows": null,
            "grid_column": null,
            "grid_gap": null,
            "grid_row": null,
            "grid_template_areas": null,
            "grid_template_columns": null,
            "grid_template_rows": null,
            "height": null,
            "justify_content": null,
            "justify_items": null,
            "left": null,
            "margin": null,
            "max_height": null,
            "max_width": null,
            "min_height": null,
            "min_width": null,
            "object_fit": null,
            "object_position": null,
            "order": null,
            "overflow": null,
            "overflow_x": null,
            "overflow_y": null,
            "padding": null,
            "right": null,
            "top": null,
            "visibility": null,
            "width": null
          }
        },
        "615d889a2feb4da1b714d8e4e08705a2": {
          "model_module": "@jupyter-widgets/controls",
          "model_name": "DescriptionStyleModel",
          "model_module_version": "1.5.0",
          "state": {
            "_model_module": "@jupyter-widgets/controls",
            "_model_module_version": "1.5.0",
            "_model_name": "DescriptionStyleModel",
            "_view_count": null,
            "_view_module": "@jupyter-widgets/base",
            "_view_module_version": "1.2.0",
            "_view_name": "StyleView",
            "description_width": ""
          }
        },
        "4faced6dbcc34fb491dfc37885d58cca": {
          "model_module": "@jupyter-widgets/controls",
          "model_name": "HBoxModel",
          "model_module_version": "1.5.0",
          "state": {
            "_dom_classes": [],
            "_model_module": "@jupyter-widgets/controls",
            "_model_module_version": "1.5.0",
            "_model_name": "HBoxModel",
            "_view_count": null,
            "_view_module": "@jupyter-widgets/controls",
            "_view_module_version": "1.5.0",
            "_view_name": "HBoxView",
            "box_style": "",
            "children": [
              "IPY_MODEL_960a309bc9ad42f8b60647a5b1f857d5",
              "IPY_MODEL_c62ed35e9f7a4f92952f5dba5067194d",
              "IPY_MODEL_0601776db21d4be4909e51a14f7fdcd7"
            ],
            "layout": "IPY_MODEL_1e37322634624fa7b341d9d347a44104"
          }
        },
        "960a309bc9ad42f8b60647a5b1f857d5": {
          "model_module": "@jupyter-widgets/controls",
          "model_name": "HTMLModel",
          "model_module_version": "1.5.0",
          "state": {
            "_dom_classes": [],
            "_model_module": "@jupyter-widgets/controls",
            "_model_module_version": "1.5.0",
            "_model_name": "HTMLModel",
            "_view_count": null,
            "_view_module": "@jupyter-widgets/controls",
            "_view_module_version": "1.5.0",
            "_view_name": "HTMLView",
            "description": "",
            "description_tooltip": null,
            "layout": "IPY_MODEL_364680f9ca854277abe1ea91b0e6643e",
            "placeholder": "​",
            "style": "IPY_MODEL_006aa30e147c4b3b959b4ac778185382",
            "value": "Downloading: 100%"
          }
        },
        "c62ed35e9f7a4f92952f5dba5067194d": {
          "model_module": "@jupyter-widgets/controls",
          "model_name": "FloatProgressModel",
          "model_module_version": "1.5.0",
          "state": {
            "_dom_classes": [],
            "_model_module": "@jupyter-widgets/controls",
            "_model_module_version": "1.5.0",
            "_model_name": "FloatProgressModel",
            "_view_count": null,
            "_view_module": "@jupyter-widgets/controls",
            "_view_module_version": "1.5.0",
            "_view_name": "ProgressView",
            "bar_style": "success",
            "description": "",
            "description_tooltip": null,
            "layout": "IPY_MODEL_657cd37432d64786860e041dcb2fb2cd",
            "max": 190,
            "min": 0,
            "orientation": "horizontal",
            "style": "IPY_MODEL_3e1eb46f428b4c84a37670fb749e3ebc",
            "value": 190
          }
        },
        "0601776db21d4be4909e51a14f7fdcd7": {
          "model_module": "@jupyter-widgets/controls",
          "model_name": "HTMLModel",
          "model_module_version": "1.5.0",
          "state": {
            "_dom_classes": [],
            "_model_module": "@jupyter-widgets/controls",
            "_model_module_version": "1.5.0",
            "_model_name": "HTMLModel",
            "_view_count": null,
            "_view_module": "@jupyter-widgets/controls",
            "_view_module_version": "1.5.0",
            "_view_name": "HTMLView",
            "description": "",
            "description_tooltip": null,
            "layout": "IPY_MODEL_db8c0e44a6fa4909b762aa723c845fbd",
            "placeholder": "​",
            "style": "IPY_MODEL_5470ae3076e54fbd9889f1509d48998e",
            "value": " 190/190 [00:00&lt;00:00, 5.05kB/s]"
          }
        },
        "1e37322634624fa7b341d9d347a44104": {
          "model_module": "@jupyter-widgets/base",
          "model_name": "LayoutModel",
          "model_module_version": "1.2.0",
          "state": {
            "_model_module": "@jupyter-widgets/base",
            "_model_module_version": "1.2.0",
            "_model_name": "LayoutModel",
            "_view_count": null,
            "_view_module": "@jupyter-widgets/base",
            "_view_module_version": "1.2.0",
            "_view_name": "LayoutView",
            "align_content": null,
            "align_items": null,
            "align_self": null,
            "border": null,
            "bottom": null,
            "display": null,
            "flex": null,
            "flex_flow": null,
            "grid_area": null,
            "grid_auto_columns": null,
            "grid_auto_flow": null,
            "grid_auto_rows": null,
            "grid_column": null,
            "grid_gap": null,
            "grid_row": null,
            "grid_template_areas": null,
            "grid_template_columns": null,
            "grid_template_rows": null,
            "height": null,
            "justify_content": null,
            "justify_items": null,
            "left": null,
            "margin": null,
            "max_height": null,
            "max_width": null,
            "min_height": null,
            "min_width": null,
            "object_fit": null,
            "object_position": null,
            "order": null,
            "overflow": null,
            "overflow_x": null,
            "overflow_y": null,
            "padding": null,
            "right": null,
            "top": null,
            "visibility": null,
            "width": null
          }
        },
        "364680f9ca854277abe1ea91b0e6643e": {
          "model_module": "@jupyter-widgets/base",
          "model_name": "LayoutModel",
          "model_module_version": "1.2.0",
          "state": {
            "_model_module": "@jupyter-widgets/base",
            "_model_module_version": "1.2.0",
            "_model_name": "LayoutModel",
            "_view_count": null,
            "_view_module": "@jupyter-widgets/base",
            "_view_module_version": "1.2.0",
            "_view_name": "LayoutView",
            "align_content": null,
            "align_items": null,
            "align_self": null,
            "border": null,
            "bottom": null,
            "display": null,
            "flex": null,
            "flex_flow": null,
            "grid_area": null,
            "grid_auto_columns": null,
            "grid_auto_flow": null,
            "grid_auto_rows": null,
            "grid_column": null,
            "grid_gap": null,
            "grid_row": null,
            "grid_template_areas": null,
            "grid_template_columns": null,
            "grid_template_rows": null,
            "height": null,
            "justify_content": null,
            "justify_items": null,
            "left": null,
            "margin": null,
            "max_height": null,
            "max_width": null,
            "min_height": null,
            "min_width": null,
            "object_fit": null,
            "object_position": null,
            "order": null,
            "overflow": null,
            "overflow_x": null,
            "overflow_y": null,
            "padding": null,
            "right": null,
            "top": null,
            "visibility": null,
            "width": null
          }
        },
        "006aa30e147c4b3b959b4ac778185382": {
          "model_module": "@jupyter-widgets/controls",
          "model_name": "DescriptionStyleModel",
          "model_module_version": "1.5.0",
          "state": {
            "_model_module": "@jupyter-widgets/controls",
            "_model_module_version": "1.5.0",
            "_model_name": "DescriptionStyleModel",
            "_view_count": null,
            "_view_module": "@jupyter-widgets/base",
            "_view_module_version": "1.2.0",
            "_view_name": "StyleView",
            "description_width": ""
          }
        },
        "657cd37432d64786860e041dcb2fb2cd": {
          "model_module": "@jupyter-widgets/base",
          "model_name": "LayoutModel",
          "model_module_version": "1.2.0",
          "state": {
            "_model_module": "@jupyter-widgets/base",
            "_model_module_version": "1.2.0",
            "_model_name": "LayoutModel",
            "_view_count": null,
            "_view_module": "@jupyter-widgets/base",
            "_view_module_version": "1.2.0",
            "_view_name": "LayoutView",
            "align_content": null,
            "align_items": null,
            "align_self": null,
            "border": null,
            "bottom": null,
            "display": null,
            "flex": null,
            "flex_flow": null,
            "grid_area": null,
            "grid_auto_columns": null,
            "grid_auto_flow": null,
            "grid_auto_rows": null,
            "grid_column": null,
            "grid_gap": null,
            "grid_row": null,
            "grid_template_areas": null,
            "grid_template_columns": null,
            "grid_template_rows": null,
            "height": null,
            "justify_content": null,
            "justify_items": null,
            "left": null,
            "margin": null,
            "max_height": null,
            "max_width": null,
            "min_height": null,
            "min_width": null,
            "object_fit": null,
            "object_position": null,
            "order": null,
            "overflow": null,
            "overflow_x": null,
            "overflow_y": null,
            "padding": null,
            "right": null,
            "top": null,
            "visibility": null,
            "width": null
          }
        },
        "3e1eb46f428b4c84a37670fb749e3ebc": {
          "model_module": "@jupyter-widgets/controls",
          "model_name": "ProgressStyleModel",
          "model_module_version": "1.5.0",
          "state": {
            "_model_module": "@jupyter-widgets/controls",
            "_model_module_version": "1.5.0",
            "_model_name": "ProgressStyleModel",
            "_view_count": null,
            "_view_module": "@jupyter-widgets/base",
            "_view_module_version": "1.2.0",
            "_view_name": "StyleView",
            "bar_color": null,
            "description_width": ""
          }
        },
        "db8c0e44a6fa4909b762aa723c845fbd": {
          "model_module": "@jupyter-widgets/base",
          "model_name": "LayoutModel",
          "model_module_version": "1.2.0",
          "state": {
            "_model_module": "@jupyter-widgets/base",
            "_model_module_version": "1.2.0",
            "_model_name": "LayoutModel",
            "_view_count": null,
            "_view_module": "@jupyter-widgets/base",
            "_view_module_version": "1.2.0",
            "_view_name": "LayoutView",
            "align_content": null,
            "align_items": null,
            "align_self": null,
            "border": null,
            "bottom": null,
            "display": null,
            "flex": null,
            "flex_flow": null,
            "grid_area": null,
            "grid_auto_columns": null,
            "grid_auto_flow": null,
            "grid_auto_rows": null,
            "grid_column": null,
            "grid_gap": null,
            "grid_row": null,
            "grid_template_areas": null,
            "grid_template_columns": null,
            "grid_template_rows": null,
            "height": null,
            "justify_content": null,
            "justify_items": null,
            "left": null,
            "margin": null,
            "max_height": null,
            "max_width": null,
            "min_height": null,
            "min_width": null,
            "object_fit": null,
            "object_position": null,
            "order": null,
            "overflow": null,
            "overflow_x": null,
            "overflow_y": null,
            "padding": null,
            "right": null,
            "top": null,
            "visibility": null,
            "width": null
          }
        },
        "5470ae3076e54fbd9889f1509d48998e": {
          "model_module": "@jupyter-widgets/controls",
          "model_name": "DescriptionStyleModel",
          "model_module_version": "1.5.0",
          "state": {
            "_model_module": "@jupyter-widgets/controls",
            "_model_module_version": "1.5.0",
            "_model_name": "DescriptionStyleModel",
            "_view_count": null,
            "_view_module": "@jupyter-widgets/base",
            "_view_module_version": "1.2.0",
            "_view_name": "StyleView",
            "description_width": ""
          }
        },
        "948b5ee3d3904f5c8113caf8b4686dcb": {
          "model_module": "@jupyter-widgets/controls",
          "model_name": "HBoxModel",
          "model_module_version": "1.5.0",
          "state": {
            "_dom_classes": [],
            "_model_module": "@jupyter-widgets/controls",
            "_model_module_version": "1.5.0",
            "_model_name": "HBoxModel",
            "_view_count": null,
            "_view_module": "@jupyter-widgets/controls",
            "_view_module_version": "1.5.0",
            "_view_name": "HBoxView",
            "box_style": "",
            "children": [
              "IPY_MODEL_61304e2a16274b498dbd857ebf12f056",
              "IPY_MODEL_afd97798dd314931bec16ac1a877d402",
              "IPY_MODEL_38214a1300914bc98d05eaf0206b01d3"
            ],
            "layout": "IPY_MODEL_aeb1072028514d3f8fc9596954399e71"
          }
        },
        "61304e2a16274b498dbd857ebf12f056": {
          "model_module": "@jupyter-widgets/controls",
          "model_name": "HTMLModel",
          "model_module_version": "1.5.0",
          "state": {
            "_dom_classes": [],
            "_model_module": "@jupyter-widgets/controls",
            "_model_module_version": "1.5.0",
            "_model_name": "HTMLModel",
            "_view_count": null,
            "_view_module": "@jupyter-widgets/controls",
            "_view_module_version": "1.5.0",
            "_view_name": "HTMLView",
            "description": "",
            "description_tooltip": null,
            "layout": "IPY_MODEL_d8b543f954f94554873039c6c336b1dd",
            "placeholder": "​",
            "style": "IPY_MODEL_975c12e2ab08405089727da924fa4bd4",
            "value": "Downloading: 100%"
          }
        },
        "afd97798dd314931bec16ac1a877d402": {
          "model_module": "@jupyter-widgets/controls",
          "model_name": "FloatProgressModel",
          "model_module_version": "1.5.0",
          "state": {
            "_dom_classes": [],
            "_model_module": "@jupyter-widgets/controls",
            "_model_module_version": "1.5.0",
            "_model_name": "FloatProgressModel",
            "_view_count": null,
            "_view_module": "@jupyter-widgets/controls",
            "_view_module_version": "1.5.0",
            "_view_name": "ProgressView",
            "bar_style": "success",
            "description": "",
            "description_tooltip": null,
            "layout": "IPY_MODEL_2aa7b9c22c2348d1bcc9c81f9f39d526",
            "max": 3951,
            "min": 0,
            "orientation": "horizontal",
            "style": "IPY_MODEL_baad325fee16454abda451f15848b1b4",
            "value": 3951
          }
        },
        "38214a1300914bc98d05eaf0206b01d3": {
          "model_module": "@jupyter-widgets/controls",
          "model_name": "HTMLModel",
          "model_module_version": "1.5.0",
          "state": {
            "_dom_classes": [],
            "_model_module": "@jupyter-widgets/controls",
            "_model_module_version": "1.5.0",
            "_model_name": "HTMLModel",
            "_view_count": null,
            "_view_module": "@jupyter-widgets/controls",
            "_view_module_version": "1.5.0",
            "_view_name": "HTMLView",
            "description": "",
            "description_tooltip": null,
            "layout": "IPY_MODEL_df0539ceb2d9490bb811207db4f5901f",
            "placeholder": "​",
            "style": "IPY_MODEL_d48f099fb1ca47fc966bc0f62bcc90c7",
            "value": " 3.95k/3.95k [00:00&lt;00:00, 77.2kB/s]"
          }
        },
        "aeb1072028514d3f8fc9596954399e71": {
          "model_module": "@jupyter-widgets/base",
          "model_name": "LayoutModel",
          "model_module_version": "1.2.0",
          "state": {
            "_model_module": "@jupyter-widgets/base",
            "_model_module_version": "1.2.0",
            "_model_name": "LayoutModel",
            "_view_count": null,
            "_view_module": "@jupyter-widgets/base",
            "_view_module_version": "1.2.0",
            "_view_name": "LayoutView",
            "align_content": null,
            "align_items": null,
            "align_self": null,
            "border": null,
            "bottom": null,
            "display": null,
            "flex": null,
            "flex_flow": null,
            "grid_area": null,
            "grid_auto_columns": null,
            "grid_auto_flow": null,
            "grid_auto_rows": null,
            "grid_column": null,
            "grid_gap": null,
            "grid_row": null,
            "grid_template_areas": null,
            "grid_template_columns": null,
            "grid_template_rows": null,
            "height": null,
            "justify_content": null,
            "justify_items": null,
            "left": null,
            "margin": null,
            "max_height": null,
            "max_width": null,
            "min_height": null,
            "min_width": null,
            "object_fit": null,
            "object_position": null,
            "order": null,
            "overflow": null,
            "overflow_x": null,
            "overflow_y": null,
            "padding": null,
            "right": null,
            "top": null,
            "visibility": null,
            "width": null
          }
        },
        "d8b543f954f94554873039c6c336b1dd": {
          "model_module": "@jupyter-widgets/base",
          "model_name": "LayoutModel",
          "model_module_version": "1.2.0",
          "state": {
            "_model_module": "@jupyter-widgets/base",
            "_model_module_version": "1.2.0",
            "_model_name": "LayoutModel",
            "_view_count": null,
            "_view_module": "@jupyter-widgets/base",
            "_view_module_version": "1.2.0",
            "_view_name": "LayoutView",
            "align_content": null,
            "align_items": null,
            "align_self": null,
            "border": null,
            "bottom": null,
            "display": null,
            "flex": null,
            "flex_flow": null,
            "grid_area": null,
            "grid_auto_columns": null,
            "grid_auto_flow": null,
            "grid_auto_rows": null,
            "grid_column": null,
            "grid_gap": null,
            "grid_row": null,
            "grid_template_areas": null,
            "grid_template_columns": null,
            "grid_template_rows": null,
            "height": null,
            "justify_content": null,
            "justify_items": null,
            "left": null,
            "margin": null,
            "max_height": null,
            "max_width": null,
            "min_height": null,
            "min_width": null,
            "object_fit": null,
            "object_position": null,
            "order": null,
            "overflow": null,
            "overflow_x": null,
            "overflow_y": null,
            "padding": null,
            "right": null,
            "top": null,
            "visibility": null,
            "width": null
          }
        },
        "975c12e2ab08405089727da924fa4bd4": {
          "model_module": "@jupyter-widgets/controls",
          "model_name": "DescriptionStyleModel",
          "model_module_version": "1.5.0",
          "state": {
            "_model_module": "@jupyter-widgets/controls",
            "_model_module_version": "1.5.0",
            "_model_name": "DescriptionStyleModel",
            "_view_count": null,
            "_view_module": "@jupyter-widgets/base",
            "_view_module_version": "1.2.0",
            "_view_name": "StyleView",
            "description_width": ""
          }
        },
        "2aa7b9c22c2348d1bcc9c81f9f39d526": {
          "model_module": "@jupyter-widgets/base",
          "model_name": "LayoutModel",
          "model_module_version": "1.2.0",
          "state": {
            "_model_module": "@jupyter-widgets/base",
            "_model_module_version": "1.2.0",
            "_model_name": "LayoutModel",
            "_view_count": null,
            "_view_module": "@jupyter-widgets/base",
            "_view_module_version": "1.2.0",
            "_view_name": "LayoutView",
            "align_content": null,
            "align_items": null,
            "align_self": null,
            "border": null,
            "bottom": null,
            "display": null,
            "flex": null,
            "flex_flow": null,
            "grid_area": null,
            "grid_auto_columns": null,
            "grid_auto_flow": null,
            "grid_auto_rows": null,
            "grid_column": null,
            "grid_gap": null,
            "grid_row": null,
            "grid_template_areas": null,
            "grid_template_columns": null,
            "grid_template_rows": null,
            "height": null,
            "justify_content": null,
            "justify_items": null,
            "left": null,
            "margin": null,
            "max_height": null,
            "max_width": null,
            "min_height": null,
            "min_width": null,
            "object_fit": null,
            "object_position": null,
            "order": null,
            "overflow": null,
            "overflow_x": null,
            "overflow_y": null,
            "padding": null,
            "right": null,
            "top": null,
            "visibility": null,
            "width": null
          }
        },
        "baad325fee16454abda451f15848b1b4": {
          "model_module": "@jupyter-widgets/controls",
          "model_name": "ProgressStyleModel",
          "model_module_version": "1.5.0",
          "state": {
            "_model_module": "@jupyter-widgets/controls",
            "_model_module_version": "1.5.0",
            "_model_name": "ProgressStyleModel",
            "_view_count": null,
            "_view_module": "@jupyter-widgets/base",
            "_view_module_version": "1.2.0",
            "_view_name": "StyleView",
            "bar_color": null,
            "description_width": ""
          }
        },
        "df0539ceb2d9490bb811207db4f5901f": {
          "model_module": "@jupyter-widgets/base",
          "model_name": "LayoutModel",
          "model_module_version": "1.2.0",
          "state": {
            "_model_module": "@jupyter-widgets/base",
            "_model_module_version": "1.2.0",
            "_model_name": "LayoutModel",
            "_view_count": null,
            "_view_module": "@jupyter-widgets/base",
            "_view_module_version": "1.2.0",
            "_view_name": "LayoutView",
            "align_content": null,
            "align_items": null,
            "align_self": null,
            "border": null,
            "bottom": null,
            "display": null,
            "flex": null,
            "flex_flow": null,
            "grid_area": null,
            "grid_auto_columns": null,
            "grid_auto_flow": null,
            "grid_auto_rows": null,
            "grid_column": null,
            "grid_gap": null,
            "grid_row": null,
            "grid_template_areas": null,
            "grid_template_columns": null,
            "grid_template_rows": null,
            "height": null,
            "justify_content": null,
            "justify_items": null,
            "left": null,
            "margin": null,
            "max_height": null,
            "max_width": null,
            "min_height": null,
            "min_width": null,
            "object_fit": null,
            "object_position": null,
            "order": null,
            "overflow": null,
            "overflow_x": null,
            "overflow_y": null,
            "padding": null,
            "right": null,
            "top": null,
            "visibility": null,
            "width": null
          }
        },
        "d48f099fb1ca47fc966bc0f62bcc90c7": {
          "model_module": "@jupyter-widgets/controls",
          "model_name": "DescriptionStyleModel",
          "model_module_version": "1.5.0",
          "state": {
            "_model_module": "@jupyter-widgets/controls",
            "_model_module_version": "1.5.0",
            "_model_name": "DescriptionStyleModel",
            "_view_count": null,
            "_view_module": "@jupyter-widgets/base",
            "_view_module_version": "1.2.0",
            "_view_name": "StyleView",
            "description_width": ""
          }
        },
        "64b8680edcad4fe4af87a155a31758dc": {
          "model_module": "@jupyter-widgets/controls",
          "model_name": "HBoxModel",
          "model_module_version": "1.5.0",
          "state": {
            "_dom_classes": [],
            "_model_module": "@jupyter-widgets/controls",
            "_model_module_version": "1.5.0",
            "_model_name": "HBoxModel",
            "_view_count": null,
            "_view_module": "@jupyter-widgets/controls",
            "_view_module_version": "1.5.0",
            "_view_name": "HBoxView",
            "box_style": "",
            "children": [
              "IPY_MODEL_af631cf511964913b07cd7290f7d478a",
              "IPY_MODEL_2a732efaff0048b988dd0f1f520f4e40",
              "IPY_MODEL_76eee2cfd06b4c5b911b48bbe44b6542"
            ],
            "layout": "IPY_MODEL_047d2e41bd42418d9d0f2b3e8b64621d"
          }
        },
        "af631cf511964913b07cd7290f7d478a": {
          "model_module": "@jupyter-widgets/controls",
          "model_name": "HTMLModel",
          "model_module_version": "1.5.0",
          "state": {
            "_dom_classes": [],
            "_model_module": "@jupyter-widgets/controls",
            "_model_module_version": "1.5.0",
            "_model_name": "HTMLModel",
            "_view_count": null,
            "_view_module": "@jupyter-widgets/controls",
            "_view_module_version": "1.5.0",
            "_view_name": "HTMLView",
            "description": "",
            "description_tooltip": null,
            "layout": "IPY_MODEL_ac8d26440cc246a99284c94761042e3d",
            "placeholder": "​",
            "style": "IPY_MODEL_7091f817ea4d4cc6ac29cde178150afe",
            "value": "Downloading: 100%"
          }
        },
        "2a732efaff0048b988dd0f1f520f4e40": {
          "model_module": "@jupyter-widgets/controls",
          "model_name": "FloatProgressModel",
          "model_module_version": "1.5.0",
          "state": {
            "_dom_classes": [],
            "_model_module": "@jupyter-widgets/controls",
            "_model_module_version": "1.5.0",
            "_model_name": "FloatProgressModel",
            "_view_count": null,
            "_view_module": "@jupyter-widgets/controls",
            "_view_module_version": "1.5.0",
            "_view_name": "ProgressView",
            "bar_style": "success",
            "description": "",
            "description_tooltip": null,
            "layout": "IPY_MODEL_35793d0aaaf343c58e2c6c7ab3b95452",
            "max": 2,
            "min": 0,
            "orientation": "horizontal",
            "style": "IPY_MODEL_f8bc026dd1324638afa2f524ab736e29",
            "value": 2
          }
        },
        "76eee2cfd06b4c5b911b48bbe44b6542": {
          "model_module": "@jupyter-widgets/controls",
          "model_name": "HTMLModel",
          "model_module_version": "1.5.0",
          "state": {
            "_dom_classes": [],
            "_model_module": "@jupyter-widgets/controls",
            "_model_module_version": "1.5.0",
            "_model_name": "HTMLModel",
            "_view_count": null,
            "_view_module": "@jupyter-widgets/controls",
            "_view_module_version": "1.5.0",
            "_view_name": "HTMLView",
            "description": "",
            "description_tooltip": null,
            "layout": "IPY_MODEL_24ba3118eeb548fa9ec30e0aeba63f58",
            "placeholder": "​",
            "style": "IPY_MODEL_3350259446dc46f08f65b13420b08e3a",
            "value": " 2.00/2.00 [00:00&lt;00:00, 39.2B/s]"
          }
        },
        "047d2e41bd42418d9d0f2b3e8b64621d": {
          "model_module": "@jupyter-widgets/base",
          "model_name": "LayoutModel",
          "model_module_version": "1.2.0",
          "state": {
            "_model_module": "@jupyter-widgets/base",
            "_model_module_version": "1.2.0",
            "_model_name": "LayoutModel",
            "_view_count": null,
            "_view_module": "@jupyter-widgets/base",
            "_view_module_version": "1.2.0",
            "_view_name": "LayoutView",
            "align_content": null,
            "align_items": null,
            "align_self": null,
            "border": null,
            "bottom": null,
            "display": null,
            "flex": null,
            "flex_flow": null,
            "grid_area": null,
            "grid_auto_columns": null,
            "grid_auto_flow": null,
            "grid_auto_rows": null,
            "grid_column": null,
            "grid_gap": null,
            "grid_row": null,
            "grid_template_areas": null,
            "grid_template_columns": null,
            "grid_template_rows": null,
            "height": null,
            "justify_content": null,
            "justify_items": null,
            "left": null,
            "margin": null,
            "max_height": null,
            "max_width": null,
            "min_height": null,
            "min_width": null,
            "object_fit": null,
            "object_position": null,
            "order": null,
            "overflow": null,
            "overflow_x": null,
            "overflow_y": null,
            "padding": null,
            "right": null,
            "top": null,
            "visibility": null,
            "width": null
          }
        },
        "ac8d26440cc246a99284c94761042e3d": {
          "model_module": "@jupyter-widgets/base",
          "model_name": "LayoutModel",
          "model_module_version": "1.2.0",
          "state": {
            "_model_module": "@jupyter-widgets/base",
            "_model_module_version": "1.2.0",
            "_model_name": "LayoutModel",
            "_view_count": null,
            "_view_module": "@jupyter-widgets/base",
            "_view_module_version": "1.2.0",
            "_view_name": "LayoutView",
            "align_content": null,
            "align_items": null,
            "align_self": null,
            "border": null,
            "bottom": null,
            "display": null,
            "flex": null,
            "flex_flow": null,
            "grid_area": null,
            "grid_auto_columns": null,
            "grid_auto_flow": null,
            "grid_auto_rows": null,
            "grid_column": null,
            "grid_gap": null,
            "grid_row": null,
            "grid_template_areas": null,
            "grid_template_columns": null,
            "grid_template_rows": null,
            "height": null,
            "justify_content": null,
            "justify_items": null,
            "left": null,
            "margin": null,
            "max_height": null,
            "max_width": null,
            "min_height": null,
            "min_width": null,
            "object_fit": null,
            "object_position": null,
            "order": null,
            "overflow": null,
            "overflow_x": null,
            "overflow_y": null,
            "padding": null,
            "right": null,
            "top": null,
            "visibility": null,
            "width": null
          }
        },
        "7091f817ea4d4cc6ac29cde178150afe": {
          "model_module": "@jupyter-widgets/controls",
          "model_name": "DescriptionStyleModel",
          "model_module_version": "1.5.0",
          "state": {
            "_model_module": "@jupyter-widgets/controls",
            "_model_module_version": "1.5.0",
            "_model_name": "DescriptionStyleModel",
            "_view_count": null,
            "_view_module": "@jupyter-widgets/base",
            "_view_module_version": "1.2.0",
            "_view_name": "StyleView",
            "description_width": ""
          }
        },
        "35793d0aaaf343c58e2c6c7ab3b95452": {
          "model_module": "@jupyter-widgets/base",
          "model_name": "LayoutModel",
          "model_module_version": "1.2.0",
          "state": {
            "_model_module": "@jupyter-widgets/base",
            "_model_module_version": "1.2.0",
            "_model_name": "LayoutModel",
            "_view_count": null,
            "_view_module": "@jupyter-widgets/base",
            "_view_module_version": "1.2.0",
            "_view_name": "LayoutView",
            "align_content": null,
            "align_items": null,
            "align_self": null,
            "border": null,
            "bottom": null,
            "display": null,
            "flex": null,
            "flex_flow": null,
            "grid_area": null,
            "grid_auto_columns": null,
            "grid_auto_flow": null,
            "grid_auto_rows": null,
            "grid_column": null,
            "grid_gap": null,
            "grid_row": null,
            "grid_template_areas": null,
            "grid_template_columns": null,
            "grid_template_rows": null,
            "height": null,
            "justify_content": null,
            "justify_items": null,
            "left": null,
            "margin": null,
            "max_height": null,
            "max_width": null,
            "min_height": null,
            "min_width": null,
            "object_fit": null,
            "object_position": null,
            "order": null,
            "overflow": null,
            "overflow_x": null,
            "overflow_y": null,
            "padding": null,
            "right": null,
            "top": null,
            "visibility": null,
            "width": null
          }
        },
        "f8bc026dd1324638afa2f524ab736e29": {
          "model_module": "@jupyter-widgets/controls",
          "model_name": "ProgressStyleModel",
          "model_module_version": "1.5.0",
          "state": {
            "_model_module": "@jupyter-widgets/controls",
            "_model_module_version": "1.5.0",
            "_model_name": "ProgressStyleModel",
            "_view_count": null,
            "_view_module": "@jupyter-widgets/base",
            "_view_module_version": "1.2.0",
            "_view_name": "StyleView",
            "bar_color": null,
            "description_width": ""
          }
        },
        "24ba3118eeb548fa9ec30e0aeba63f58": {
          "model_module": "@jupyter-widgets/base",
          "model_name": "LayoutModel",
          "model_module_version": "1.2.0",
          "state": {
            "_model_module": "@jupyter-widgets/base",
            "_model_module_version": "1.2.0",
            "_model_name": "LayoutModel",
            "_view_count": null,
            "_view_module": "@jupyter-widgets/base",
            "_view_module_version": "1.2.0",
            "_view_name": "LayoutView",
            "align_content": null,
            "align_items": null,
            "align_self": null,
            "border": null,
            "bottom": null,
            "display": null,
            "flex": null,
            "flex_flow": null,
            "grid_area": null,
            "grid_auto_columns": null,
            "grid_auto_flow": null,
            "grid_auto_rows": null,
            "grid_column": null,
            "grid_gap": null,
            "grid_row": null,
            "grid_template_areas": null,
            "grid_template_columns": null,
            "grid_template_rows": null,
            "height": null,
            "justify_content": null,
            "justify_items": null,
            "left": null,
            "margin": null,
            "max_height": null,
            "max_width": null,
            "min_height": null,
            "min_width": null,
            "object_fit": null,
            "object_position": null,
            "order": null,
            "overflow": null,
            "overflow_x": null,
            "overflow_y": null,
            "padding": null,
            "right": null,
            "top": null,
            "visibility": null,
            "width": null
          }
        },
        "3350259446dc46f08f65b13420b08e3a": {
          "model_module": "@jupyter-widgets/controls",
          "model_name": "DescriptionStyleModel",
          "model_module_version": "1.5.0",
          "state": {
            "_model_module": "@jupyter-widgets/controls",
            "_model_module_version": "1.5.0",
            "_model_name": "DescriptionStyleModel",
            "_view_count": null,
            "_view_module": "@jupyter-widgets/base",
            "_view_module_version": "1.2.0",
            "_view_name": "StyleView",
            "description_width": ""
          }
        },
        "2f6e3d880eaf40cb969f6ab07f11d00d": {
          "model_module": "@jupyter-widgets/controls",
          "model_name": "HBoxModel",
          "model_module_version": "1.5.0",
          "state": {
            "_dom_classes": [],
            "_model_module": "@jupyter-widgets/controls",
            "_model_module_version": "1.5.0",
            "_model_name": "HBoxModel",
            "_view_count": null,
            "_view_module": "@jupyter-widgets/controls",
            "_view_module_version": "1.5.0",
            "_view_name": "HBoxView",
            "box_style": "",
            "children": [
              "IPY_MODEL_443994d5d8dc4d5daf54d3afd40bdbe2",
              "IPY_MODEL_0be0a140dff344f6b52d5e755bc3f04e",
              "IPY_MODEL_32a20e78f999458d8a8b75e81e06456f"
            ],
            "layout": "IPY_MODEL_a5c8930649044f8a83cde66db2b38802"
          }
        },
        "443994d5d8dc4d5daf54d3afd40bdbe2": {
          "model_module": "@jupyter-widgets/controls",
          "model_name": "HTMLModel",
          "model_module_version": "1.5.0",
          "state": {
            "_dom_classes": [],
            "_model_module": "@jupyter-widgets/controls",
            "_model_module_version": "1.5.0",
            "_model_name": "HTMLModel",
            "_view_count": null,
            "_view_module": "@jupyter-widgets/controls",
            "_view_module_version": "1.5.0",
            "_view_name": "HTMLView",
            "description": "",
            "description_tooltip": null,
            "layout": "IPY_MODEL_a8eff9a1868146ff89a3dcdd8cd05a57",
            "placeholder": "​",
            "style": "IPY_MODEL_c5850287993840cf9501c08e03355567",
            "value": "Downloading: 100%"
          }
        },
        "0be0a140dff344f6b52d5e755bc3f04e": {
          "model_module": "@jupyter-widgets/controls",
          "model_name": "FloatProgressModel",
          "model_module_version": "1.5.0",
          "state": {
            "_dom_classes": [],
            "_model_module": "@jupyter-widgets/controls",
            "_model_module_version": "1.5.0",
            "_model_name": "FloatProgressModel",
            "_view_count": null,
            "_view_module": "@jupyter-widgets/controls",
            "_view_module_version": "1.5.0",
            "_view_name": "ProgressView",
            "bar_style": "success",
            "description": "",
            "description_tooltip": null,
            "layout": "IPY_MODEL_d50ec59c47824d92be9114f7342277a4",
            "max": 625,
            "min": 0,
            "orientation": "horizontal",
            "style": "IPY_MODEL_3d74e3f7f02c4bfc8f0dce8ffc45f92b",
            "value": 625
          }
        },
        "32a20e78f999458d8a8b75e81e06456f": {
          "model_module": "@jupyter-widgets/controls",
          "model_name": "HTMLModel",
          "model_module_version": "1.5.0",
          "state": {
            "_dom_classes": [],
            "_model_module": "@jupyter-widgets/controls",
            "_model_module_version": "1.5.0",
            "_model_name": "HTMLModel",
            "_view_count": null,
            "_view_module": "@jupyter-widgets/controls",
            "_view_module_version": "1.5.0",
            "_view_name": "HTMLView",
            "description": "",
            "description_tooltip": null,
            "layout": "IPY_MODEL_cb700295355f4db8aecbbe18f7fac1e3",
            "placeholder": "​",
            "style": "IPY_MODEL_e81dcf00882741d8990f19cb6cbd2f55",
            "value": " 625/625 [00:00&lt;00:00, 15.6kB/s]"
          }
        },
        "a5c8930649044f8a83cde66db2b38802": {
          "model_module": "@jupyter-widgets/base",
          "model_name": "LayoutModel",
          "model_module_version": "1.2.0",
          "state": {
            "_model_module": "@jupyter-widgets/base",
            "_model_module_version": "1.2.0",
            "_model_name": "LayoutModel",
            "_view_count": null,
            "_view_module": "@jupyter-widgets/base",
            "_view_module_version": "1.2.0",
            "_view_name": "LayoutView",
            "align_content": null,
            "align_items": null,
            "align_self": null,
            "border": null,
            "bottom": null,
            "display": null,
            "flex": null,
            "flex_flow": null,
            "grid_area": null,
            "grid_auto_columns": null,
            "grid_auto_flow": null,
            "grid_auto_rows": null,
            "grid_column": null,
            "grid_gap": null,
            "grid_row": null,
            "grid_template_areas": null,
            "grid_template_columns": null,
            "grid_template_rows": null,
            "height": null,
            "justify_content": null,
            "justify_items": null,
            "left": null,
            "margin": null,
            "max_height": null,
            "max_width": null,
            "min_height": null,
            "min_width": null,
            "object_fit": null,
            "object_position": null,
            "order": null,
            "overflow": null,
            "overflow_x": null,
            "overflow_y": null,
            "padding": null,
            "right": null,
            "top": null,
            "visibility": null,
            "width": null
          }
        },
        "a8eff9a1868146ff89a3dcdd8cd05a57": {
          "model_module": "@jupyter-widgets/base",
          "model_name": "LayoutModel",
          "model_module_version": "1.2.0",
          "state": {
            "_model_module": "@jupyter-widgets/base",
            "_model_module_version": "1.2.0",
            "_model_name": "LayoutModel",
            "_view_count": null,
            "_view_module": "@jupyter-widgets/base",
            "_view_module_version": "1.2.0",
            "_view_name": "LayoutView",
            "align_content": null,
            "align_items": null,
            "align_self": null,
            "border": null,
            "bottom": null,
            "display": null,
            "flex": null,
            "flex_flow": null,
            "grid_area": null,
            "grid_auto_columns": null,
            "grid_auto_flow": null,
            "grid_auto_rows": null,
            "grid_column": null,
            "grid_gap": null,
            "grid_row": null,
            "grid_template_areas": null,
            "grid_template_columns": null,
            "grid_template_rows": null,
            "height": null,
            "justify_content": null,
            "justify_items": null,
            "left": null,
            "margin": null,
            "max_height": null,
            "max_width": null,
            "min_height": null,
            "min_width": null,
            "object_fit": null,
            "object_position": null,
            "order": null,
            "overflow": null,
            "overflow_x": null,
            "overflow_y": null,
            "padding": null,
            "right": null,
            "top": null,
            "visibility": null,
            "width": null
          }
        },
        "c5850287993840cf9501c08e03355567": {
          "model_module": "@jupyter-widgets/controls",
          "model_name": "DescriptionStyleModel",
          "model_module_version": "1.5.0",
          "state": {
            "_model_module": "@jupyter-widgets/controls",
            "_model_module_version": "1.5.0",
            "_model_name": "DescriptionStyleModel",
            "_view_count": null,
            "_view_module": "@jupyter-widgets/base",
            "_view_module_version": "1.2.0",
            "_view_name": "StyleView",
            "description_width": ""
          }
        },
        "d50ec59c47824d92be9114f7342277a4": {
          "model_module": "@jupyter-widgets/base",
          "model_name": "LayoutModel",
          "model_module_version": "1.2.0",
          "state": {
            "_model_module": "@jupyter-widgets/base",
            "_model_module_version": "1.2.0",
            "_model_name": "LayoutModel",
            "_view_count": null,
            "_view_module": "@jupyter-widgets/base",
            "_view_module_version": "1.2.0",
            "_view_name": "LayoutView",
            "align_content": null,
            "align_items": null,
            "align_self": null,
            "border": null,
            "bottom": null,
            "display": null,
            "flex": null,
            "flex_flow": null,
            "grid_area": null,
            "grid_auto_columns": null,
            "grid_auto_flow": null,
            "grid_auto_rows": null,
            "grid_column": null,
            "grid_gap": null,
            "grid_row": null,
            "grid_template_areas": null,
            "grid_template_columns": null,
            "grid_template_rows": null,
            "height": null,
            "justify_content": null,
            "justify_items": null,
            "left": null,
            "margin": null,
            "max_height": null,
            "max_width": null,
            "min_height": null,
            "min_width": null,
            "object_fit": null,
            "object_position": null,
            "order": null,
            "overflow": null,
            "overflow_x": null,
            "overflow_y": null,
            "padding": null,
            "right": null,
            "top": null,
            "visibility": null,
            "width": null
          }
        },
        "3d74e3f7f02c4bfc8f0dce8ffc45f92b": {
          "model_module": "@jupyter-widgets/controls",
          "model_name": "ProgressStyleModel",
          "model_module_version": "1.5.0",
          "state": {
            "_model_module": "@jupyter-widgets/controls",
            "_model_module_version": "1.5.0",
            "_model_name": "ProgressStyleModel",
            "_view_count": null,
            "_view_module": "@jupyter-widgets/base",
            "_view_module_version": "1.2.0",
            "_view_name": "StyleView",
            "bar_color": null,
            "description_width": ""
          }
        },
        "cb700295355f4db8aecbbe18f7fac1e3": {
          "model_module": "@jupyter-widgets/base",
          "model_name": "LayoutModel",
          "model_module_version": "1.2.0",
          "state": {
            "_model_module": "@jupyter-widgets/base",
            "_model_module_version": "1.2.0",
            "_model_name": "LayoutModel",
            "_view_count": null,
            "_view_module": "@jupyter-widgets/base",
            "_view_module_version": "1.2.0",
            "_view_name": "LayoutView",
            "align_content": null,
            "align_items": null,
            "align_self": null,
            "border": null,
            "bottom": null,
            "display": null,
            "flex": null,
            "flex_flow": null,
            "grid_area": null,
            "grid_auto_columns": null,
            "grid_auto_flow": null,
            "grid_auto_rows": null,
            "grid_column": null,
            "grid_gap": null,
            "grid_row": null,
            "grid_template_areas": null,
            "grid_template_columns": null,
            "grid_template_rows": null,
            "height": null,
            "justify_content": null,
            "justify_items": null,
            "left": null,
            "margin": null,
            "max_height": null,
            "max_width": null,
            "min_height": null,
            "min_width": null,
            "object_fit": null,
            "object_position": null,
            "order": null,
            "overflow": null,
            "overflow_x": null,
            "overflow_y": null,
            "padding": null,
            "right": null,
            "top": null,
            "visibility": null,
            "width": null
          }
        },
        "e81dcf00882741d8990f19cb6cbd2f55": {
          "model_module": "@jupyter-widgets/controls",
          "model_name": "DescriptionStyleModel",
          "model_module_version": "1.5.0",
          "state": {
            "_model_module": "@jupyter-widgets/controls",
            "_model_module_version": "1.5.0",
            "_model_name": "DescriptionStyleModel",
            "_view_count": null,
            "_view_module": "@jupyter-widgets/base",
            "_view_module_version": "1.2.0",
            "_view_name": "StyleView",
            "description_width": ""
          }
        },
        "d0e458a0b29648dea4796693635d29a2": {
          "model_module": "@jupyter-widgets/controls",
          "model_name": "HBoxModel",
          "model_module_version": "1.5.0",
          "state": {
            "_dom_classes": [],
            "_model_module": "@jupyter-widgets/controls",
            "_model_module_version": "1.5.0",
            "_model_name": "HBoxModel",
            "_view_count": null,
            "_view_module": "@jupyter-widgets/controls",
            "_view_module_version": "1.5.0",
            "_view_name": "HBoxView",
            "box_style": "",
            "children": [
              "IPY_MODEL_f1ac43e180384a2f845f0d6aac03e1b4",
              "IPY_MODEL_285fc0ff54854a13b3a9c70106ea110f",
              "IPY_MODEL_2031d7564ee34ef88995d3f738762188"
            ],
            "layout": "IPY_MODEL_1b7bb15a36df4133b84af520770052fb"
          }
        },
        "f1ac43e180384a2f845f0d6aac03e1b4": {
          "model_module": "@jupyter-widgets/controls",
          "model_name": "HTMLModel",
          "model_module_version": "1.5.0",
          "state": {
            "_dom_classes": [],
            "_model_module": "@jupyter-widgets/controls",
            "_model_module_version": "1.5.0",
            "_model_name": "HTMLModel",
            "_view_count": null,
            "_view_module": "@jupyter-widgets/controls",
            "_view_module_version": "1.5.0",
            "_view_name": "HTMLView",
            "description": "",
            "description_tooltip": null,
            "layout": "IPY_MODEL_a30daad1f9ea41278b89edf4f2b79aef",
            "placeholder": "​",
            "style": "IPY_MODEL_5cbc94827f7844d799d7d9175e1087c0",
            "value": "Downloading: 100%"
          }
        },
        "285fc0ff54854a13b3a9c70106ea110f": {
          "model_module": "@jupyter-widgets/controls",
          "model_name": "FloatProgressModel",
          "model_module_version": "1.5.0",
          "state": {
            "_dom_classes": [],
            "_model_module": "@jupyter-widgets/controls",
            "_model_module_version": "1.5.0",
            "_model_name": "FloatProgressModel",
            "_view_count": null,
            "_view_module": "@jupyter-widgets/controls",
            "_view_module_version": "1.5.0",
            "_view_name": "ProgressView",
            "bar_style": "success",
            "description": "",
            "description_tooltip": null,
            "layout": "IPY_MODEL_6e417fc2f3cd4c4d8f12c4c4b6df3abd",
            "max": 122,
            "min": 0,
            "orientation": "horizontal",
            "style": "IPY_MODEL_d99a2599ae344701a320f3b28626a163",
            "value": 122
          }
        },
        "2031d7564ee34ef88995d3f738762188": {
          "model_module": "@jupyter-widgets/controls",
          "model_name": "HTMLModel",
          "model_module_version": "1.5.0",
          "state": {
            "_dom_classes": [],
            "_model_module": "@jupyter-widgets/controls",
            "_model_module_version": "1.5.0",
            "_model_name": "HTMLModel",
            "_view_count": null,
            "_view_module": "@jupyter-widgets/controls",
            "_view_module_version": "1.5.0",
            "_view_name": "HTMLView",
            "description": "",
            "description_tooltip": null,
            "layout": "IPY_MODEL_1203a3dca6c743a2b0717b79313b6024",
            "placeholder": "​",
            "style": "IPY_MODEL_e57d373a400f49249234ed1608f8e59c",
            "value": " 122/122 [00:00&lt;00:00, 3.34kB/s]"
          }
        },
        "1b7bb15a36df4133b84af520770052fb": {
          "model_module": "@jupyter-widgets/base",
          "model_name": "LayoutModel",
          "model_module_version": "1.2.0",
          "state": {
            "_model_module": "@jupyter-widgets/base",
            "_model_module_version": "1.2.0",
            "_model_name": "LayoutModel",
            "_view_count": null,
            "_view_module": "@jupyter-widgets/base",
            "_view_module_version": "1.2.0",
            "_view_name": "LayoutView",
            "align_content": null,
            "align_items": null,
            "align_self": null,
            "border": null,
            "bottom": null,
            "display": null,
            "flex": null,
            "flex_flow": null,
            "grid_area": null,
            "grid_auto_columns": null,
            "grid_auto_flow": null,
            "grid_auto_rows": null,
            "grid_column": null,
            "grid_gap": null,
            "grid_row": null,
            "grid_template_areas": null,
            "grid_template_columns": null,
            "grid_template_rows": null,
            "height": null,
            "justify_content": null,
            "justify_items": null,
            "left": null,
            "margin": null,
            "max_height": null,
            "max_width": null,
            "min_height": null,
            "min_width": null,
            "object_fit": null,
            "object_position": null,
            "order": null,
            "overflow": null,
            "overflow_x": null,
            "overflow_y": null,
            "padding": null,
            "right": null,
            "top": null,
            "visibility": null,
            "width": null
          }
        },
        "a30daad1f9ea41278b89edf4f2b79aef": {
          "model_module": "@jupyter-widgets/base",
          "model_name": "LayoutModel",
          "model_module_version": "1.2.0",
          "state": {
            "_model_module": "@jupyter-widgets/base",
            "_model_module_version": "1.2.0",
            "_model_name": "LayoutModel",
            "_view_count": null,
            "_view_module": "@jupyter-widgets/base",
            "_view_module_version": "1.2.0",
            "_view_name": "LayoutView",
            "align_content": null,
            "align_items": null,
            "align_self": null,
            "border": null,
            "bottom": null,
            "display": null,
            "flex": null,
            "flex_flow": null,
            "grid_area": null,
            "grid_auto_columns": null,
            "grid_auto_flow": null,
            "grid_auto_rows": null,
            "grid_column": null,
            "grid_gap": null,
            "grid_row": null,
            "grid_template_areas": null,
            "grid_template_columns": null,
            "grid_template_rows": null,
            "height": null,
            "justify_content": null,
            "justify_items": null,
            "left": null,
            "margin": null,
            "max_height": null,
            "max_width": null,
            "min_height": null,
            "min_width": null,
            "object_fit": null,
            "object_position": null,
            "order": null,
            "overflow": null,
            "overflow_x": null,
            "overflow_y": null,
            "padding": null,
            "right": null,
            "top": null,
            "visibility": null,
            "width": null
          }
        },
        "5cbc94827f7844d799d7d9175e1087c0": {
          "model_module": "@jupyter-widgets/controls",
          "model_name": "DescriptionStyleModel",
          "model_module_version": "1.5.0",
          "state": {
            "_model_module": "@jupyter-widgets/controls",
            "_model_module_version": "1.5.0",
            "_model_name": "DescriptionStyleModel",
            "_view_count": null,
            "_view_module": "@jupyter-widgets/base",
            "_view_module_version": "1.2.0",
            "_view_name": "StyleView",
            "description_width": ""
          }
        },
        "6e417fc2f3cd4c4d8f12c4c4b6df3abd": {
          "model_module": "@jupyter-widgets/base",
          "model_name": "LayoutModel",
          "model_module_version": "1.2.0",
          "state": {
            "_model_module": "@jupyter-widgets/base",
            "_model_module_version": "1.2.0",
            "_model_name": "LayoutModel",
            "_view_count": null,
            "_view_module": "@jupyter-widgets/base",
            "_view_module_version": "1.2.0",
            "_view_name": "LayoutView",
            "align_content": null,
            "align_items": null,
            "align_self": null,
            "border": null,
            "bottom": null,
            "display": null,
            "flex": null,
            "flex_flow": null,
            "grid_area": null,
            "grid_auto_columns": null,
            "grid_auto_flow": null,
            "grid_auto_rows": null,
            "grid_column": null,
            "grid_gap": null,
            "grid_row": null,
            "grid_template_areas": null,
            "grid_template_columns": null,
            "grid_template_rows": null,
            "height": null,
            "justify_content": null,
            "justify_items": null,
            "left": null,
            "margin": null,
            "max_height": null,
            "max_width": null,
            "min_height": null,
            "min_width": null,
            "object_fit": null,
            "object_position": null,
            "order": null,
            "overflow": null,
            "overflow_x": null,
            "overflow_y": null,
            "padding": null,
            "right": null,
            "top": null,
            "visibility": null,
            "width": null
          }
        },
        "d99a2599ae344701a320f3b28626a163": {
          "model_module": "@jupyter-widgets/controls",
          "model_name": "ProgressStyleModel",
          "model_module_version": "1.5.0",
          "state": {
            "_model_module": "@jupyter-widgets/controls",
            "_model_module_version": "1.5.0",
            "_model_name": "ProgressStyleModel",
            "_view_count": null,
            "_view_module": "@jupyter-widgets/base",
            "_view_module_version": "1.2.0",
            "_view_name": "StyleView",
            "bar_color": null,
            "description_width": ""
          }
        },
        "1203a3dca6c743a2b0717b79313b6024": {
          "model_module": "@jupyter-widgets/base",
          "model_name": "LayoutModel",
          "model_module_version": "1.2.0",
          "state": {
            "_model_module": "@jupyter-widgets/base",
            "_model_module_version": "1.2.0",
            "_model_name": "LayoutModel",
            "_view_count": null,
            "_view_module": "@jupyter-widgets/base",
            "_view_module_version": "1.2.0",
            "_view_name": "LayoutView",
            "align_content": null,
            "align_items": null,
            "align_self": null,
            "border": null,
            "bottom": null,
            "display": null,
            "flex": null,
            "flex_flow": null,
            "grid_area": null,
            "grid_auto_columns": null,
            "grid_auto_flow": null,
            "grid_auto_rows": null,
            "grid_column": null,
            "grid_gap": null,
            "grid_row": null,
            "grid_template_areas": null,
            "grid_template_columns": null,
            "grid_template_rows": null,
            "height": null,
            "justify_content": null,
            "justify_items": null,
            "left": null,
            "margin": null,
            "max_height": null,
            "max_width": null,
            "min_height": null,
            "min_width": null,
            "object_fit": null,
            "object_position": null,
            "order": null,
            "overflow": null,
            "overflow_x": null,
            "overflow_y": null,
            "padding": null,
            "right": null,
            "top": null,
            "visibility": null,
            "width": null
          }
        },
        "e57d373a400f49249234ed1608f8e59c": {
          "model_module": "@jupyter-widgets/controls",
          "model_name": "DescriptionStyleModel",
          "model_module_version": "1.5.0",
          "state": {
            "_model_module": "@jupyter-widgets/controls",
            "_model_module_version": "1.5.0",
            "_model_name": "DescriptionStyleModel",
            "_view_count": null,
            "_view_module": "@jupyter-widgets/base",
            "_view_module_version": "1.2.0",
            "_view_name": "StyleView",
            "description_width": ""
          }
        },
        "73e3d1c5a3344c1ab126df9175a9c352": {
          "model_module": "@jupyter-widgets/controls",
          "model_name": "HBoxModel",
          "model_module_version": "1.5.0",
          "state": {
            "_dom_classes": [],
            "_model_module": "@jupyter-widgets/controls",
            "_model_module_version": "1.5.0",
            "_model_name": "HBoxModel",
            "_view_count": null,
            "_view_module": "@jupyter-widgets/controls",
            "_view_module_version": "1.5.0",
            "_view_name": "HBoxView",
            "box_style": "",
            "children": [
              "IPY_MODEL_e9ca86b5746044a3953f7c5d5fc0a915",
              "IPY_MODEL_702c1d60b8a649ef85febec22bb921f9",
              "IPY_MODEL_2270df23df6c4631a7a87fc917bcbf32"
            ],
            "layout": "IPY_MODEL_971b6be8219d4c79906fc8e6573c849f"
          }
        },
        "e9ca86b5746044a3953f7c5d5fc0a915": {
          "model_module": "@jupyter-widgets/controls",
          "model_name": "HTMLModel",
          "model_module_version": "1.5.0",
          "state": {
            "_dom_classes": [],
            "_model_module": "@jupyter-widgets/controls",
            "_model_module_version": "1.5.0",
            "_model_name": "HTMLModel",
            "_view_count": null,
            "_view_module": "@jupyter-widgets/controls",
            "_view_module_version": "1.5.0",
            "_view_name": "HTMLView",
            "description": "",
            "description_tooltip": null,
            "layout": "IPY_MODEL_1bf70cfdbe404cbb96f633382a272ff4",
            "placeholder": "​",
            "style": "IPY_MODEL_321e8194a84c404ab58195fb18611481",
            "value": "Downloading: 100%"
          }
        },
        "702c1d60b8a649ef85febec22bb921f9": {
          "model_module": "@jupyter-widgets/controls",
          "model_name": "FloatProgressModel",
          "model_module_version": "1.5.0",
          "state": {
            "_dom_classes": [],
            "_model_module": "@jupyter-widgets/controls",
            "_model_module_version": "1.5.0",
            "_model_name": "FloatProgressModel",
            "_view_count": null,
            "_view_module": "@jupyter-widgets/controls",
            "_view_module_version": "1.5.0",
            "_view_name": "ProgressView",
            "bar_style": "success",
            "description": "",
            "description_tooltip": null,
            "layout": "IPY_MODEL_8ddc63e073b34e3b87807ce7d5ac2777",
            "max": 438007537,
            "min": 0,
            "orientation": "horizontal",
            "style": "IPY_MODEL_1d360c29f5f3400aada2c7676dce1751",
            "value": 438007537
          }
        },
        "2270df23df6c4631a7a87fc917bcbf32": {
          "model_module": "@jupyter-widgets/controls",
          "model_name": "HTMLModel",
          "model_module_version": "1.5.0",
          "state": {
            "_dom_classes": [],
            "_model_module": "@jupyter-widgets/controls",
            "_model_module_version": "1.5.0",
            "_model_name": "HTMLModel",
            "_view_count": null,
            "_view_module": "@jupyter-widgets/controls",
            "_view_module_version": "1.5.0",
            "_view_name": "HTMLView",
            "description": "",
            "description_tooltip": null,
            "layout": "IPY_MODEL_2b825a919d4f4cf6b3f704f8b8a09ac9",
            "placeholder": "​",
            "style": "IPY_MODEL_d8a114c52d8d4739bd2d3b8db172f090",
            "value": " 438M/438M [00:08&lt;00:00, 52.9MB/s]"
          }
        },
        "971b6be8219d4c79906fc8e6573c849f": {
          "model_module": "@jupyter-widgets/base",
          "model_name": "LayoutModel",
          "model_module_version": "1.2.0",
          "state": {
            "_model_module": "@jupyter-widgets/base",
            "_model_module_version": "1.2.0",
            "_model_name": "LayoutModel",
            "_view_count": null,
            "_view_module": "@jupyter-widgets/base",
            "_view_module_version": "1.2.0",
            "_view_name": "LayoutView",
            "align_content": null,
            "align_items": null,
            "align_self": null,
            "border": null,
            "bottom": null,
            "display": null,
            "flex": null,
            "flex_flow": null,
            "grid_area": null,
            "grid_auto_columns": null,
            "grid_auto_flow": null,
            "grid_auto_rows": null,
            "grid_column": null,
            "grid_gap": null,
            "grid_row": null,
            "grid_template_areas": null,
            "grid_template_columns": null,
            "grid_template_rows": null,
            "height": null,
            "justify_content": null,
            "justify_items": null,
            "left": null,
            "margin": null,
            "max_height": null,
            "max_width": null,
            "min_height": null,
            "min_width": null,
            "object_fit": null,
            "object_position": null,
            "order": null,
            "overflow": null,
            "overflow_x": null,
            "overflow_y": null,
            "padding": null,
            "right": null,
            "top": null,
            "visibility": null,
            "width": null
          }
        },
        "1bf70cfdbe404cbb96f633382a272ff4": {
          "model_module": "@jupyter-widgets/base",
          "model_name": "LayoutModel",
          "model_module_version": "1.2.0",
          "state": {
            "_model_module": "@jupyter-widgets/base",
            "_model_module_version": "1.2.0",
            "_model_name": "LayoutModel",
            "_view_count": null,
            "_view_module": "@jupyter-widgets/base",
            "_view_module_version": "1.2.0",
            "_view_name": "LayoutView",
            "align_content": null,
            "align_items": null,
            "align_self": null,
            "border": null,
            "bottom": null,
            "display": null,
            "flex": null,
            "flex_flow": null,
            "grid_area": null,
            "grid_auto_columns": null,
            "grid_auto_flow": null,
            "grid_auto_rows": null,
            "grid_column": null,
            "grid_gap": null,
            "grid_row": null,
            "grid_template_areas": null,
            "grid_template_columns": null,
            "grid_template_rows": null,
            "height": null,
            "justify_content": null,
            "justify_items": null,
            "left": null,
            "margin": null,
            "max_height": null,
            "max_width": null,
            "min_height": null,
            "min_width": null,
            "object_fit": null,
            "object_position": null,
            "order": null,
            "overflow": null,
            "overflow_x": null,
            "overflow_y": null,
            "padding": null,
            "right": null,
            "top": null,
            "visibility": null,
            "width": null
          }
        },
        "321e8194a84c404ab58195fb18611481": {
          "model_module": "@jupyter-widgets/controls",
          "model_name": "DescriptionStyleModel",
          "model_module_version": "1.5.0",
          "state": {
            "_model_module": "@jupyter-widgets/controls",
            "_model_module_version": "1.5.0",
            "_model_name": "DescriptionStyleModel",
            "_view_count": null,
            "_view_module": "@jupyter-widgets/base",
            "_view_module_version": "1.2.0",
            "_view_name": "StyleView",
            "description_width": ""
          }
        },
        "8ddc63e073b34e3b87807ce7d5ac2777": {
          "model_module": "@jupyter-widgets/base",
          "model_name": "LayoutModel",
          "model_module_version": "1.2.0",
          "state": {
            "_model_module": "@jupyter-widgets/base",
            "_model_module_version": "1.2.0",
            "_model_name": "LayoutModel",
            "_view_count": null,
            "_view_module": "@jupyter-widgets/base",
            "_view_module_version": "1.2.0",
            "_view_name": "LayoutView",
            "align_content": null,
            "align_items": null,
            "align_self": null,
            "border": null,
            "bottom": null,
            "display": null,
            "flex": null,
            "flex_flow": null,
            "grid_area": null,
            "grid_auto_columns": null,
            "grid_auto_flow": null,
            "grid_auto_rows": null,
            "grid_column": null,
            "grid_gap": null,
            "grid_row": null,
            "grid_template_areas": null,
            "grid_template_columns": null,
            "grid_template_rows": null,
            "height": null,
            "justify_content": null,
            "justify_items": null,
            "left": null,
            "margin": null,
            "max_height": null,
            "max_width": null,
            "min_height": null,
            "min_width": null,
            "object_fit": null,
            "object_position": null,
            "order": null,
            "overflow": null,
            "overflow_x": null,
            "overflow_y": null,
            "padding": null,
            "right": null,
            "top": null,
            "visibility": null,
            "width": null
          }
        },
        "1d360c29f5f3400aada2c7676dce1751": {
          "model_module": "@jupyter-widgets/controls",
          "model_name": "ProgressStyleModel",
          "model_module_version": "1.5.0",
          "state": {
            "_model_module": "@jupyter-widgets/controls",
            "_model_module_version": "1.5.0",
            "_model_name": "ProgressStyleModel",
            "_view_count": null,
            "_view_module": "@jupyter-widgets/base",
            "_view_module_version": "1.2.0",
            "_view_name": "StyleView",
            "bar_color": null,
            "description_width": ""
          }
        },
        "2b825a919d4f4cf6b3f704f8b8a09ac9": {
          "model_module": "@jupyter-widgets/base",
          "model_name": "LayoutModel",
          "model_module_version": "1.2.0",
          "state": {
            "_model_module": "@jupyter-widgets/base",
            "_model_module_version": "1.2.0",
            "_model_name": "LayoutModel",
            "_view_count": null,
            "_view_module": "@jupyter-widgets/base",
            "_view_module_version": "1.2.0",
            "_view_name": "LayoutView",
            "align_content": null,
            "align_items": null,
            "align_self": null,
            "border": null,
            "bottom": null,
            "display": null,
            "flex": null,
            "flex_flow": null,
            "grid_area": null,
            "grid_auto_columns": null,
            "grid_auto_flow": null,
            "grid_auto_rows": null,
            "grid_column": null,
            "grid_gap": null,
            "grid_row": null,
            "grid_template_areas": null,
            "grid_template_columns": null,
            "grid_template_rows": null,
            "height": null,
            "justify_content": null,
            "justify_items": null,
            "left": null,
            "margin": null,
            "max_height": null,
            "max_width": null,
            "min_height": null,
            "min_width": null,
            "object_fit": null,
            "object_position": null,
            "order": null,
            "overflow": null,
            "overflow_x": null,
            "overflow_y": null,
            "padding": null,
            "right": null,
            "top": null,
            "visibility": null,
            "width": null
          }
        },
        "d8a114c52d8d4739bd2d3b8db172f090": {
          "model_module": "@jupyter-widgets/controls",
          "model_name": "DescriptionStyleModel",
          "model_module_version": "1.5.0",
          "state": {
            "_model_module": "@jupyter-widgets/controls",
            "_model_module_version": "1.5.0",
            "_model_name": "DescriptionStyleModel",
            "_view_count": null,
            "_view_module": "@jupyter-widgets/base",
            "_view_module_version": "1.2.0",
            "_view_name": "StyleView",
            "description_width": ""
          }
        },
        "ee582937d7ad4279ab5597cc7aa07e2f": {
          "model_module": "@jupyter-widgets/controls",
          "model_name": "HBoxModel",
          "model_module_version": "1.5.0",
          "state": {
            "_dom_classes": [],
            "_model_module": "@jupyter-widgets/controls",
            "_model_module_version": "1.5.0",
            "_model_name": "HBoxModel",
            "_view_count": null,
            "_view_module": "@jupyter-widgets/controls",
            "_view_module_version": "1.5.0",
            "_view_name": "HBoxView",
            "box_style": "",
            "children": [
              "IPY_MODEL_ac4af23dcbb14f109f2395757c9fe6d9",
              "IPY_MODEL_beb2e8950bf1423380965ed539488649",
              "IPY_MODEL_c8573b0d859c427c8c6b5d59a9b13a77"
            ],
            "layout": "IPY_MODEL_b6cb3f610b8d40d88e30fb97d0881b2f"
          }
        },
        "ac4af23dcbb14f109f2395757c9fe6d9": {
          "model_module": "@jupyter-widgets/controls",
          "model_name": "HTMLModel",
          "model_module_version": "1.5.0",
          "state": {
            "_dom_classes": [],
            "_model_module": "@jupyter-widgets/controls",
            "_model_module_version": "1.5.0",
            "_model_name": "HTMLModel",
            "_view_count": null,
            "_view_module": "@jupyter-widgets/controls",
            "_view_module_version": "1.5.0",
            "_view_name": "HTMLView",
            "description": "",
            "description_tooltip": null,
            "layout": "IPY_MODEL_604e6f420bb1446e9c6dd7c377fab58b",
            "placeholder": "​",
            "style": "IPY_MODEL_ac366a5829bf4d0a8712c042401182b7",
            "value": "Downloading: 100%"
          }
        },
        "beb2e8950bf1423380965ed539488649": {
          "model_module": "@jupyter-widgets/controls",
          "model_name": "FloatProgressModel",
          "model_module_version": "1.5.0",
          "state": {
            "_dom_classes": [],
            "_model_module": "@jupyter-widgets/controls",
            "_model_module_version": "1.5.0",
            "_model_name": "FloatProgressModel",
            "_view_count": null,
            "_view_module": "@jupyter-widgets/controls",
            "_view_module_version": "1.5.0",
            "_view_name": "ProgressView",
            "bar_style": "success",
            "description": "",
            "description_tooltip": null,
            "layout": "IPY_MODEL_6fe5a98c99f143559a6c6b09d72c34aa",
            "max": 53,
            "min": 0,
            "orientation": "horizontal",
            "style": "IPY_MODEL_835033ef1ee748378fe2f80671e2d749",
            "value": 53
          }
        },
        "c8573b0d859c427c8c6b5d59a9b13a77": {
          "model_module": "@jupyter-widgets/controls",
          "model_name": "HTMLModel",
          "model_module_version": "1.5.0",
          "state": {
            "_dom_classes": [],
            "_model_module": "@jupyter-widgets/controls",
            "_model_module_version": "1.5.0",
            "_model_name": "HTMLModel",
            "_view_count": null,
            "_view_module": "@jupyter-widgets/controls",
            "_view_module_version": "1.5.0",
            "_view_name": "HTMLView",
            "description": "",
            "description_tooltip": null,
            "layout": "IPY_MODEL_c60b05fc6c03436393b4861503338f8f",
            "placeholder": "​",
            "style": "IPY_MODEL_2d98973d17054b38a43698686e388a61",
            "value": " 53.0/53.0 [00:00&lt;00:00, 1.36kB/s]"
          }
        },
        "b6cb3f610b8d40d88e30fb97d0881b2f": {
          "model_module": "@jupyter-widgets/base",
          "model_name": "LayoutModel",
          "model_module_version": "1.2.0",
          "state": {
            "_model_module": "@jupyter-widgets/base",
            "_model_module_version": "1.2.0",
            "_model_name": "LayoutModel",
            "_view_count": null,
            "_view_module": "@jupyter-widgets/base",
            "_view_module_version": "1.2.0",
            "_view_name": "LayoutView",
            "align_content": null,
            "align_items": null,
            "align_self": null,
            "border": null,
            "bottom": null,
            "display": null,
            "flex": null,
            "flex_flow": null,
            "grid_area": null,
            "grid_auto_columns": null,
            "grid_auto_flow": null,
            "grid_auto_rows": null,
            "grid_column": null,
            "grid_gap": null,
            "grid_row": null,
            "grid_template_areas": null,
            "grid_template_columns": null,
            "grid_template_rows": null,
            "height": null,
            "justify_content": null,
            "justify_items": null,
            "left": null,
            "margin": null,
            "max_height": null,
            "max_width": null,
            "min_height": null,
            "min_width": null,
            "object_fit": null,
            "object_position": null,
            "order": null,
            "overflow": null,
            "overflow_x": null,
            "overflow_y": null,
            "padding": null,
            "right": null,
            "top": null,
            "visibility": null,
            "width": null
          }
        },
        "604e6f420bb1446e9c6dd7c377fab58b": {
          "model_module": "@jupyter-widgets/base",
          "model_name": "LayoutModel",
          "model_module_version": "1.2.0",
          "state": {
            "_model_module": "@jupyter-widgets/base",
            "_model_module_version": "1.2.0",
            "_model_name": "LayoutModel",
            "_view_count": null,
            "_view_module": "@jupyter-widgets/base",
            "_view_module_version": "1.2.0",
            "_view_name": "LayoutView",
            "align_content": null,
            "align_items": null,
            "align_self": null,
            "border": null,
            "bottom": null,
            "display": null,
            "flex": null,
            "flex_flow": null,
            "grid_area": null,
            "grid_auto_columns": null,
            "grid_auto_flow": null,
            "grid_auto_rows": null,
            "grid_column": null,
            "grid_gap": null,
            "grid_row": null,
            "grid_template_areas": null,
            "grid_template_columns": null,
            "grid_template_rows": null,
            "height": null,
            "justify_content": null,
            "justify_items": null,
            "left": null,
            "margin": null,
            "max_height": null,
            "max_width": null,
            "min_height": null,
            "min_width": null,
            "object_fit": null,
            "object_position": null,
            "order": null,
            "overflow": null,
            "overflow_x": null,
            "overflow_y": null,
            "padding": null,
            "right": null,
            "top": null,
            "visibility": null,
            "width": null
          }
        },
        "ac366a5829bf4d0a8712c042401182b7": {
          "model_module": "@jupyter-widgets/controls",
          "model_name": "DescriptionStyleModel",
          "model_module_version": "1.5.0",
          "state": {
            "_model_module": "@jupyter-widgets/controls",
            "_model_module_version": "1.5.0",
            "_model_name": "DescriptionStyleModel",
            "_view_count": null,
            "_view_module": "@jupyter-widgets/base",
            "_view_module_version": "1.2.0",
            "_view_name": "StyleView",
            "description_width": ""
          }
        },
        "6fe5a98c99f143559a6c6b09d72c34aa": {
          "model_module": "@jupyter-widgets/base",
          "model_name": "LayoutModel",
          "model_module_version": "1.2.0",
          "state": {
            "_model_module": "@jupyter-widgets/base",
            "_model_module_version": "1.2.0",
            "_model_name": "LayoutModel",
            "_view_count": null,
            "_view_module": "@jupyter-widgets/base",
            "_view_module_version": "1.2.0",
            "_view_name": "LayoutView",
            "align_content": null,
            "align_items": null,
            "align_self": null,
            "border": null,
            "bottom": null,
            "display": null,
            "flex": null,
            "flex_flow": null,
            "grid_area": null,
            "grid_auto_columns": null,
            "grid_auto_flow": null,
            "grid_auto_rows": null,
            "grid_column": null,
            "grid_gap": null,
            "grid_row": null,
            "grid_template_areas": null,
            "grid_template_columns": null,
            "grid_template_rows": null,
            "height": null,
            "justify_content": null,
            "justify_items": null,
            "left": null,
            "margin": null,
            "max_height": null,
            "max_width": null,
            "min_height": null,
            "min_width": null,
            "object_fit": null,
            "object_position": null,
            "order": null,
            "overflow": null,
            "overflow_x": null,
            "overflow_y": null,
            "padding": null,
            "right": null,
            "top": null,
            "visibility": null,
            "width": null
          }
        },
        "835033ef1ee748378fe2f80671e2d749": {
          "model_module": "@jupyter-widgets/controls",
          "model_name": "ProgressStyleModel",
          "model_module_version": "1.5.0",
          "state": {
            "_model_module": "@jupyter-widgets/controls",
            "_model_module_version": "1.5.0",
            "_model_name": "ProgressStyleModel",
            "_view_count": null,
            "_view_module": "@jupyter-widgets/base",
            "_view_module_version": "1.2.0",
            "_view_name": "StyleView",
            "bar_color": null,
            "description_width": ""
          }
        },
        "c60b05fc6c03436393b4861503338f8f": {
          "model_module": "@jupyter-widgets/base",
          "model_name": "LayoutModel",
          "model_module_version": "1.2.0",
          "state": {
            "_model_module": "@jupyter-widgets/base",
            "_model_module_version": "1.2.0",
            "_model_name": "LayoutModel",
            "_view_count": null,
            "_view_module": "@jupyter-widgets/base",
            "_view_module_version": "1.2.0",
            "_view_name": "LayoutView",
            "align_content": null,
            "align_items": null,
            "align_self": null,
            "border": null,
            "bottom": null,
            "display": null,
            "flex": null,
            "flex_flow": null,
            "grid_area": null,
            "grid_auto_columns": null,
            "grid_auto_flow": null,
            "grid_auto_rows": null,
            "grid_column": null,
            "grid_gap": null,
            "grid_row": null,
            "grid_template_areas": null,
            "grid_template_columns": null,
            "grid_template_rows": null,
            "height": null,
            "justify_content": null,
            "justify_items": null,
            "left": null,
            "margin": null,
            "max_height": null,
            "max_width": null,
            "min_height": null,
            "min_width": null,
            "object_fit": null,
            "object_position": null,
            "order": null,
            "overflow": null,
            "overflow_x": null,
            "overflow_y": null,
            "padding": null,
            "right": null,
            "top": null,
            "visibility": null,
            "width": null
          }
        },
        "2d98973d17054b38a43698686e388a61": {
          "model_module": "@jupyter-widgets/controls",
          "model_name": "DescriptionStyleModel",
          "model_module_version": "1.5.0",
          "state": {
            "_model_module": "@jupyter-widgets/controls",
            "_model_module_version": "1.5.0",
            "_model_name": "DescriptionStyleModel",
            "_view_count": null,
            "_view_module": "@jupyter-widgets/base",
            "_view_module_version": "1.2.0",
            "_view_name": "StyleView",
            "description_width": ""
          }
        },
        "a06626b964e64722a91857a77d1883ca": {
          "model_module": "@jupyter-widgets/controls",
          "model_name": "HBoxModel",
          "model_module_version": "1.5.0",
          "state": {
            "_dom_classes": [],
            "_model_module": "@jupyter-widgets/controls",
            "_model_module_version": "1.5.0",
            "_model_name": "HBoxModel",
            "_view_count": null,
            "_view_module": "@jupyter-widgets/controls",
            "_view_module_version": "1.5.0",
            "_view_name": "HBoxView",
            "box_style": "",
            "children": [
              "IPY_MODEL_bca605e2c8ac479b8132855d7c804e3e",
              "IPY_MODEL_4ae13437cff0404b81675540266e776c",
              "IPY_MODEL_f8519a16b48144cf8a54404d81562cc0"
            ],
            "layout": "IPY_MODEL_f6c75e53dd5140bcb28111481fa0cb23"
          }
        },
        "bca605e2c8ac479b8132855d7c804e3e": {
          "model_module": "@jupyter-widgets/controls",
          "model_name": "HTMLModel",
          "model_module_version": "1.5.0",
          "state": {
            "_dom_classes": [],
            "_model_module": "@jupyter-widgets/controls",
            "_model_module_version": "1.5.0",
            "_model_name": "HTMLModel",
            "_view_count": null,
            "_view_module": "@jupyter-widgets/controls",
            "_view_module_version": "1.5.0",
            "_view_name": "HTMLView",
            "description": "",
            "description_tooltip": null,
            "layout": "IPY_MODEL_669a6f7c6cb7467787801298cb665a5c",
            "placeholder": "​",
            "style": "IPY_MODEL_00cc8e85e8f348a5a5d7df42b1e4fd6c",
            "value": "Downloading: 100%"
          }
        },
        "4ae13437cff0404b81675540266e776c": {
          "model_module": "@jupyter-widgets/controls",
          "model_name": "FloatProgressModel",
          "model_module_version": "1.5.0",
          "state": {
            "_dom_classes": [],
            "_model_module": "@jupyter-widgets/controls",
            "_model_module_version": "1.5.0",
            "_model_name": "FloatProgressModel",
            "_view_count": null,
            "_view_module": "@jupyter-widgets/controls",
            "_view_module_version": "1.5.0",
            "_view_name": "ProgressView",
            "bar_style": "success",
            "description": "",
            "description_tooltip": null,
            "layout": "IPY_MODEL_cdeca46880f1419fac8d95ef27f7d9ee",
            "max": 112,
            "min": 0,
            "orientation": "horizontal",
            "style": "IPY_MODEL_fd0afa675b18481880d0cb0ccb269f37",
            "value": 112
          }
        },
        "f8519a16b48144cf8a54404d81562cc0": {
          "model_module": "@jupyter-widgets/controls",
          "model_name": "HTMLModel",
          "model_module_version": "1.5.0",
          "state": {
            "_dom_classes": [],
            "_model_module": "@jupyter-widgets/controls",
            "_model_module_version": "1.5.0",
            "_model_name": "HTMLModel",
            "_view_count": null,
            "_view_module": "@jupyter-widgets/controls",
            "_view_module_version": "1.5.0",
            "_view_name": "HTMLView",
            "description": "",
            "description_tooltip": null,
            "layout": "IPY_MODEL_0d76be93f81547938400d7c6bfdc7c36",
            "placeholder": "​",
            "style": "IPY_MODEL_9047c813fbda43db9fb2306fc4ae9d0b",
            "value": " 112/112 [00:00&lt;00:00, 2.51kB/s]"
          }
        },
        "f6c75e53dd5140bcb28111481fa0cb23": {
          "model_module": "@jupyter-widgets/base",
          "model_name": "LayoutModel",
          "model_module_version": "1.2.0",
          "state": {
            "_model_module": "@jupyter-widgets/base",
            "_model_module_version": "1.2.0",
            "_model_name": "LayoutModel",
            "_view_count": null,
            "_view_module": "@jupyter-widgets/base",
            "_view_module_version": "1.2.0",
            "_view_name": "LayoutView",
            "align_content": null,
            "align_items": null,
            "align_self": null,
            "border": null,
            "bottom": null,
            "display": null,
            "flex": null,
            "flex_flow": null,
            "grid_area": null,
            "grid_auto_columns": null,
            "grid_auto_flow": null,
            "grid_auto_rows": null,
            "grid_column": null,
            "grid_gap": null,
            "grid_row": null,
            "grid_template_areas": null,
            "grid_template_columns": null,
            "grid_template_rows": null,
            "height": null,
            "justify_content": null,
            "justify_items": null,
            "left": null,
            "margin": null,
            "max_height": null,
            "max_width": null,
            "min_height": null,
            "min_width": null,
            "object_fit": null,
            "object_position": null,
            "order": null,
            "overflow": null,
            "overflow_x": null,
            "overflow_y": null,
            "padding": null,
            "right": null,
            "top": null,
            "visibility": null,
            "width": null
          }
        },
        "669a6f7c6cb7467787801298cb665a5c": {
          "model_module": "@jupyter-widgets/base",
          "model_name": "LayoutModel",
          "model_module_version": "1.2.0",
          "state": {
            "_model_module": "@jupyter-widgets/base",
            "_model_module_version": "1.2.0",
            "_model_name": "LayoutModel",
            "_view_count": null,
            "_view_module": "@jupyter-widgets/base",
            "_view_module_version": "1.2.0",
            "_view_name": "LayoutView",
            "align_content": null,
            "align_items": null,
            "align_self": null,
            "border": null,
            "bottom": null,
            "display": null,
            "flex": null,
            "flex_flow": null,
            "grid_area": null,
            "grid_auto_columns": null,
            "grid_auto_flow": null,
            "grid_auto_rows": null,
            "grid_column": null,
            "grid_gap": null,
            "grid_row": null,
            "grid_template_areas": null,
            "grid_template_columns": null,
            "grid_template_rows": null,
            "height": null,
            "justify_content": null,
            "justify_items": null,
            "left": null,
            "margin": null,
            "max_height": null,
            "max_width": null,
            "min_height": null,
            "min_width": null,
            "object_fit": null,
            "object_position": null,
            "order": null,
            "overflow": null,
            "overflow_x": null,
            "overflow_y": null,
            "padding": null,
            "right": null,
            "top": null,
            "visibility": null,
            "width": null
          }
        },
        "00cc8e85e8f348a5a5d7df42b1e4fd6c": {
          "model_module": "@jupyter-widgets/controls",
          "model_name": "DescriptionStyleModel",
          "model_module_version": "1.5.0",
          "state": {
            "_model_module": "@jupyter-widgets/controls",
            "_model_module_version": "1.5.0",
            "_model_name": "DescriptionStyleModel",
            "_view_count": null,
            "_view_module": "@jupyter-widgets/base",
            "_view_module_version": "1.2.0",
            "_view_name": "StyleView",
            "description_width": ""
          }
        },
        "cdeca46880f1419fac8d95ef27f7d9ee": {
          "model_module": "@jupyter-widgets/base",
          "model_name": "LayoutModel",
          "model_module_version": "1.2.0",
          "state": {
            "_model_module": "@jupyter-widgets/base",
            "_model_module_version": "1.2.0",
            "_model_name": "LayoutModel",
            "_view_count": null,
            "_view_module": "@jupyter-widgets/base",
            "_view_module_version": "1.2.0",
            "_view_name": "LayoutView",
            "align_content": null,
            "align_items": null,
            "align_self": null,
            "border": null,
            "bottom": null,
            "display": null,
            "flex": null,
            "flex_flow": null,
            "grid_area": null,
            "grid_auto_columns": null,
            "grid_auto_flow": null,
            "grid_auto_rows": null,
            "grid_column": null,
            "grid_gap": null,
            "grid_row": null,
            "grid_template_areas": null,
            "grid_template_columns": null,
            "grid_template_rows": null,
            "height": null,
            "justify_content": null,
            "justify_items": null,
            "left": null,
            "margin": null,
            "max_height": null,
            "max_width": null,
            "min_height": null,
            "min_width": null,
            "object_fit": null,
            "object_position": null,
            "order": null,
            "overflow": null,
            "overflow_x": null,
            "overflow_y": null,
            "padding": null,
            "right": null,
            "top": null,
            "visibility": null,
            "width": null
          }
        },
        "fd0afa675b18481880d0cb0ccb269f37": {
          "model_module": "@jupyter-widgets/controls",
          "model_name": "ProgressStyleModel",
          "model_module_version": "1.5.0",
          "state": {
            "_model_module": "@jupyter-widgets/controls",
            "_model_module_version": "1.5.0",
            "_model_name": "ProgressStyleModel",
            "_view_count": null,
            "_view_module": "@jupyter-widgets/base",
            "_view_module_version": "1.2.0",
            "_view_name": "StyleView",
            "bar_color": null,
            "description_width": ""
          }
        },
        "0d76be93f81547938400d7c6bfdc7c36": {
          "model_module": "@jupyter-widgets/base",
          "model_name": "LayoutModel",
          "model_module_version": "1.2.0",
          "state": {
            "_model_module": "@jupyter-widgets/base",
            "_model_module_version": "1.2.0",
            "_model_name": "LayoutModel",
            "_view_count": null,
            "_view_module": "@jupyter-widgets/base",
            "_view_module_version": "1.2.0",
            "_view_name": "LayoutView",
            "align_content": null,
            "align_items": null,
            "align_self": null,
            "border": null,
            "bottom": null,
            "display": null,
            "flex": null,
            "flex_flow": null,
            "grid_area": null,
            "grid_auto_columns": null,
            "grid_auto_flow": null,
            "grid_auto_rows": null,
            "grid_column": null,
            "grid_gap": null,
            "grid_row": null,
            "grid_template_areas": null,
            "grid_template_columns": null,
            "grid_template_rows": null,
            "height": null,
            "justify_content": null,
            "justify_items": null,
            "left": null,
            "margin": null,
            "max_height": null,
            "max_width": null,
            "min_height": null,
            "min_width": null,
            "object_fit": null,
            "object_position": null,
            "order": null,
            "overflow": null,
            "overflow_x": null,
            "overflow_y": null,
            "padding": null,
            "right": null,
            "top": null,
            "visibility": null,
            "width": null
          }
        },
        "9047c813fbda43db9fb2306fc4ae9d0b": {
          "model_module": "@jupyter-widgets/controls",
          "model_name": "DescriptionStyleModel",
          "model_module_version": "1.5.0",
          "state": {
            "_model_module": "@jupyter-widgets/controls",
            "_model_module_version": "1.5.0",
            "_model_name": "DescriptionStyleModel",
            "_view_count": null,
            "_view_module": "@jupyter-widgets/base",
            "_view_module_version": "1.2.0",
            "_view_name": "StyleView",
            "description_width": ""
          }
        },
        "6012abfad15a4912a099ca95934be711": {
          "model_module": "@jupyter-widgets/controls",
          "model_name": "HBoxModel",
          "model_module_version": "1.5.0",
          "state": {
            "_dom_classes": [],
            "_model_module": "@jupyter-widgets/controls",
            "_model_module_version": "1.5.0",
            "_model_name": "HBoxModel",
            "_view_count": null,
            "_view_module": "@jupyter-widgets/controls",
            "_view_module_version": "1.5.0",
            "_view_name": "HBoxView",
            "box_style": "",
            "children": [
              "IPY_MODEL_09c3d5de63ff40f88c0b7e800dda3b7e",
              "IPY_MODEL_6041c3457774414fb90a8721917738d7",
              "IPY_MODEL_472e3c75b96544fd914b3d2ea0a72323"
            ],
            "layout": "IPY_MODEL_1b8b50ccb10849e4b3fa7acfb190ccf3"
          }
        },
        "09c3d5de63ff40f88c0b7e800dda3b7e": {
          "model_module": "@jupyter-widgets/controls",
          "model_name": "HTMLModel",
          "model_module_version": "1.5.0",
          "state": {
            "_dom_classes": [],
            "_model_module": "@jupyter-widgets/controls",
            "_model_module_version": "1.5.0",
            "_model_name": "HTMLModel",
            "_view_count": null,
            "_view_module": "@jupyter-widgets/controls",
            "_view_module_version": "1.5.0",
            "_view_name": "HTMLView",
            "description": "",
            "description_tooltip": null,
            "layout": "IPY_MODEL_c73d34c58d7f43efa41f8bcb44c3d19d",
            "placeholder": "​",
            "style": "IPY_MODEL_25b8940bfa2f40abb2974b8618498cb5",
            "value": "Downloading: 100%"
          }
        },
        "6041c3457774414fb90a8721917738d7": {
          "model_module": "@jupyter-widgets/controls",
          "model_name": "FloatProgressModel",
          "model_module_version": "1.5.0",
          "state": {
            "_dom_classes": [],
            "_model_module": "@jupyter-widgets/controls",
            "_model_module_version": "1.5.0",
            "_model_name": "FloatProgressModel",
            "_view_count": null,
            "_view_module": "@jupyter-widgets/controls",
            "_view_module_version": "1.5.0",
            "_view_name": "ProgressView",
            "bar_style": "success",
            "description": "",
            "description_tooltip": null,
            "layout": "IPY_MODEL_74f835bb6ee143d58d46a0ffc76342c3",
            "max": 466081,
            "min": 0,
            "orientation": "horizontal",
            "style": "IPY_MODEL_138597191cdf43f2a6d038216b3ba498",
            "value": 466081
          }
        },
        "472e3c75b96544fd914b3d2ea0a72323": {
          "model_module": "@jupyter-widgets/controls",
          "model_name": "HTMLModel",
          "model_module_version": "1.5.0",
          "state": {
            "_dom_classes": [],
            "_model_module": "@jupyter-widgets/controls",
            "_model_module_version": "1.5.0",
            "_model_name": "HTMLModel",
            "_view_count": null,
            "_view_module": "@jupyter-widgets/controls",
            "_view_module_version": "1.5.0",
            "_view_name": "HTMLView",
            "description": "",
            "description_tooltip": null,
            "layout": "IPY_MODEL_079f3673ee294828a9d4c4264da8cf8b",
            "placeholder": "​",
            "style": "IPY_MODEL_60a91ab510794de6a00737a07e98783f",
            "value": " 466k/466k [00:00&lt;00:00, 859kB/s]"
          }
        },
        "1b8b50ccb10849e4b3fa7acfb190ccf3": {
          "model_module": "@jupyter-widgets/base",
          "model_name": "LayoutModel",
          "model_module_version": "1.2.0",
          "state": {
            "_model_module": "@jupyter-widgets/base",
            "_model_module_version": "1.2.0",
            "_model_name": "LayoutModel",
            "_view_count": null,
            "_view_module": "@jupyter-widgets/base",
            "_view_module_version": "1.2.0",
            "_view_name": "LayoutView",
            "align_content": null,
            "align_items": null,
            "align_self": null,
            "border": null,
            "bottom": null,
            "display": null,
            "flex": null,
            "flex_flow": null,
            "grid_area": null,
            "grid_auto_columns": null,
            "grid_auto_flow": null,
            "grid_auto_rows": null,
            "grid_column": null,
            "grid_gap": null,
            "grid_row": null,
            "grid_template_areas": null,
            "grid_template_columns": null,
            "grid_template_rows": null,
            "height": null,
            "justify_content": null,
            "justify_items": null,
            "left": null,
            "margin": null,
            "max_height": null,
            "max_width": null,
            "min_height": null,
            "min_width": null,
            "object_fit": null,
            "object_position": null,
            "order": null,
            "overflow": null,
            "overflow_x": null,
            "overflow_y": null,
            "padding": null,
            "right": null,
            "top": null,
            "visibility": null,
            "width": null
          }
        },
        "c73d34c58d7f43efa41f8bcb44c3d19d": {
          "model_module": "@jupyter-widgets/base",
          "model_name": "LayoutModel",
          "model_module_version": "1.2.0",
          "state": {
            "_model_module": "@jupyter-widgets/base",
            "_model_module_version": "1.2.0",
            "_model_name": "LayoutModel",
            "_view_count": null,
            "_view_module": "@jupyter-widgets/base",
            "_view_module_version": "1.2.0",
            "_view_name": "LayoutView",
            "align_content": null,
            "align_items": null,
            "align_self": null,
            "border": null,
            "bottom": null,
            "display": null,
            "flex": null,
            "flex_flow": null,
            "grid_area": null,
            "grid_auto_columns": null,
            "grid_auto_flow": null,
            "grid_auto_rows": null,
            "grid_column": null,
            "grid_gap": null,
            "grid_row": null,
            "grid_template_areas": null,
            "grid_template_columns": null,
            "grid_template_rows": null,
            "height": null,
            "justify_content": null,
            "justify_items": null,
            "left": null,
            "margin": null,
            "max_height": null,
            "max_width": null,
            "min_height": null,
            "min_width": null,
            "object_fit": null,
            "object_position": null,
            "order": null,
            "overflow": null,
            "overflow_x": null,
            "overflow_y": null,
            "padding": null,
            "right": null,
            "top": null,
            "visibility": null,
            "width": null
          }
        },
        "25b8940bfa2f40abb2974b8618498cb5": {
          "model_module": "@jupyter-widgets/controls",
          "model_name": "DescriptionStyleModel",
          "model_module_version": "1.5.0",
          "state": {
            "_model_module": "@jupyter-widgets/controls",
            "_model_module_version": "1.5.0",
            "_model_name": "DescriptionStyleModel",
            "_view_count": null,
            "_view_module": "@jupyter-widgets/base",
            "_view_module_version": "1.2.0",
            "_view_name": "StyleView",
            "description_width": ""
          }
        },
        "74f835bb6ee143d58d46a0ffc76342c3": {
          "model_module": "@jupyter-widgets/base",
          "model_name": "LayoutModel",
          "model_module_version": "1.2.0",
          "state": {
            "_model_module": "@jupyter-widgets/base",
            "_model_module_version": "1.2.0",
            "_model_name": "LayoutModel",
            "_view_count": null,
            "_view_module": "@jupyter-widgets/base",
            "_view_module_version": "1.2.0",
            "_view_name": "LayoutView",
            "align_content": null,
            "align_items": null,
            "align_self": null,
            "border": null,
            "bottom": null,
            "display": null,
            "flex": null,
            "flex_flow": null,
            "grid_area": null,
            "grid_auto_columns": null,
            "grid_auto_flow": null,
            "grid_auto_rows": null,
            "grid_column": null,
            "grid_gap": null,
            "grid_row": null,
            "grid_template_areas": null,
            "grid_template_columns": null,
            "grid_template_rows": null,
            "height": null,
            "justify_content": null,
            "justify_items": null,
            "left": null,
            "margin": null,
            "max_height": null,
            "max_width": null,
            "min_height": null,
            "min_width": null,
            "object_fit": null,
            "object_position": null,
            "order": null,
            "overflow": null,
            "overflow_x": null,
            "overflow_y": null,
            "padding": null,
            "right": null,
            "top": null,
            "visibility": null,
            "width": null
          }
        },
        "138597191cdf43f2a6d038216b3ba498": {
          "model_module": "@jupyter-widgets/controls",
          "model_name": "ProgressStyleModel",
          "model_module_version": "1.5.0",
          "state": {
            "_model_module": "@jupyter-widgets/controls",
            "_model_module_version": "1.5.0",
            "_model_name": "ProgressStyleModel",
            "_view_count": null,
            "_view_module": "@jupyter-widgets/base",
            "_view_module_version": "1.2.0",
            "_view_name": "StyleView",
            "bar_color": null,
            "description_width": ""
          }
        },
        "079f3673ee294828a9d4c4264da8cf8b": {
          "model_module": "@jupyter-widgets/base",
          "model_name": "LayoutModel",
          "model_module_version": "1.2.0",
          "state": {
            "_model_module": "@jupyter-widgets/base",
            "_model_module_version": "1.2.0",
            "_model_name": "LayoutModel",
            "_view_count": null,
            "_view_module": "@jupyter-widgets/base",
            "_view_module_version": "1.2.0",
            "_view_name": "LayoutView",
            "align_content": null,
            "align_items": null,
            "align_self": null,
            "border": null,
            "bottom": null,
            "display": null,
            "flex": null,
            "flex_flow": null,
            "grid_area": null,
            "grid_auto_columns": null,
            "grid_auto_flow": null,
            "grid_auto_rows": null,
            "grid_column": null,
            "grid_gap": null,
            "grid_row": null,
            "grid_template_areas": null,
            "grid_template_columns": null,
            "grid_template_rows": null,
            "height": null,
            "justify_content": null,
            "justify_items": null,
            "left": null,
            "margin": null,
            "max_height": null,
            "max_width": null,
            "min_height": null,
            "min_width": null,
            "object_fit": null,
            "object_position": null,
            "order": null,
            "overflow": null,
            "overflow_x": null,
            "overflow_y": null,
            "padding": null,
            "right": null,
            "top": null,
            "visibility": null,
            "width": null
          }
        },
        "60a91ab510794de6a00737a07e98783f": {
          "model_module": "@jupyter-widgets/controls",
          "model_name": "DescriptionStyleModel",
          "model_module_version": "1.5.0",
          "state": {
            "_model_module": "@jupyter-widgets/controls",
            "_model_module_version": "1.5.0",
            "_model_name": "DescriptionStyleModel",
            "_view_count": null,
            "_view_module": "@jupyter-widgets/base",
            "_view_module_version": "1.2.0",
            "_view_name": "StyleView",
            "description_width": ""
          }
        },
        "0c07b4b21aa346728ea3a9025bccd148": {
          "model_module": "@jupyter-widgets/controls",
          "model_name": "HBoxModel",
          "model_module_version": "1.5.0",
          "state": {
            "_dom_classes": [],
            "_model_module": "@jupyter-widgets/controls",
            "_model_module_version": "1.5.0",
            "_model_name": "HBoxModel",
            "_view_count": null,
            "_view_module": "@jupyter-widgets/controls",
            "_view_module_version": "1.5.0",
            "_view_name": "HBoxView",
            "box_style": "",
            "children": [
              "IPY_MODEL_e2ee78101d6b49898e427d5a2d430b92",
              "IPY_MODEL_0affdb06054e425ba55eb011e403a4b9",
              "IPY_MODEL_9d0f812361bf4c42ad28b2b5e241927b"
            ],
            "layout": "IPY_MODEL_00b3a495653c4f6ba0875cbbe4827278"
          }
        },
        "e2ee78101d6b49898e427d5a2d430b92": {
          "model_module": "@jupyter-widgets/controls",
          "model_name": "HTMLModel",
          "model_module_version": "1.5.0",
          "state": {
            "_dom_classes": [],
            "_model_module": "@jupyter-widgets/controls",
            "_model_module_version": "1.5.0",
            "_model_name": "HTMLModel",
            "_view_count": null,
            "_view_module": "@jupyter-widgets/controls",
            "_view_module_version": "1.5.0",
            "_view_name": "HTMLView",
            "description": "",
            "description_tooltip": null,
            "layout": "IPY_MODEL_1611f0851cd44ab6a8a2775a8af9a51f",
            "placeholder": "​",
            "style": "IPY_MODEL_03578907a86041dda3247fd1f5b9520f",
            "value": "Downloading: 100%"
          }
        },
        "0affdb06054e425ba55eb011e403a4b9": {
          "model_module": "@jupyter-widgets/controls",
          "model_name": "FloatProgressModel",
          "model_module_version": "1.5.0",
          "state": {
            "_dom_classes": [],
            "_model_module": "@jupyter-widgets/controls",
            "_model_module_version": "1.5.0",
            "_model_name": "FloatProgressModel",
            "_view_count": null,
            "_view_module": "@jupyter-widgets/controls",
            "_view_module_version": "1.5.0",
            "_view_name": "ProgressView",
            "bar_style": "success",
            "description": "",
            "description_tooltip": null,
            "layout": "IPY_MODEL_c328ffda9772406c9e1752b5555f2388",
            "max": 399,
            "min": 0,
            "orientation": "horizontal",
            "style": "IPY_MODEL_cb3d857eca0f46938889559dc8381e8c",
            "value": 399
          }
        },
        "9d0f812361bf4c42ad28b2b5e241927b": {
          "model_module": "@jupyter-widgets/controls",
          "model_name": "HTMLModel",
          "model_module_version": "1.5.0",
          "state": {
            "_dom_classes": [],
            "_model_module": "@jupyter-widgets/controls",
            "_model_module_version": "1.5.0",
            "_model_name": "HTMLModel",
            "_view_count": null,
            "_view_module": "@jupyter-widgets/controls",
            "_view_module_version": "1.5.0",
            "_view_name": "HTMLView",
            "description": "",
            "description_tooltip": null,
            "layout": "IPY_MODEL_017acb97f04446078835598c3edea0ab",
            "placeholder": "​",
            "style": "IPY_MODEL_24e34dfe2fdb4a0aa947f4bc41f0eb89",
            "value": " 399/399 [00:00&lt;00:00, 8.47kB/s]"
          }
        },
        "00b3a495653c4f6ba0875cbbe4827278": {
          "model_module": "@jupyter-widgets/base",
          "model_name": "LayoutModel",
          "model_module_version": "1.2.0",
          "state": {
            "_model_module": "@jupyter-widgets/base",
            "_model_module_version": "1.2.0",
            "_model_name": "LayoutModel",
            "_view_count": null,
            "_view_module": "@jupyter-widgets/base",
            "_view_module_version": "1.2.0",
            "_view_name": "LayoutView",
            "align_content": null,
            "align_items": null,
            "align_self": null,
            "border": null,
            "bottom": null,
            "display": null,
            "flex": null,
            "flex_flow": null,
            "grid_area": null,
            "grid_auto_columns": null,
            "grid_auto_flow": null,
            "grid_auto_rows": null,
            "grid_column": null,
            "grid_gap": null,
            "grid_row": null,
            "grid_template_areas": null,
            "grid_template_columns": null,
            "grid_template_rows": null,
            "height": null,
            "justify_content": null,
            "justify_items": null,
            "left": null,
            "margin": null,
            "max_height": null,
            "max_width": null,
            "min_height": null,
            "min_width": null,
            "object_fit": null,
            "object_position": null,
            "order": null,
            "overflow": null,
            "overflow_x": null,
            "overflow_y": null,
            "padding": null,
            "right": null,
            "top": null,
            "visibility": null,
            "width": null
          }
        },
        "1611f0851cd44ab6a8a2775a8af9a51f": {
          "model_module": "@jupyter-widgets/base",
          "model_name": "LayoutModel",
          "model_module_version": "1.2.0",
          "state": {
            "_model_module": "@jupyter-widgets/base",
            "_model_module_version": "1.2.0",
            "_model_name": "LayoutModel",
            "_view_count": null,
            "_view_module": "@jupyter-widgets/base",
            "_view_module_version": "1.2.0",
            "_view_name": "LayoutView",
            "align_content": null,
            "align_items": null,
            "align_self": null,
            "border": null,
            "bottom": null,
            "display": null,
            "flex": null,
            "flex_flow": null,
            "grid_area": null,
            "grid_auto_columns": null,
            "grid_auto_flow": null,
            "grid_auto_rows": null,
            "grid_column": null,
            "grid_gap": null,
            "grid_row": null,
            "grid_template_areas": null,
            "grid_template_columns": null,
            "grid_template_rows": null,
            "height": null,
            "justify_content": null,
            "justify_items": null,
            "left": null,
            "margin": null,
            "max_height": null,
            "max_width": null,
            "min_height": null,
            "min_width": null,
            "object_fit": null,
            "object_position": null,
            "order": null,
            "overflow": null,
            "overflow_x": null,
            "overflow_y": null,
            "padding": null,
            "right": null,
            "top": null,
            "visibility": null,
            "width": null
          }
        },
        "03578907a86041dda3247fd1f5b9520f": {
          "model_module": "@jupyter-widgets/controls",
          "model_name": "DescriptionStyleModel",
          "model_module_version": "1.5.0",
          "state": {
            "_model_module": "@jupyter-widgets/controls",
            "_model_module_version": "1.5.0",
            "_model_name": "DescriptionStyleModel",
            "_view_count": null,
            "_view_module": "@jupyter-widgets/base",
            "_view_module_version": "1.2.0",
            "_view_name": "StyleView",
            "description_width": ""
          }
        },
        "c328ffda9772406c9e1752b5555f2388": {
          "model_module": "@jupyter-widgets/base",
          "model_name": "LayoutModel",
          "model_module_version": "1.2.0",
          "state": {
            "_model_module": "@jupyter-widgets/base",
            "_model_module_version": "1.2.0",
            "_model_name": "LayoutModel",
            "_view_count": null,
            "_view_module": "@jupyter-widgets/base",
            "_view_module_version": "1.2.0",
            "_view_name": "LayoutView",
            "align_content": null,
            "align_items": null,
            "align_self": null,
            "border": null,
            "bottom": null,
            "display": null,
            "flex": null,
            "flex_flow": null,
            "grid_area": null,
            "grid_auto_columns": null,
            "grid_auto_flow": null,
            "grid_auto_rows": null,
            "grid_column": null,
            "grid_gap": null,
            "grid_row": null,
            "grid_template_areas": null,
            "grid_template_columns": null,
            "grid_template_rows": null,
            "height": null,
            "justify_content": null,
            "justify_items": null,
            "left": null,
            "margin": null,
            "max_height": null,
            "max_width": null,
            "min_height": null,
            "min_width": null,
            "object_fit": null,
            "object_position": null,
            "order": null,
            "overflow": null,
            "overflow_x": null,
            "overflow_y": null,
            "padding": null,
            "right": null,
            "top": null,
            "visibility": null,
            "width": null
          }
        },
        "cb3d857eca0f46938889559dc8381e8c": {
          "model_module": "@jupyter-widgets/controls",
          "model_name": "ProgressStyleModel",
          "model_module_version": "1.5.0",
          "state": {
            "_model_module": "@jupyter-widgets/controls",
            "_model_module_version": "1.5.0",
            "_model_name": "ProgressStyleModel",
            "_view_count": null,
            "_view_module": "@jupyter-widgets/base",
            "_view_module_version": "1.2.0",
            "_view_name": "StyleView",
            "bar_color": null,
            "description_width": ""
          }
        },
        "017acb97f04446078835598c3edea0ab": {
          "model_module": "@jupyter-widgets/base",
          "model_name": "LayoutModel",
          "model_module_version": "1.2.0",
          "state": {
            "_model_module": "@jupyter-widgets/base",
            "_model_module_version": "1.2.0",
            "_model_name": "LayoutModel",
            "_view_count": null,
            "_view_module": "@jupyter-widgets/base",
            "_view_module_version": "1.2.0",
            "_view_name": "LayoutView",
            "align_content": null,
            "align_items": null,
            "align_self": null,
            "border": null,
            "bottom": null,
            "display": null,
            "flex": null,
            "flex_flow": null,
            "grid_area": null,
            "grid_auto_columns": null,
            "grid_auto_flow": null,
            "grid_auto_rows": null,
            "grid_column": null,
            "grid_gap": null,
            "grid_row": null,
            "grid_template_areas": null,
            "grid_template_columns": null,
            "grid_template_rows": null,
            "height": null,
            "justify_content": null,
            "justify_items": null,
            "left": null,
            "margin": null,
            "max_height": null,
            "max_width": null,
            "min_height": null,
            "min_width": null,
            "object_fit": null,
            "object_position": null,
            "order": null,
            "overflow": null,
            "overflow_x": null,
            "overflow_y": null,
            "padding": null,
            "right": null,
            "top": null,
            "visibility": null,
            "width": null
          }
        },
        "24e34dfe2fdb4a0aa947f4bc41f0eb89": {
          "model_module": "@jupyter-widgets/controls",
          "model_name": "DescriptionStyleModel",
          "model_module_version": "1.5.0",
          "state": {
            "_model_module": "@jupyter-widgets/controls",
            "_model_module_version": "1.5.0",
            "_model_name": "DescriptionStyleModel",
            "_view_count": null,
            "_view_module": "@jupyter-widgets/base",
            "_view_module_version": "1.2.0",
            "_view_name": "StyleView",
            "description_width": ""
          }
        },
        "8fd043f8529b41af8a5df296f5da9951": {
          "model_module": "@jupyter-widgets/controls",
          "model_name": "HBoxModel",
          "model_module_version": "1.5.0",
          "state": {
            "_dom_classes": [],
            "_model_module": "@jupyter-widgets/controls",
            "_model_module_version": "1.5.0",
            "_model_name": "HBoxModel",
            "_view_count": null,
            "_view_module": "@jupyter-widgets/controls",
            "_view_module_version": "1.5.0",
            "_view_name": "HBoxView",
            "box_style": "",
            "children": [
              "IPY_MODEL_d66a2f99270847aba7f0d06d764473f0",
              "IPY_MODEL_c4bd0747e4ea4debb168571fec45f14f",
              "IPY_MODEL_c641698e398f4381862ab0a96f2c261d"
            ],
            "layout": "IPY_MODEL_e19354e92d8044fabac84c258ffff0ca"
          }
        },
        "d66a2f99270847aba7f0d06d764473f0": {
          "model_module": "@jupyter-widgets/controls",
          "model_name": "HTMLModel",
          "model_module_version": "1.5.0",
          "state": {
            "_dom_classes": [],
            "_model_module": "@jupyter-widgets/controls",
            "_model_module_version": "1.5.0",
            "_model_name": "HTMLModel",
            "_view_count": null,
            "_view_module": "@jupyter-widgets/controls",
            "_view_module_version": "1.5.0",
            "_view_name": "HTMLView",
            "description": "",
            "description_tooltip": null,
            "layout": "IPY_MODEL_d053ab901c5a44c59ba5b26e035316f9",
            "placeholder": "​",
            "style": "IPY_MODEL_ff05d27065c74842bb1621dce91093fd",
            "value": "Downloading: 100%"
          }
        },
        "c4bd0747e4ea4debb168571fec45f14f": {
          "model_module": "@jupyter-widgets/controls",
          "model_name": "FloatProgressModel",
          "model_module_version": "1.5.0",
          "state": {
            "_dom_classes": [],
            "_model_module": "@jupyter-widgets/controls",
            "_model_module_version": "1.5.0",
            "_model_name": "FloatProgressModel",
            "_view_count": null,
            "_view_module": "@jupyter-widgets/controls",
            "_view_module_version": "1.5.0",
            "_view_name": "ProgressView",
            "bar_style": "success",
            "description": "",
            "description_tooltip": null,
            "layout": "IPY_MODEL_6dc8edcf7f4c4b79ba6ec4917d47e899",
            "max": 231508,
            "min": 0,
            "orientation": "horizontal",
            "style": "IPY_MODEL_faadcf5ee28643858d73ace5f749b630",
            "value": 231508
          }
        },
        "c641698e398f4381862ab0a96f2c261d": {
          "model_module": "@jupyter-widgets/controls",
          "model_name": "HTMLModel",
          "model_module_version": "1.5.0",
          "state": {
            "_dom_classes": [],
            "_model_module": "@jupyter-widgets/controls",
            "_model_module_version": "1.5.0",
            "_model_name": "HTMLModel",
            "_view_count": null,
            "_view_module": "@jupyter-widgets/controls",
            "_view_module_version": "1.5.0",
            "_view_name": "HTMLView",
            "description": "",
            "description_tooltip": null,
            "layout": "IPY_MODEL_4df55505ac9e48e2a724fde6430f4748",
            "placeholder": "​",
            "style": "IPY_MODEL_3e44df1c6e8a4b339f6a6f309d9a84ba",
            "value": " 232k/232k [00:00&lt;00:00, 962kB/s]"
          }
        },
        "e19354e92d8044fabac84c258ffff0ca": {
          "model_module": "@jupyter-widgets/base",
          "model_name": "LayoutModel",
          "model_module_version": "1.2.0",
          "state": {
            "_model_module": "@jupyter-widgets/base",
            "_model_module_version": "1.2.0",
            "_model_name": "LayoutModel",
            "_view_count": null,
            "_view_module": "@jupyter-widgets/base",
            "_view_module_version": "1.2.0",
            "_view_name": "LayoutView",
            "align_content": null,
            "align_items": null,
            "align_self": null,
            "border": null,
            "bottom": null,
            "display": null,
            "flex": null,
            "flex_flow": null,
            "grid_area": null,
            "grid_auto_columns": null,
            "grid_auto_flow": null,
            "grid_auto_rows": null,
            "grid_column": null,
            "grid_gap": null,
            "grid_row": null,
            "grid_template_areas": null,
            "grid_template_columns": null,
            "grid_template_rows": null,
            "height": null,
            "justify_content": null,
            "justify_items": null,
            "left": null,
            "margin": null,
            "max_height": null,
            "max_width": null,
            "min_height": null,
            "min_width": null,
            "object_fit": null,
            "object_position": null,
            "order": null,
            "overflow": null,
            "overflow_x": null,
            "overflow_y": null,
            "padding": null,
            "right": null,
            "top": null,
            "visibility": null,
            "width": null
          }
        },
        "d053ab901c5a44c59ba5b26e035316f9": {
          "model_module": "@jupyter-widgets/base",
          "model_name": "LayoutModel",
          "model_module_version": "1.2.0",
          "state": {
            "_model_module": "@jupyter-widgets/base",
            "_model_module_version": "1.2.0",
            "_model_name": "LayoutModel",
            "_view_count": null,
            "_view_module": "@jupyter-widgets/base",
            "_view_module_version": "1.2.0",
            "_view_name": "LayoutView",
            "align_content": null,
            "align_items": null,
            "align_self": null,
            "border": null,
            "bottom": null,
            "display": null,
            "flex": null,
            "flex_flow": null,
            "grid_area": null,
            "grid_auto_columns": null,
            "grid_auto_flow": null,
            "grid_auto_rows": null,
            "grid_column": null,
            "grid_gap": null,
            "grid_row": null,
            "grid_template_areas": null,
            "grid_template_columns": null,
            "grid_template_rows": null,
            "height": null,
            "justify_content": null,
            "justify_items": null,
            "left": null,
            "margin": null,
            "max_height": null,
            "max_width": null,
            "min_height": null,
            "min_width": null,
            "object_fit": null,
            "object_position": null,
            "order": null,
            "overflow": null,
            "overflow_x": null,
            "overflow_y": null,
            "padding": null,
            "right": null,
            "top": null,
            "visibility": null,
            "width": null
          }
        },
        "ff05d27065c74842bb1621dce91093fd": {
          "model_module": "@jupyter-widgets/controls",
          "model_name": "DescriptionStyleModel",
          "model_module_version": "1.5.0",
          "state": {
            "_model_module": "@jupyter-widgets/controls",
            "_model_module_version": "1.5.0",
            "_model_name": "DescriptionStyleModel",
            "_view_count": null,
            "_view_module": "@jupyter-widgets/base",
            "_view_module_version": "1.2.0",
            "_view_name": "StyleView",
            "description_width": ""
          }
        },
        "6dc8edcf7f4c4b79ba6ec4917d47e899": {
          "model_module": "@jupyter-widgets/base",
          "model_name": "LayoutModel",
          "model_module_version": "1.2.0",
          "state": {
            "_model_module": "@jupyter-widgets/base",
            "_model_module_version": "1.2.0",
            "_model_name": "LayoutModel",
            "_view_count": null,
            "_view_module": "@jupyter-widgets/base",
            "_view_module_version": "1.2.0",
            "_view_name": "LayoutView",
            "align_content": null,
            "align_items": null,
            "align_self": null,
            "border": null,
            "bottom": null,
            "display": null,
            "flex": null,
            "flex_flow": null,
            "grid_area": null,
            "grid_auto_columns": null,
            "grid_auto_flow": null,
            "grid_auto_rows": null,
            "grid_column": null,
            "grid_gap": null,
            "grid_row": null,
            "grid_template_areas": null,
            "grid_template_columns": null,
            "grid_template_rows": null,
            "height": null,
            "justify_content": null,
            "justify_items": null,
            "left": null,
            "margin": null,
            "max_height": null,
            "max_width": null,
            "min_height": null,
            "min_width": null,
            "object_fit": null,
            "object_position": null,
            "order": null,
            "overflow": null,
            "overflow_x": null,
            "overflow_y": null,
            "padding": null,
            "right": null,
            "top": null,
            "visibility": null,
            "width": null
          }
        },
        "faadcf5ee28643858d73ace5f749b630": {
          "model_module": "@jupyter-widgets/controls",
          "model_name": "ProgressStyleModel",
          "model_module_version": "1.5.0",
          "state": {
            "_model_module": "@jupyter-widgets/controls",
            "_model_module_version": "1.5.0",
            "_model_name": "ProgressStyleModel",
            "_view_count": null,
            "_view_module": "@jupyter-widgets/base",
            "_view_module_version": "1.2.0",
            "_view_name": "StyleView",
            "bar_color": null,
            "description_width": ""
          }
        },
        "4df55505ac9e48e2a724fde6430f4748": {
          "model_module": "@jupyter-widgets/base",
          "model_name": "LayoutModel",
          "model_module_version": "1.2.0",
          "state": {
            "_model_module": "@jupyter-widgets/base",
            "_model_module_version": "1.2.0",
            "_model_name": "LayoutModel",
            "_view_count": null,
            "_view_module": "@jupyter-widgets/base",
            "_view_module_version": "1.2.0",
            "_view_name": "LayoutView",
            "align_content": null,
            "align_items": null,
            "align_self": null,
            "border": null,
            "bottom": null,
            "display": null,
            "flex": null,
            "flex_flow": null,
            "grid_area": null,
            "grid_auto_columns": null,
            "grid_auto_flow": null,
            "grid_auto_rows": null,
            "grid_column": null,
            "grid_gap": null,
            "grid_row": null,
            "grid_template_areas": null,
            "grid_template_columns": null,
            "grid_template_rows": null,
            "height": null,
            "justify_content": null,
            "justify_items": null,
            "left": null,
            "margin": null,
            "max_height": null,
            "max_width": null,
            "min_height": null,
            "min_width": null,
            "object_fit": null,
            "object_position": null,
            "order": null,
            "overflow": null,
            "overflow_x": null,
            "overflow_y": null,
            "padding": null,
            "right": null,
            "top": null,
            "visibility": null,
            "width": null
          }
        },
        "3e44df1c6e8a4b339f6a6f309d9a84ba": {
          "model_module": "@jupyter-widgets/controls",
          "model_name": "DescriptionStyleModel",
          "model_module_version": "1.5.0",
          "state": {
            "_model_module": "@jupyter-widgets/controls",
            "_model_module_version": "1.5.0",
            "_model_name": "DescriptionStyleModel",
            "_view_count": null,
            "_view_module": "@jupyter-widgets/base",
            "_view_module_version": "1.2.0",
            "_view_name": "StyleView",
            "description_width": ""
          }
        },
        "68fb07adf39848d9b5015861ead37a09": {
          "model_module": "@jupyter-widgets/controls",
          "model_name": "HBoxModel",
          "model_module_version": "1.5.0",
          "state": {
            "_dom_classes": [],
            "_model_module": "@jupyter-widgets/controls",
            "_model_module_version": "1.5.0",
            "_model_name": "HBoxModel",
            "_view_count": null,
            "_view_module": "@jupyter-widgets/controls",
            "_view_module_version": "1.5.0",
            "_view_name": "HBoxView",
            "box_style": "",
            "children": [
              "IPY_MODEL_65e2bc1aebd7421c803aec91bf51e91e",
              "IPY_MODEL_01b9534085ff44dcad16e947a095d56c",
              "IPY_MODEL_1e2d1a37feed4585a84bbe209fb23dec"
            ],
            "layout": "IPY_MODEL_9f4cc8e7896f463282bb1c9db353710b"
          }
        },
        "65e2bc1aebd7421c803aec91bf51e91e": {
          "model_module": "@jupyter-widgets/controls",
          "model_name": "HTMLModel",
          "model_module_version": "1.5.0",
          "state": {
            "_dom_classes": [],
            "_model_module": "@jupyter-widgets/controls",
            "_model_module_version": "1.5.0",
            "_model_name": "HTMLModel",
            "_view_count": null,
            "_view_module": "@jupyter-widgets/controls",
            "_view_module_version": "1.5.0",
            "_view_name": "HTMLView",
            "description": "",
            "description_tooltip": null,
            "layout": "IPY_MODEL_bf1b1f89448f4420ac70c5e29eef93db",
            "placeholder": "​",
            "style": "IPY_MODEL_622442a89d9c4a3cbb2e1ded64b8b515",
            "value": "Downloading: 100%"
          }
        },
        "01b9534085ff44dcad16e947a095d56c": {
          "model_module": "@jupyter-widgets/controls",
          "model_name": "FloatProgressModel",
          "model_module_version": "1.5.0",
          "state": {
            "_dom_classes": [],
            "_model_module": "@jupyter-widgets/controls",
            "_model_module_version": "1.5.0",
            "_model_name": "FloatProgressModel",
            "_view_count": null,
            "_view_module": "@jupyter-widgets/controls",
            "_view_module_version": "1.5.0",
            "_view_name": "ProgressView",
            "bar_style": "success",
            "description": "",
            "description_tooltip": null,
            "layout": "IPY_MODEL_7c7edb966857484e8b5107b8ed94fb03",
            "max": 229,
            "min": 0,
            "orientation": "horizontal",
            "style": "IPY_MODEL_af654c32041d40a3bc4247a63e4bbf0f",
            "value": 229
          }
        },
        "1e2d1a37feed4585a84bbe209fb23dec": {
          "model_module": "@jupyter-widgets/controls",
          "model_name": "HTMLModel",
          "model_module_version": "1.5.0",
          "state": {
            "_dom_classes": [],
            "_model_module": "@jupyter-widgets/controls",
            "_model_module_version": "1.5.0",
            "_model_name": "HTMLModel",
            "_view_count": null,
            "_view_module": "@jupyter-widgets/controls",
            "_view_module_version": "1.5.0",
            "_view_name": "HTMLView",
            "description": "",
            "description_tooltip": null,
            "layout": "IPY_MODEL_adb3b67f7f0447e5aa8b3cfb159e3d7a",
            "placeholder": "​",
            "style": "IPY_MODEL_4fcc0e4cda924934ad467e2ff8b5e514",
            "value": " 229/229 [00:00&lt;00:00, 2.53kB/s]"
          }
        },
        "9f4cc8e7896f463282bb1c9db353710b": {
          "model_module": "@jupyter-widgets/base",
          "model_name": "LayoutModel",
          "model_module_version": "1.2.0",
          "state": {
            "_model_module": "@jupyter-widgets/base",
            "_model_module_version": "1.2.0",
            "_model_name": "LayoutModel",
            "_view_count": null,
            "_view_module": "@jupyter-widgets/base",
            "_view_module_version": "1.2.0",
            "_view_name": "LayoutView",
            "align_content": null,
            "align_items": null,
            "align_self": null,
            "border": null,
            "bottom": null,
            "display": null,
            "flex": null,
            "flex_flow": null,
            "grid_area": null,
            "grid_auto_columns": null,
            "grid_auto_flow": null,
            "grid_auto_rows": null,
            "grid_column": null,
            "grid_gap": null,
            "grid_row": null,
            "grid_template_areas": null,
            "grid_template_columns": null,
            "grid_template_rows": null,
            "height": null,
            "justify_content": null,
            "justify_items": null,
            "left": null,
            "margin": null,
            "max_height": null,
            "max_width": null,
            "min_height": null,
            "min_width": null,
            "object_fit": null,
            "object_position": null,
            "order": null,
            "overflow": null,
            "overflow_x": null,
            "overflow_y": null,
            "padding": null,
            "right": null,
            "top": null,
            "visibility": null,
            "width": null
          }
        },
        "bf1b1f89448f4420ac70c5e29eef93db": {
          "model_module": "@jupyter-widgets/base",
          "model_name": "LayoutModel",
          "model_module_version": "1.2.0",
          "state": {
            "_model_module": "@jupyter-widgets/base",
            "_model_module_version": "1.2.0",
            "_model_name": "LayoutModel",
            "_view_count": null,
            "_view_module": "@jupyter-widgets/base",
            "_view_module_version": "1.2.0",
            "_view_name": "LayoutView",
            "align_content": null,
            "align_items": null,
            "align_self": null,
            "border": null,
            "bottom": null,
            "display": null,
            "flex": null,
            "flex_flow": null,
            "grid_area": null,
            "grid_auto_columns": null,
            "grid_auto_flow": null,
            "grid_auto_rows": null,
            "grid_column": null,
            "grid_gap": null,
            "grid_row": null,
            "grid_template_areas": null,
            "grid_template_columns": null,
            "grid_template_rows": null,
            "height": null,
            "justify_content": null,
            "justify_items": null,
            "left": null,
            "margin": null,
            "max_height": null,
            "max_width": null,
            "min_height": null,
            "min_width": null,
            "object_fit": null,
            "object_position": null,
            "order": null,
            "overflow": null,
            "overflow_x": null,
            "overflow_y": null,
            "padding": null,
            "right": null,
            "top": null,
            "visibility": null,
            "width": null
          }
        },
        "622442a89d9c4a3cbb2e1ded64b8b515": {
          "model_module": "@jupyter-widgets/controls",
          "model_name": "DescriptionStyleModel",
          "model_module_version": "1.5.0",
          "state": {
            "_model_module": "@jupyter-widgets/controls",
            "_model_module_version": "1.5.0",
            "_model_name": "DescriptionStyleModel",
            "_view_count": null,
            "_view_module": "@jupyter-widgets/base",
            "_view_module_version": "1.2.0",
            "_view_name": "StyleView",
            "description_width": ""
          }
        },
        "7c7edb966857484e8b5107b8ed94fb03": {
          "model_module": "@jupyter-widgets/base",
          "model_name": "LayoutModel",
          "model_module_version": "1.2.0",
          "state": {
            "_model_module": "@jupyter-widgets/base",
            "_model_module_version": "1.2.0",
            "_model_name": "LayoutModel",
            "_view_count": null,
            "_view_module": "@jupyter-widgets/base",
            "_view_module_version": "1.2.0",
            "_view_name": "LayoutView",
            "align_content": null,
            "align_items": null,
            "align_self": null,
            "border": null,
            "bottom": null,
            "display": null,
            "flex": null,
            "flex_flow": null,
            "grid_area": null,
            "grid_auto_columns": null,
            "grid_auto_flow": null,
            "grid_auto_rows": null,
            "grid_column": null,
            "grid_gap": null,
            "grid_row": null,
            "grid_template_areas": null,
            "grid_template_columns": null,
            "grid_template_rows": null,
            "height": null,
            "justify_content": null,
            "justify_items": null,
            "left": null,
            "margin": null,
            "max_height": null,
            "max_width": null,
            "min_height": null,
            "min_width": null,
            "object_fit": null,
            "object_position": null,
            "order": null,
            "overflow": null,
            "overflow_x": null,
            "overflow_y": null,
            "padding": null,
            "right": null,
            "top": null,
            "visibility": null,
            "width": null
          }
        },
        "af654c32041d40a3bc4247a63e4bbf0f": {
          "model_module": "@jupyter-widgets/controls",
          "model_name": "ProgressStyleModel",
          "model_module_version": "1.5.0",
          "state": {
            "_model_module": "@jupyter-widgets/controls",
            "_model_module_version": "1.5.0",
            "_model_name": "ProgressStyleModel",
            "_view_count": null,
            "_view_module": "@jupyter-widgets/base",
            "_view_module_version": "1.2.0",
            "_view_name": "StyleView",
            "bar_color": null,
            "description_width": ""
          }
        },
        "adb3b67f7f0447e5aa8b3cfb159e3d7a": {
          "model_module": "@jupyter-widgets/base",
          "model_name": "LayoutModel",
          "model_module_version": "1.2.0",
          "state": {
            "_model_module": "@jupyter-widgets/base",
            "_model_module_version": "1.2.0",
            "_model_name": "LayoutModel",
            "_view_count": null,
            "_view_module": "@jupyter-widgets/base",
            "_view_module_version": "1.2.0",
            "_view_name": "LayoutView",
            "align_content": null,
            "align_items": null,
            "align_self": null,
            "border": null,
            "bottom": null,
            "display": null,
            "flex": null,
            "flex_flow": null,
            "grid_area": null,
            "grid_auto_columns": null,
            "grid_auto_flow": null,
            "grid_auto_rows": null,
            "grid_column": null,
            "grid_gap": null,
            "grid_row": null,
            "grid_template_areas": null,
            "grid_template_columns": null,
            "grid_template_rows": null,
            "height": null,
            "justify_content": null,
            "justify_items": null,
            "left": null,
            "margin": null,
            "max_height": null,
            "max_width": null,
            "min_height": null,
            "min_width": null,
            "object_fit": null,
            "object_position": null,
            "order": null,
            "overflow": null,
            "overflow_x": null,
            "overflow_y": null,
            "padding": null,
            "right": null,
            "top": null,
            "visibility": null,
            "width": null
          }
        },
        "4fcc0e4cda924934ad467e2ff8b5e514": {
          "model_module": "@jupyter-widgets/controls",
          "model_name": "DescriptionStyleModel",
          "model_module_version": "1.5.0",
          "state": {
            "_model_module": "@jupyter-widgets/controls",
            "_model_module_version": "1.5.0",
            "_model_name": "DescriptionStyleModel",
            "_view_count": null,
            "_view_module": "@jupyter-widgets/base",
            "_view_module_version": "1.2.0",
            "_view_name": "StyleView",
            "description_width": ""
          }
        }
      }
    }
  },
  "nbformat": 4,
  "nbformat_minor": 5
}